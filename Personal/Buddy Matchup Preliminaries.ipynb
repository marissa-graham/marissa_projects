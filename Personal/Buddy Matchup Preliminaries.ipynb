{
 "cells": [
  {
   "cell_type": "code",
   "execution_count": null,
   "metadata": {
    "collapsed": true
   },
   "outputs": [],
   "source": [
    "import csv\n",
    "import numpy as np\n",
    "import buddyDatabase as bd\n",
    "from matplotlib import pyplot as plt\n",
    "# A Survey class, which consists of a bunch of People, and the \n",
    "# rank_buddies and sort_buddies functions\n",
    "data = bd.get_data('buddies.tsv')\n",
    "database = bd.get_People(data)\n",
    "\n",
    "genders = np.zeros(6)\n",
    "pair_gender = np.zeros(2)\n",
    "ages = np.zeros(70)\n",
    "match_priorities = np.zeros(12)\n",
    "ptypes = np.zeros(4)\n",
    "for i in xrange(len(database)):\n",
    "    ages[database[i].age] += 1\n",
    "    genders[database[i].gender+1] += 1\n",
    "    pair_gender[database[i].pair_gender] += 1\n",
    "    match_priorities += database[i].priorities\n",
    "    ptypes[database[i].ptype+1] += 1\n",
    "print ptypes\n",
    "for i in xrange(12):\n",
    "    #print i, match_priorities[i]\n",
    "    pass\n",
    "    \n",
    "#print np.sum(match_priorities)/len(database), '\\n'\n",
    "for i in xrange(70):\n",
    "    if ages[i] > 0:\n",
    "        #print i, ages[i]\n",
    "        pass\n",
    "\n",
    "\"\"\"\n",
    "Matching priorities:\n",
    "0/4: Similar fitness goals \n",
    "    nonempty intersection of fitness_goals arrays\n",
    "1/5: Similar fitness interests\n",
    "    nonempty intersection of athlete_type arrays\n",
    "2/1: Age\n",
    "    within 3-5 years?\n",
    "3/0: Location\n",
    "    within 20-25 miles? ahhhh\n",
    "4/6: Similar weight loss/gain goals\n",
    "    Same, or abs(diff) <= 1\n",
    "5/3: Frequency of working out\n",
    "    Same, or abs(diff) <= 1\n",
    "6/9: Dietary preferences\n",
    "    nonempty intersection\n",
    "7/10: Personality type\n",
    "    Same or abs(diff) <= 1 \n",
    "8/2: Training age\n",
    "    Same or abs(diff) <= 1\n",
    "9/7: Training for the same type of competition\n",
    "    nonempty intersection\n",
    "10/8: Height\n",
    "    Same category\n",
    "11/11: Special circumstances\n",
    "    Same\n",
    "\"\"\"\n",
    "print database[88].priorities\n",
    "top = np.where(database[88].priorities)[0]\n",
    "print top\n",
    "default = np.array([4,5,1,0,6,3,9,10,2,7,8,11])\n",
    "for i in xrange(len(top)):\n",
    "    print i, top[i]\n",
    "    print np.where(default==top[i])\n",
    "    default = np.delete(default,np.where(default==top[i]))\n",
    "    default = np.insert(default,0,top[i])\n",
    "    print default"
   ]
  },
  {
   "cell_type": "code",
   "execution_count": null,
   "metadata": {
    "collapsed": true
   },
   "outputs": [],
   "source": []
  }
 ],
 "metadata": {
  "kernelspec": {
   "display_name": "Python 2",
   "language": "python",
   "name": "python2"
  },
  "language_info": {
   "codemirror_mode": {
    "name": "ipython",
    "version": 2
   },
   "file_extension": ".py",
   "mimetype": "text/x-python",
   "name": "python",
   "nbconvert_exporter": "python",
   "pygments_lexer": "ipython2",
   "version": "2.7.11"
  }
 },
 "nbformat": 4,
 "nbformat_minor": 0
}
