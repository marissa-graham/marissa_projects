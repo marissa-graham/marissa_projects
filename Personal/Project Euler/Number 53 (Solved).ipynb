{
 "cells": [
  {
   "cell_type": "code",
   "execution_count": 2,
   "metadata": {
    "collapsed": false
   },
   "outputs": [
    {
     "name": "stdout",
     "output_type": "stream",
     "text": [
      "True\n"
     ]
    }
   ],
   "source": [
    "\"\"\"\n",
    "There are exactly ten ways of selecting three from five, 12345:\n",
    "\n",
    "123, 124, 125, 134, 135, 145, 234, 235, 245, and 345\n",
    "\n",
    "In combinatorics, we use the notation, 5C3 = 10.\n",
    "\n",
    "In general,\n",
    "\n",
    "nCr =\n",
    "n!\n",
    "r!(n−r)!\n",
    ",where r ≤ n, n! = n×(n−1)×...×3×2×1, and 0! = 1.\n",
    "It is not until n = 23, that a value exceeds one-million: 23C10 = 1144066.\n",
    "\n",
    "How many, not necessarily distinct, values of  nCr, for 1 ≤ n ≤ 100, are\n",
    "greater than one-million?\"\"\"\n",
    "\n",
    "def nCr(n,r):\n",
    "    \"\"\"\n",
    "    Need n(n-1)(n-2)...(n-r+1) / r(r-1)(r-2)... 2\n",
    "    \n",
    "    n/r * (n-1)/(r-1) * ... * (n-r+2)/2 * (n-r+1)/1\n",
    "    \"\"\"\n",
    "    mul = n - r + 1\n",
    "    to_check = 1000000\n",
    "    for r0 in xrange(2,r+1):\n",
    "        mul *= n - r + r0\n",
    "        to_check *= r0\n",
    "        \n",
    "        if mul > to_check:\n",
    "            return True\n",
    "        \n",
    "tot = 0\n",
    "for i in xrange(1,100):\n",
    "    for j in xrange()\n",
    "\n",
    "print nCr(23,10)"
   ]
  },
  {
   "cell_type": "code",
   "execution_count": null,
   "metadata": {
    "collapsed": true
   },
   "outputs": [],
   "source": []
  }
 ],
 "metadata": {
  "kernelspec": {
   "display_name": "Python 2",
   "language": "python",
   "name": "python2"
  },
  "language_info": {
   "codemirror_mode": {
    "name": "ipython",
    "version": 2
   },
   "file_extension": ".py",
   "mimetype": "text/x-python",
   "name": "python",
   "nbconvert_exporter": "python",
   "pygments_lexer": "ipython2",
   "version": "2.7.13"
  }
 },
 "nbformat": 4,
 "nbformat_minor": 0
}
