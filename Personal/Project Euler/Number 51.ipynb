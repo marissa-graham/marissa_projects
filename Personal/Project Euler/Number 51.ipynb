{
 "cells": [
  {
   "cell_type": "code",
   "execution_count": 1,
   "metadata": {
    "collapsed": true
   },
   "outputs": [],
   "source": [
    "import numpy as np\n",
    "import itertools\n",
    "\n",
    "def lookuptable(n):\n",
    "    primebools = np.array([True for i in xrange(n)])\n",
    "    primebools[0] = False\n",
    "    primebools[1] = False\n",
    "    done = int(np.floor(np.sqrt(n)))+1\n",
    "    for i in xrange(2,done):\n",
    "        primebools[2*i::i] = False\n",
    "    primes = np.array(np.where(primebools == True))[0]\n",
    "    return primebools, primes\n",
    "\n",
    "n = 10000000\n",
    "primebools, primes = lookuptable(n)\n",
    "m = len(primes)\n",
    "\n",
    "primestrings = set()\n",
    "for i in xrange(m):\n",
    "    primestrings.add(str(primes[i]))\n",
    "\n",
    "digitlists = []\n",
    "for i in xrange(m):\n",
    "    digitlists.append([int(x) for x in str(primes[i])])\n",
    "\n",
    "magic = lambda nums: int(''.join(str(i) for i in nums))    "
   ]
  },
  {
   "cell_type": "code",
   "execution_count": 2,
   "metadata": {
    "collapsed": false
   },
   "outputs": [
    {
     "name": "stdout",
     "output_type": "stream",
     "text": [
      "664579 prime numbers below n\n",
      "set([100109])\n",
      "\tset([888109]) \n",
      "\n",
      "set([100109, 106109])\n",
      "\tset([888109]) \n",
      "\n",
      "set([107857, 100109, 106109])\n",
      "\tset([888857, 888109]) \n",
      "\n",
      "set([107857, 100109, 108109, 106109])\n",
      "\tset([888857, 888109]) \n",
      "\n",
      "set([107857, 111109, 100109, 108109, 106109])\n",
      "\tset([888857, 888109]) \n",
      "\n",
      "set([111109, 111857, 100109, 108109, 107857, 106109])\n",
      "\tset([888857, 888109]) \n",
      "\n",
      "failed\n"
     ]
    }
   ],
   "source": [
    "# Problem 51\n",
    "\n",
    "\"\"\"\n",
    "By replacing the 1st digit of the 2-digit number *3, it turns out that six of \n",
    "the nine possible values: 13, 23, 43, 53, 73, and 83, are all prime.\n",
    "\n",
    "By replacing the 3rd and 4th digits of 56**3 with the same digit, this 5-digit \n",
    "number is the first example having seven primes among the ten generated numbers, \n",
    "yielding the family: 56003, 56113, 56333, 56443, 56663, 56773, and 56993. \n",
    "Consequently 56003, being the first member of this family, is the smallest prime \n",
    "with this property.\n",
    "\n",
    "Find the smallest prime which, by replacing part of the number (not necessarily \n",
    "adjacent digits) with the same digit, is part of an eight prime value family.\n",
    "\"\"\"\n",
    "\n",
    "\n",
    "def search51():\n",
    "    \"\"\"\n",
    "    Make a prime lookup table up to size n. Start checking.\n",
    "    \"\"\"\n",
    "    \n",
    "    print m, 'prime numbers below n'\n",
    "    \n",
    "    mins = set()\n",
    "    maxs = set()\n",
    "    minlen = 0\n",
    "    \n",
    "    # For each prime number\n",
    "    for i in xrange(m):\n",
    "        print i,'\\r',\n",
    "        digits = len(digitlists[i])\n",
    "           \n",
    "        # For each possible number of digits to be replaced\n",
    "        for r in xrange(1,digits+1):\n",
    "            # For each combination of digits that can be replaced\n",
    "            for c in itertools.combinations(range(r), r):\n",
    "                family = set()\n",
    "                \n",
    "                # For each digit\n",
    "                for j in xrange(10):\n",
    "                    mylist = digitlists[i][:]\n",
    "                    for k in xrange(len(c)):\n",
    "                        if c[k] == 0 and j == 0:\n",
    "                            break\n",
    "                        mylist[c[k]] = j\n",
    "                    if primebools[magic(mylist)]:\n",
    "                        family.add(magic(mylist))\n",
    "                        \n",
    "                if len(family) == 8:\n",
    "                    mins.add(min(family))\n",
    "                    maxs.add(max(family))\n",
    "        \n",
    "        if len(mins) > minlen:\n",
    "            minlen = len(mins)\n",
    "            print mins\n",
    "            print '\\t', maxs, '\\n'\n",
    "                \n",
    "    print \"failed\"\n",
    "        \n",
    "search51()"
   ]
  },
  {
   "cell_type": "code",
   "execution_count": null,
   "metadata": {
    "collapsed": true
   },
   "outputs": [],
   "source": []
  }
 ],
 "metadata": {
  "kernelspec": {
   "display_name": "Python 2",
   "language": "python",
   "name": "python2"
  },
  "language_info": {
   "codemirror_mode": {
    "name": "ipython",
    "version": 2
   },
   "file_extension": ".py",
   "mimetype": "text/x-python",
   "name": "python",
   "nbconvert_exporter": "python",
   "pygments_lexer": "ipython2",
   "version": "2.7.13"
  }
 },
 "nbformat": 4,
 "nbformat_minor": 0
}
