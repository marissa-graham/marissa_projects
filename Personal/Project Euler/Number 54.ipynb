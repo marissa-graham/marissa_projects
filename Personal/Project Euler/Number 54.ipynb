{
 "cells": [
  {
   "cell_type": "code",
   "execution_count": null,
   "metadata": {
    "collapsed": true
   },
   "outputs": [],
   "source": []
  },
  {
   "cell_type": "markdown",
   "metadata": {},
   "source": [
    "In the card game poker, a hand consists of five cards and are ranked, from lowest to highest, in the following way:\n",
    "\n",
    "* High Card: Highest value card.\n",
    "* One Pair: Two cards of the same value.\n",
    "* Two Pairs: Two different pairs.\n",
    "* Three of a Kind: Three cards of the same value.\n",
    "* Straight: All cards are consecutive values.\n",
    "* Flush: All cards of the same suit.\n",
    "* Full House: Three of a kind and a pair.\n",
    "* Four of a Kind: Four cards of the same value.\n",
    "* Straight Flush: All cards are consecutive values of same suit.\n",
    "* Royal Flush: Ten, Jack, Queen, King, Ace, in same suit.\n",
    "\n",
    "The cards are valued in the order:\n",
    "2, 3, 4, 5, 6, 7, 8, 9, 10, Jack, Queen, King, Ace.\n",
    "\n",
    "If two players have the same ranked hands then the rank made up of the highest value wins; for example, a pair of eights beats a pair of fives (see example 1 below). But if two ranks tie, for example, both players have a pair of queens, then highest cards in each hand are compared (see example 4 below); if the highest cards tie then the next highest cards are compared, and so on.\n",
    "\n",
    "Consider the following five hands dealt to two players:\n",
    "\n",
    "Hand\t \tPlayer 1\t \tPlayer 2\t \tWinner\n",
    "1\t \t5H 5C 6S 7S KD\n",
    "Pair of Fives\n",
    " \t2C 3S 8S 8D TD\n",
    "Pair of Eights\n",
    " \tPlayer 2\n",
    "2\t \t5D 8C 9S JS AC\n",
    "Highest card Ace\n",
    " \t2C 5C 7D 8S QH\n",
    "Highest card Queen\n",
    " \tPlayer 1\n",
    "3\t \t2D 9C AS AH AC\n",
    "Three Aces\n",
    " \t3D 6D 7D TD QD\n",
    "Flush with Diamonds\n",
    " \tPlayer 2\n",
    "4\t \t4D 6S 9H QH QC\n",
    "Pair of Queens\n",
    "Highest card Nine\n",
    " \t3D 6D 7H QD QS\n",
    "Pair of Queens\n",
    "Highest card Seven\n",
    " \tPlayer 1\n",
    "5\t \t2H 2D 4C 4D 4S\n",
    "Full House\n",
    "With Three Fours\n",
    " \t3C 3D 3S 9S 9D\n",
    "Full House\n",
    "with Three Threes\n",
    " \tPlayer 1\n",
    "The file, poker.txt, contains one-thousand random hands dealt to two players. Each line of the file contains ten cards (separated by a single space): the first five are Player 1's cards and the last five are Player 2's cards. You can assume that all hands are valid (no invalid characters or repeated cards), each player's hand is in no specific order, and in each hand there is a clear winner.\n",
    "\n",
    "How many hands does Player 1 win?"
   ]
  },
  {
   "cell_type": "code",
   "execution_count": null,
   "metadata": {
    "collapsed": true
   },
   "outputs": [],
   "source": []
  }
 ],
 "metadata": {
  "kernelspec": {
   "display_name": "Python 2",
   "language": "python",
   "name": "python2"
  },
  "language_info": {
   "codemirror_mode": {
    "name": "ipython",
    "version": 2
   },
   "file_extension": ".py",
   "mimetype": "text/x-python",
   "name": "python",
   "nbconvert_exporter": "python",
   "pygments_lexer": "ipython2",
   "version": "2.7.13"
  }
 },
 "nbformat": 4,
 "nbformat_minor": 0
}
