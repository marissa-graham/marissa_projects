{
 "cells": [
  {
   "cell_type": "code",
   "execution_count": 2,
   "metadata": {
    "collapsed": false
   },
   "outputs": [
    {
     "data": {
      "image/png": "[encoded data removed]",
      "text/plain": [
       "<matplotlib.figure.Figure at 0x89e5518>"
      ]
     },
     "metadata": {},
     "output_type": "display_data"
    }
   ],
   "source": [
    "from matplotlib import pyplot as plt\n",
    "%matplotlib inline\n",
    "plt.scatter([1,3,4,5,7],[1,2,3,4,5])\n",
    "plt.show()"
   ]
  },
  {
   "cell_type": "code",
   "execution_count": 4,
   "metadata": {
    "collapsed": false
   },
   "outputs": [
    {
     "data": {
      "image/png": "[encoded data removed]",
      "text/plain": [
       "<matplotlib.figure.Figure at 0x6c88f98>"
      ]
     },
     "metadata": {},
     "output_type": "display_data"
    }
   ],
   "source": [
    "import numpy as np\n",
    "from matplotlib import pyplot as plt\n",
    "from scipy import linalg as la\n",
    "import splines\n",
    "%matplotlib inline\n",
    "\n",
    "N = 500\n",
    "p = 3\n",
    "m = 7\n",
    "n = m - p - 1\n",
    "\n",
    "\n",
    "# Perturbation\n",
    "\n",
    "U1 = np.array([0,0,0,0,5,5,5,5])\n",
    "P1 = np.array([[0,0.5,2,5],[4,6,7,5.2]])\n",
    "u1 = np.linspace(U1[0],U1[-1],N)\n",
    "out = np.zeros((2,N))\n",
    "for i in xrange(N):\n",
    "    out[:,i] = splines.curve_point(n,p,U1,P1,u1[i])\n",
    "\n",
    "plt.scatter(P1[0,:],P1[1,:])\n",
    "plt.plot(out[0,:],out[1,:])\n",
    "plt.xlim(-1,16)\n",
    "plt.ylim(0,12)\n",
    "\n",
    "U1 = np.array([5,5,5,5,10,10,10,10])\n",
    "P1 = np.array([[5,7,9,10],[4.9,4.0,4,6.1]])\n",
    "u1 = np.linspace(U1[0],U1[-1],N)\n",
    "out = np.zeros((2,N))\n",
    "for i in xrange(N):\n",
    "    out[:,i] = splines.curve_point(n,p,U1,P1,u1[i])\n",
    "\n",
    "plt.scatter(P1[0,:],P1[1,:],color='green')\n",
    "plt.plot(out[0,:],out[1,:])\n",
    "plt.xlim(-1,16)\n",
    "plt.ylim(0,12)\n",
    "\n",
    "U1 = np.array([10,10,10,10,15,15,15,15])\n",
    "P1 = np.array([[10,12,14,15],[5.9,10,10.5,9]])\n",
    "u1 = np.linspace(U1[0],U1[-1],N)\n",
    "out = np.zeros((2,N))\n",
    "for i in xrange(N):\n",
    "    out[:,i] = splines.curve_point(n,p,U1,P1,u1[i])\n",
    "\n",
    "plt.scatter(P1[0,:],P1[1,:],color='red')\n",
    "plt.plot(out[0,:],out[1,:])\n",
    "plt.xlim(-1,16)\n",
    "plt.ylim(0,12)\n",
    "\n",
    "plt.savefig('bezierprojectionperturbed.png',dpi=500)"
   ]
  },
  {
   "cell_type": "code",
   "execution_count": 5,
   "metadata": {
    "collapsed": false
   },
   "outputs": [
    {
     "data": {
      "image/png": "[encoded data removed]",
      "text/plain": [
       "<matplotlib.figure.Figure at 0x87612e8>"
      ]
     },
     "metadata": {},
     "output_type": "display_data"
    }
   ],
   "source": [
    "\n",
    "U1 = np.array([0,0,0,0,5,5,5,5])\n",
    "P1 = np.array([[0,0.5,2,5],[4,6,7,5]])\n",
    "u1 = np.linspace(U1[0],U1[-1],N)\n",
    "out = np.zeros((2,N))\n",
    "for i in xrange(N):\n",
    "    out[:,i] = splines.curve_point(n,p,U1,P1,u1[i])\n",
    "\n",
    "plt.scatter(P1[0,:],P1[1,:])\n",
    "plt.scatter(np.array([0.25,1.25,3.5]),np.array([5,6.5,6]))\n",
    "plt.plot(out[0,:],out[1,:])\n",
    "plt.xlim(-1,16)\n",
    "plt.ylim(0,12)\n",
    "\n",
    "U1 = np.array([5,5,5,5,10,10,10,10])\n",
    "P1 = np.array([[5,7,9,10],[5,4.0,4,6]])\n",
    "u1 = np.linspace(U1[0],U1[-1],N)\n",
    "out = np.zeros((2,N))\n",
    "for i in xrange(N):\n",
    "    out[:,i] = splines.curve_point(n,p,U1,P1,u1[i])\n",
    "\n",
    "plt.scatter(P1[0,:],P1[1,:],color='green')\n",
    "plt.scatter([6,8,9.5],[4.5,4.0,5],color='green')\n",
    "plt.plot(out[0,:],out[1,:])\n",
    "plt.xlim(-1,16)\n",
    "plt.ylim(0,12)\n",
    "\n",
    "U1 = np.array([10,10,10,10,15,15,15,15])\n",
    "P1 = np.array([[10,12,14,15],[6,10,10.5,9]])\n",
    "u1 = np.linspace(U1[0],U1[-1],N)\n",
    "out = np.zeros((2,N))\n",
    "for i in xrange(N):\n",
    "    out[:,i] = splines.curve_point(n,p,U1,P1,u1[i])\n",
    "\n",
    "plt.scatter(P1[0,:],P1[1,:],color='red')\n",
    "plt.scatter([11,13,14.5],[8,10.25,9.75],color='red')\n",
    "plt.plot(out[0,:],out[1,:])\n",
    "plt.xlim(-1,16)\n",
    "plt.ylim(0,12)\n",
    "\n",
    "plt.savefig('bezierprojectiondemo.png',dpi=500)"
   ]
  },
  {
   "cell_type": "code",
   "execution_count": null,
   "metadata": {
    "collapsed": false
   },
   "outputs": [],
   "source": [
    "import numpy as np\n",
    "from matplotlib import pyplot as plt\n",
    "from scipy import linalg as la\n",
    "import splines\n",
    "%matplotlib inline\n",
    "\n",
    "p = 3\n",
    "N = 1000\n",
    "U = np.array([0,0,0,0,1,2,3,4,4,4,4])\n",
    "m = len(U) - 1\n",
    "n = m - p - 1\n",
    "x = np.linspace(0,4,N)\n",
    "P = np.array([[0,0.5,1,1.1,1.9,3,3.5],\\\n",
    "              [4,3.8,2,0.1,1,7,6]])\n",
    "for j in xrange(n+1):\n",
    "    y = np.zeros(N)\n",
    "    for i in xrange(N):\n",
    "        y[i] = splines.one_basis_func(p,m,U,j,x[i])\n",
    "    plt.plot(x,y)\n",
    "plt.savefig('Bspline_basis_funcs.png')\n",
    "\n",
    "splines.plot_spline(n,p,U,P,N,save_img=True,filename='Bspline2017.png')"
   ]
  },
  {
   "cell_type": "code",
   "execution_count": null,
   "metadata": {
    "collapsed": false
   },
   "outputs": [],
   "source": [
    "import numpy as np\n",
    "from matplotlib import pyplot as plt\n",
    "%matplotlib inline\n",
    "\n",
    "def fn(x,n):\n",
    "    if n == 0:\n",
    "        return 1/3.\n",
    "    else:\n",
    "        if x <= 1/3.:\n",
    "            return 2/3. + 1/3.*fn(3*x,n-1)\n",
    "        elif x >= 2/3.:\n",
    "            return x-2/3.\n",
    "        else:\n",
    "            return 7/3.*(2/3.-x)\n",
    "\n",
    "n = 100000\n",
    "x = np.linspace(0,1,n)\n",
    "\n",
    "f = 1/3.0*np.ones(n)\n",
    "\n",
    "for i in xrange(4):\n",
    "    plt.subplot(4,2,i+1)\n",
    "    plt.plot(x,f)\n",
    "    plt.title('f_%s'%i)\n",
    "    plt.ylim([0,1])\n",
    "    y = np.array([1/27.,25/27.,7/27.,19/27.])\n",
    "    fy = np.zeros(4)\n",
    "    for j in xrange(4):\n",
    "        fy[j] = fn(y[j],i)\n",
    "    plt.scatter(y,fy)\n",
    "    \n",
    "    temp = np.zeros(n)\n",
    "    temp[:int(n/3)] = 2/3. + 1/3.*f[:-1:3]\n",
    "    temp[int(n/3):2*int(n/3)] = (2/3.-x[int(n/3):2*int(n/3)])*(2+f[-1])\n",
    "    temp[2*int(n/3):] = x[2*int(n/3):] - 0.666\n",
    "    f = temp\n",
    "\n",
    "plt.tight_layout()\n",
    "plt.savefig('doublemap.png')"
   ]
  },
  {
   "cell_type": "code",
   "execution_count": null,
   "metadata": {
    "collapsed": false
   },
   "outputs": [],
   "source": []
  },
  {
   "cell_type": "code",
   "execution_count": null,
   "metadata": {
    "collapsed": false
   },
   "outputs": [],
   "source": []
  },
  {
   "cell_type": "code",
   "execution_count": null,
   "metadata": {
    "collapsed": false
   },
   "outputs": [],
   "source": [
    "import numpy as np\n",
    "\n",
    "A = np.array([[1,1],[0,1]])\n",
    "B = np.array([[1,1,1],[0,1,1],[0,0,1]])\n",
    "C = np.array([[1,1,1,1,1],[1,1,1,1,1],[1,1,1,1,1],[0,0,0,1,1],[0,0,0,1,1]])\n",
    "\n",
    "A_temp = A\n",
    "for i in xrange(2,10):\n",
    "    A_temp = np.dot(A_temp,A)\n",
    "    print A_temp\n",
    "    \n",
    "B_temp = B\n",
    "for i in xrange(2,10):\n",
    "    B_temp = np.dot(B_temp,B)\n",
    "    print B_temp\n",
    "\n",
    "C_temp = C\n",
    "for i in xrange(2,10):\n",
    "    C_temp = np.dot(C_temp,C)\n",
    "    print C_temp"
   ]
  },
  {
   "cell_type": "code",
   "execution_count": null,
   "metadata": {
    "collapsed": false
   },
   "outputs": [],
   "source": [
    "from __future__ import division\n",
    "import numpy as np\n",
    "\n",
    "def diff(x,y):\n",
    "    a, b = x/max(x,y), y/max(x,y)\n",
    "    print 1 - np.abs(a-b)\n",
    "    \n",
    "diff(190, 200)"
   ]
  },
  {
   "cell_type": "code",
   "execution_count": null,
   "metadata": {
    "collapsed": false
   },
   "outputs": [],
   "source": [
    "from __future__ import division\n",
    "import numpy as np\n",
    "from scipy import linalg as la\n",
    "from matplotlib import pyplot as plt\n",
    "import seaborn\n",
    "%matplotlib inline\n",
    "\n",
    "data_xvals = np.array([1.0,3.0,5.0,6.0,7.0,8.0])\n",
    "data_yvals = np.sin(data_xvals)\n",
    "\n",
    "sig2 = 0.1\n",
    "\n",
    "def k_lin(x,y,noisy=False):\n",
    "    if noisy and x==y:\n",
    "        return x*y + sig2\n",
    "    return x*y\n",
    "\n",
    "def k_poly(x,y,noisy=False):\n",
    "    deg = 3\n",
    "    if noisy and x==y:\n",
    "        return (1.0+x*y)**deg + sig2\n",
    "    return (1.0+x*y)**deg\n",
    "\n",
    "def k_gauss(x,y,noisy=False):\n",
    "    # Is there supposed to be a -0.5 inside the exp?\n",
    "    if noisy and x==y:\n",
    "        return 1.0 + sig2\n",
    "    return np.exp(-0.5*(x-y)**2)\n",
    "\n",
    "# Calculate the kernel matrices\n",
    "K_lin = np.zeros((6,6))\n",
    "K_poly = np.zeros((6,6))\n",
    "K_gauss = np.zeros((6,6))\n",
    "\n",
    "for i in xrange(6):\n",
    "    for j in xrange(6):\n",
    "        K_lin[i,j] = k_lin(data_xvals[i],data_xvals[j])\n",
    "        K_poly[i,j] = k_poly(data_xvals[i],data_xvals[j])\n",
    "        K_gauss[i,j] = k_gauss(data_xvals[i],data_xvals[j])\n",
    "    \n",
    "print K_lin\n",
    "print K_poly\n",
    "print K_gauss"
   ]
  },
  {
   "cell_type": "code",
   "execution_count": null,
   "metadata": {
    "collapsed": false
   },
   "outputs": [],
   "source": [
    "import numpy as np\n",
    "\n",
    "data_xvals = np.array([1.0,3.0,5.0,6.0,7.0,8.0])\n",
    "k = np.zeros((6,6))\n",
    "for i in xrange(6):\n",
    "    for j in xrange(6):\n",
    "        k[i,j] = data_xvals[i]*data_xvals[j]\n",
    "print k"
   ]
  },
  {
   "cell_type": "code",
   "execution_count": 5,
   "metadata": {
    "collapsed": false
   },
   "outputs": [
    {
     "data": {
      "image/png": "[encoded data removed]",
      "text/plain": [
       "<matplotlib.figure.Figure at 0x814f160>"
      ]
     },
     "metadata": {},
     "output_type": "display_data"
    },
    {
     "data": {
      "image/png": "[encoded data removed]",
      "text/plain": [
       "<matplotlib.figure.Figure at 0x90e6e48>"
      ]
     },
     "metadata": {},
     "output_type": "display_data"
    }
   ],
   "source": [
    "import numpy as np\n",
    "from matplotlib import pyplot as plt\n",
    "%matplotlib inline\n",
    "\n",
    "def Em(x,m):\n",
    "    return m*x % 1.0\n",
    "\n",
    "def Em_inv(x,m):\n",
    "    return x/m\n",
    "\n",
    "m = 4\n",
    "d = np.linspace(0,1,1001)\n",
    "plt.plot(d,Em(d,m))\n",
    "plt.show()\n",
    "plt.plot(d,Em(Em(d,m),m))\n",
    "plt.show()"
   ]
  },
  {
   "cell_type": "code",
   "execution_count": null,
   "metadata": {
    "collapsed": false
   },
   "outputs": [],
   "source": [
    "import numpy as np\n",
    "\n",
    "f = lambda x:x**2+1\n",
    "fprime = lambda x:2*x\n",
    "\n",
    "x = 1.0-1j\n",
    "for i in xrange(10):\n",
    "    print x\n",
    "    x = x - f(x)/fprime(x)\n",
    "print x"
   ]
  },
  {
   "cell_type": "code",
   "execution_count": null,
   "metadata": {
    "collapsed": false
   },
   "outputs": [],
   "source": [
    "num = 17\n",
    "for i in xrange(50):\n",
    "    num = num*17 % 1000\n",
    "    print num"
   ]
  },
  {
   "cell_type": "code",
   "execution_count": null,
   "metadata": {
    "collapsed": false
   },
   "outputs": [],
   "source": [
    "import csv\n",
    "import decimal\n",
    "import itertools\n",
    "import numpy as np\n",
    "import networkx as nx\n",
    "from matplotlib import pyplot as plt\n",
    "%matplotlib inline\n",
    "\n",
    "def lookuptable(n):\n",
    "    primebools = np.array([True for i in xrange(n)])\n",
    "    primebools[0] = False\n",
    "    primebools[1] = False\n",
    "    done = int(np.floor(np.sqrt(n)))+1\n",
    "    for i in xrange(2,done):\n",
    "        primebools[2*i::i] = False\n",
    "    primes = np.array(np.where(primebools == True))[0]\n",
    "    return primes\n",
    "\n",
    "#primes = lookuptable(10000)\n",
    "#setprimes = set(primes)\n",
    "#first_four = 168\n",
    "\n",
    "def checkprob(n):\n",
    "    primes = lookuptable(n)\n",
    "    setprimes = set(primes)\n",
    "    setprimes.add(1)\n",
    "    to_check = np.array([False for i in xrange(n)])\n",
    "    for x in xrange(n):\n",
    "        val = x\n",
    "        a = 0\n",
    "        if x in setprimes:\n",
    "            to_check[x] = True\n",
    "        while val not in setprimes and val >= 0:\n",
    "            val = x - a**2\n",
    "            if val in setprimes or val == 0:\n",
    "                to_check[x] = True\n",
    "            a += 1\n",
    "\n",
    "    return to_check\n",
    "\n",
    "print np.where(checkprob(100) == False)"
   ]
  },
  {
   "cell_type": "code",
   "execution_count": null,
   "metadata": {
    "collapsed": false
   },
   "outputs": [],
   "source": []
  }
 ],
 "metadata": {
  "kernelspec": {
   "display_name": "Python 2",
   "language": "python",
   "name": "python2"
  },
  "language_info": {
   "codemirror_mode": {
    "name": "ipython",
    "version": 2
   },
   "file_extension": ".py",
   "mimetype": "text/x-python",
   "name": "python",
   "nbconvert_exporter": "python",
   "pygments_lexer": "ipython2",
   "version": "2.7.13"
  }
 },
 "nbformat": 4,
 "nbformat_minor": 0
}
