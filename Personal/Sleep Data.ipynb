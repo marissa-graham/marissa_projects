{
 "cells": [
  {
   "cell_type": "code",
   "execution_count": 120,
   "metadata": {
    "collapsed": false
   },
   "outputs": [
    {
     "name": "stdout",
     "output_type": "stream",
     "text": [
      "***************************\n",
      "Adams \t Layne \t80.4%\n",
      "Adding \t Josep \t54.8%\n",
      "Akiki \t Chris \t80.4%\n",
      "Alca \t Jorge \t99.8%\n",
      "Allen \t Andre \t82.7%\n",
      "Allred \t Emma \t75.1%\n",
      "Amidon \t Sydne \t71.0%\n",
      "Anders \t Conne \t95.8%\n",
      "Androm \t Josh \t37.9%\n",
      "Atkins \t McKay \t35.2%\n",
      "***************************\n",
      "Baird \t Chris \t85.1%\n",
      "Barfie \t Andre \t81.9%\n",
      "Bartle \t Jarom \t86.7%\n",
      "Barton \t Brody \t69.2%\n",
      "Baugha \t Andre \t92.2%\n",
      "Bayley \t Katel \t97.3%\n",
      "Bearda \t Chad \t96.8%\n",
      "Bischo \t Evan \t65.4%\n",
      "Bleyl \t Bo \t83.6%\n",
      "Boroug \t Brade \t57.6%\n",
      "***************************\n",
      "Carlso \t Steph \t98.9%\n",
      "Carter \t Gentr \t99.3%\n",
      "Carver \t Victo \t90.6%\n",
      "Christ \t Jacob \t98.9%\n",
      "Christ \t Matth \t77.4%\n",
      "Clark \t David \t99.8%\n",
      "Clark \t Jared \t88.9%\n",
      "Coffin \t Sarah \t30.6%\n",
      "Collar \t Parke \t37.1%\n",
      "Damon \t John \t100.0%\n",
      "***************************\n",
      "Dinsda \t Micha \t100.0%\n",
      "Duffie \t Nicol \t99.5%\n",
      "Dunn \t Damie \t80.1%\n",
      "Edding \t Megan \t85.6%\n",
      "Flemin \t Scott \t37.8%\n",
      "Gadber \t Jacob \t90.1%\n",
      "Gill \t Nanu \t78.1%\n",
      "Gould \t Kyle \t20.3%\n",
      "Halver \t Josh \t15.6%\n",
      "Hancoc \t Camde \t99.6%\n",
      "***************************\n",
      "Hansen \t Josep \t72.8%\n",
      "Hatch \t Serah \t94.2%\n",
      "Heinz \t Thoma \t89.5%\n",
      "Hild \t Rob \t98.6%\n",
      "Howell \t Karyn \t87.6%\n",
      "Hyde \t Chris \t93.3%\n",
      "Jones \t Chase \t97.2%\n",
      "Jorgen \t Jaxon \t93.7%\n",
      "Kautzm \t Truma \t100.0%\n",
      "Kraudy \t Laure \t99.0%\n",
      "***************************\n",
      "Larime \t Cheye \t96.0%\n",
      "Larson \t Savan \t99.8%\n",
      "Lau \t Prest \t93.6%\n",
      "Lau \t Spenc \t98.9%\n",
      "Lindbe \t Ethan \t93.4%\n",
      "Long \t Anna \t89.6%\n",
      "Long \t Reed \t93.7%\n",
      "Long \t Rosso \t69.6%\n",
      "Magnus \t Spenc \t99.3%\n",
      "Marsha \t Laura \t97.7%\n",
      "***************************\n",
      "Martin \t Josh \t78.8%\n",
      "McCain \t Mitch \t83.6%\n",
      "McFall \t Drake \t78.4%\n",
      "McQuad \t Micha \t80.6%\n",
      "Mickel \t Haley \t90.1%\n",
      "Morris \t Jacob \t70.5%\n",
      "Mull \t Ty \t91.2%\n",
      "Nauman \t Sara \t99.1%\n",
      "Nelson \t Bradl \t43.6%\n",
      "Nelson \t Sam \t80.6%\n",
      "***************************\n",
      "Nelson \t Sydne \t99.7%\n",
      "Nelson \t Willi \t31.3%\n",
      "Olson \t Elija \t96.3%\n",
      "Owens \t Justi \t98.2%\n",
      "Peters \t Clayt \t96.4%\n",
      "Pulsip \t Kyle \t98.6%\n",
      "Rasmus \t Hunte \t90.6%\n",
      "Shaw \t Katie \t81.4%\n",
      "Sheffi \t Joshu \t90.3%\n",
      "Skinne \t Jeffe \t99.5%\n",
      "***************************\n",
      "Smith \t Hayde \t96.2%\n",
      "Smith \t Trevo \t91.9%\n",
      "Snow \t Kimbe \t98.8%\n",
      "Snyder \t Audre \t93.0%\n",
      "Snyder \t Jonat \t93.7%\n",
      "Sonder \t Micha \t99.8%\n",
      "Stone \t Alema \t64.8%\n",
      "Stubbs \t James \t97.7%\n",
      "Sumrak \t Nicho \t81.6%\n",
      "Theure \t Brand \t98.6%\n",
      "***************************\n",
      "Thomps \t Sarah \t72.4%\n",
      "Thueso \t Danie \t97.0%\n",
      "Tolman \t Kylie \t93.4%\n",
      "Tree \t Danie \t98.3%\n",
      "Trude \t Ryan \t88.1%\n",
      "Van Ka \t Peter \t99.0%\n",
      "Vance \t Jessi \t38.0%\n",
      "Wallac \t Ashle \t96.9%\n",
      "Wallin \t Willi \t96.8%\n",
      "Warren \t Megan \t98.1%\n",
      "***************************\n",
      "Weaver \t Devin \t98.8%\n",
      "Welty \t Peter \t98.5%\n",
      "Willar \t David \t80.7%\n",
      "Willis \t Vance \t99.8%\n",
      "Wojcik \t Madis \t100.0%\n",
      "Yen \t Chris \t92.3%\n",
      "Zinn \t Ethan \t71.2%\n",
      "Dorff \t Micha \t0.0%\n",
      "Graham \t Maris \t0.0%\n",
      "Graham \t Maris \t19.5%\n",
      "***************************\n",
      "Math \t BYU \t0.0%\n"
     ]
    }
   ],
   "source": [
    "import csv\n",
    "i = 0\n",
    "with open('webAssignNov2017.txt') as f:\n",
    "    reader = csv.reader(f)\n",
    "    for row in reader:\n",
    "        if i > 8:\n",
    "            separated = row[1].split('\\t')\n",
    "            print row[0][:6], '\\t', separated[0][:6], '\\t', separated[3]\n",
    "        if (i-8)%10 == 0:\n",
    "            print \"***************************\"\n",
    "        i += 1"
   ]
  },
  {
   "cell_type": "code",
   "execution_count": 95,
   "metadata": {
    "collapsed": false
   },
   "outputs": [
    {
     "name": "stdout",
     "output_type": "stream",
     "text": [
      "Populating the interactive namespace from numpy and matplotlib\n"
     ]
    }
   ],
   "source": [
    "from __future__ import division\n",
    "import numpy as np\n",
    "import pandas as pd\n",
    "from matplotlib import pyplot as plt\n",
    "import seaborn\n",
    "%matplotlib inline\n",
    "%pylab inline\n",
    "\n",
    "pylab.rcParams['figure.figsize'] = (16.0, 8.0) # Control figure size \n",
    "percentify = lambda x: (x * 100).round(1).astype(str) + \"%\""
   ]
  },
  {
   "cell_type": "markdown",
   "metadata": {},
   "source": [
    "Data we want to extract from files:\n",
    "\n",
    "- Bedtime\n",
    "- Wakeup time\n",
    "- Minutes asleep\n",
    "- Time in bed\n",
    "\n",
    "Calculate and plot:\n",
    "\n",
    "- Mean time asleep by week/month\n",
    "- % of time in bed spent asleep, average by week/month\n",
    "- Mean bedtime by week/month\n",
    "- Stdev of bedtime by week/month\n",
    "- Mean wakeup time by week/month\n",
    "- Stdev of wakeup time by week/month\n",
    "- Day-to-day deprivation by week/month\n",
    "    * Cut values off at 8hrs, convert from minutes to hrs\n",
    "    * Modeling function: 1/(1+np.exp((x-4)/2))\n",
    "    * Scaled: (g(x) - g(8))/(g(0)-g(8))"
   ]
  },
  {
   "cell_type": "code",
   "execution_count": 91,
   "metadata": {
    "collapsed": false
   },
   "outputs": [
    {
     "name": "stdout",
     "output_type": "stream",
     "text": [
      "Logistically modeled score vs. linear score:\n",
      "For  0 hrs: 100.0 % vs  100.0 %\n",
      "For  1 hrs: 93.0 % vs  88.0 %\n",
      "For  2 hrs: 83.0 % vs  75.0 %\n",
      "For  3 hrs: 70.0 % vs  63.0 %\n",
      "For  4 hrs: 54.0 % vs  50.0 %\n",
      "For  5 hrs: 38.0 % vs  38.0 %\n",
      "For  6 hrs: 23.0 % vs  25.0 %\n",
      "For  7 hrs: 10.0 % vs  13.0 %\n",
      "For  8 hrs: 0.0 % vs  0.0 %\n",
      "Logistic model:\n"
     ]
    },
    {
     "data": {
      "image/png": "[encoded data removed]",
      "text/plain": [
       "<matplotlib.figure.Figure at 0x8dfa7b8>"
      ]
     },
     "metadata": {},
     "output_type": "display_data"
    }
   ],
   "source": [
    "# Model the daily sleep below 8hrs as a comparison to all nighters\n",
    "\n",
    "def g(x):\n",
    "    val = (1+np.exp(0.5*(x-4)))**-1\n",
    "    return val**0.8\n",
    "\n",
    "def deprivation_score(x):\n",
    "    return (g(x) - g(8))/(g(0) - g(8))\n",
    "\n",
    "print \"Logistically modeled score vs. linear score:\"\n",
    "for x in xrange(9):\n",
    "    logscore = deprivation_score(x)\n",
    "    linscore = 1.0 - x/8.0\n",
    "    k = 100\n",
    "    print \"For \", x, \"hrs:\", k*round(logscore,2), '% vs ', k*round(linscore,2),'%'\n",
    "\n",
    "print \"Logistic model:\"\n",
    "domain = np.linspace(0,8,100)\n",
    "plt.plot(domain,deprivation_score(domain))\n",
    "plt.ylim([0,1])\n",
    "plt.show()"
   ]
  },
  {
   "cell_type": "code",
   "execution_count": 94,
   "metadata": {
    "collapsed": false
   },
   "outputs": [
    {
     "ename": "IOError",
     "evalue": "File 09_2016.csv does not exist",
     "output_type": "error",
     "traceback": [
      "\u001b[0;31m---------------------------------------------------------------------------\u001b[0m",
      "\u001b[0;31mIOError\u001b[0m                                   Traceback (most recent call last)",
      "\u001b[0;32m<ipython-input-94-961cb7ab59d4>\u001b[0m in \u001b[0;36m<module>\u001b[0;34m()\u001b[0m\n\u001b[0;32m----> 1\u001b[0;31m \u001b[0mdata\u001b[0m \u001b[1;33m=\u001b[0m \u001b[0mpd\u001b[0m\u001b[1;33m.\u001b[0m\u001b[0mread_csv\u001b[0m\u001b[1;33m(\u001b[0m\u001b[1;34m'09_2016.csv'\u001b[0m\u001b[1;33m)\u001b[0m\u001b[1;33m\u001b[0m\u001b[0m\n\u001b[0m\u001b[1;32m      2\u001b[0m \u001b[1;32mprint\u001b[0m \u001b[0mdata\u001b[0m\u001b[1;33m\u001b[0m\u001b[0m\n",
      "\u001b[0;32mC:\\Anaconda\\lib\\site-packages\\pandas\\io\\parsers.pyc\u001b[0m in \u001b[0;36mparser_f\u001b[0;34m(filepath_or_buffer, sep, delimiter, header, names, index_col, usecols, squeeze, prefix, mangle_dupe_cols, dtype, engine, converters, true_values, false_values, skipinitialspace, skiprows, nrows, na_values, keep_default_na, na_filter, verbose, skip_blank_lines, parse_dates, infer_datetime_format, keep_date_col, date_parser, dayfirst, iterator, chunksize, compression, thousands, decimal, lineterminator, quotechar, quoting, escapechar, comment, encoding, dialect, tupleize_cols, error_bad_lines, warn_bad_lines, skipfooter, skip_footer, doublequote, delim_whitespace, as_recarray, compact_ints, use_unsigned, low_memory, buffer_lines, memory_map, float_precision)\u001b[0m\n\u001b[1;32m    644\u001b[0m                     skip_blank_lines=skip_blank_lines)\n\u001b[1;32m    645\u001b[0m \u001b[1;33m\u001b[0m\u001b[0m\n\u001b[0;32m--> 646\u001b[0;31m         \u001b[1;32mreturn\u001b[0m \u001b[0m_read\u001b[0m\u001b[1;33m(\u001b[0m\u001b[0mfilepath_or_buffer\u001b[0m\u001b[1;33m,\u001b[0m \u001b[0mkwds\u001b[0m\u001b[1;33m)\u001b[0m\u001b[1;33m\u001b[0m\u001b[0m\n\u001b[0m\u001b[1;32m    647\u001b[0m \u001b[1;33m\u001b[0m\u001b[0m\n\u001b[1;32m    648\u001b[0m     \u001b[0mparser_f\u001b[0m\u001b[1;33m.\u001b[0m\u001b[0m__name__\u001b[0m \u001b[1;33m=\u001b[0m \u001b[0mname\u001b[0m\u001b[1;33m\u001b[0m\u001b[0m\n",
      "\u001b[0;32mC:\\Anaconda\\lib\\site-packages\\pandas\\io\\parsers.pyc\u001b[0m in \u001b[0;36m_read\u001b[0;34m(filepath_or_buffer, kwds)\u001b[0m\n\u001b[1;32m    387\u001b[0m \u001b[1;33m\u001b[0m\u001b[0m\n\u001b[1;32m    388\u001b[0m     \u001b[1;31m# Create the parser.\u001b[0m\u001b[1;33m\u001b[0m\u001b[1;33m\u001b[0m\u001b[0m\n\u001b[0;32m--> 389\u001b[0;31m     \u001b[0mparser\u001b[0m \u001b[1;33m=\u001b[0m \u001b[0mTextFileReader\u001b[0m\u001b[1;33m(\u001b[0m\u001b[0mfilepath_or_buffer\u001b[0m\u001b[1;33m,\u001b[0m \u001b[1;33m**\u001b[0m\u001b[0mkwds\u001b[0m\u001b[1;33m)\u001b[0m\u001b[1;33m\u001b[0m\u001b[0m\n\u001b[0m\u001b[1;32m    390\u001b[0m \u001b[1;33m\u001b[0m\u001b[0m\n\u001b[1;32m    391\u001b[0m     \u001b[1;32mif\u001b[0m \u001b[1;33m(\u001b[0m\u001b[0mnrows\u001b[0m \u001b[1;32mis\u001b[0m \u001b[1;32mnot\u001b[0m \u001b[0mNone\u001b[0m\u001b[1;33m)\u001b[0m \u001b[1;32mand\u001b[0m \u001b[1;33m(\u001b[0m\u001b[0mchunksize\u001b[0m \u001b[1;32mis\u001b[0m \u001b[1;32mnot\u001b[0m \u001b[0mNone\u001b[0m\u001b[1;33m)\u001b[0m\u001b[1;33m:\u001b[0m\u001b[1;33m\u001b[0m\u001b[0m\n",
      "\u001b[0;32mC:\\Anaconda\\lib\\site-packages\\pandas\\io\\parsers.pyc\u001b[0m in \u001b[0;36m__init__\u001b[0;34m(self, f, engine, **kwds)\u001b[0m\n\u001b[1;32m    728\u001b[0m             \u001b[0mself\u001b[0m\u001b[1;33m.\u001b[0m\u001b[0moptions\u001b[0m\u001b[1;33m[\u001b[0m\u001b[1;34m'has_index_names'\u001b[0m\u001b[1;33m]\u001b[0m \u001b[1;33m=\u001b[0m \u001b[0mkwds\u001b[0m\u001b[1;33m[\u001b[0m\u001b[1;34m'has_index_names'\u001b[0m\u001b[1;33m]\u001b[0m\u001b[1;33m\u001b[0m\u001b[0m\n\u001b[1;32m    729\u001b[0m \u001b[1;33m\u001b[0m\u001b[0m\n\u001b[0;32m--> 730\u001b[0;31m         \u001b[0mself\u001b[0m\u001b[1;33m.\u001b[0m\u001b[0m_make_engine\u001b[0m\u001b[1;33m(\u001b[0m\u001b[0mself\u001b[0m\u001b[1;33m.\u001b[0m\u001b[0mengine\u001b[0m\u001b[1;33m)\u001b[0m\u001b[1;33m\u001b[0m\u001b[0m\n\u001b[0m\u001b[1;32m    731\u001b[0m \u001b[1;33m\u001b[0m\u001b[0m\n\u001b[1;32m    732\u001b[0m     \u001b[1;32mdef\u001b[0m \u001b[0mclose\u001b[0m\u001b[1;33m(\u001b[0m\u001b[0mself\u001b[0m\u001b[1;33m)\u001b[0m\u001b[1;33m:\u001b[0m\u001b[1;33m\u001b[0m\u001b[0m\n",
      "\u001b[0;32mC:\\Anaconda\\lib\\site-packages\\pandas\\io\\parsers.pyc\u001b[0m in \u001b[0;36m_make_engine\u001b[0;34m(self, engine)\u001b[0m\n\u001b[1;32m    921\u001b[0m     \u001b[1;32mdef\u001b[0m \u001b[0m_make_engine\u001b[0m\u001b[1;33m(\u001b[0m\u001b[0mself\u001b[0m\u001b[1;33m,\u001b[0m \u001b[0mengine\u001b[0m\u001b[1;33m=\u001b[0m\u001b[1;34m'c'\u001b[0m\u001b[1;33m)\u001b[0m\u001b[1;33m:\u001b[0m\u001b[1;33m\u001b[0m\u001b[0m\n\u001b[1;32m    922\u001b[0m         \u001b[1;32mif\u001b[0m \u001b[0mengine\u001b[0m \u001b[1;33m==\u001b[0m \u001b[1;34m'c'\u001b[0m\u001b[1;33m:\u001b[0m\u001b[1;33m\u001b[0m\u001b[0m\n\u001b[0;32m--> 923\u001b[0;31m             \u001b[0mself\u001b[0m\u001b[1;33m.\u001b[0m\u001b[0m_engine\u001b[0m \u001b[1;33m=\u001b[0m \u001b[0mCParserWrapper\u001b[0m\u001b[1;33m(\u001b[0m\u001b[0mself\u001b[0m\u001b[1;33m.\u001b[0m\u001b[0mf\u001b[0m\u001b[1;33m,\u001b[0m \u001b[1;33m**\u001b[0m\u001b[0mself\u001b[0m\u001b[1;33m.\u001b[0m\u001b[0moptions\u001b[0m\u001b[1;33m)\u001b[0m\u001b[1;33m\u001b[0m\u001b[0m\n\u001b[0m\u001b[1;32m    924\u001b[0m         \u001b[1;32melse\u001b[0m\u001b[1;33m:\u001b[0m\u001b[1;33m\u001b[0m\u001b[0m\n\u001b[1;32m    925\u001b[0m             \u001b[1;32mif\u001b[0m \u001b[0mengine\u001b[0m \u001b[1;33m==\u001b[0m \u001b[1;34m'python'\u001b[0m\u001b[1;33m:\u001b[0m\u001b[1;33m\u001b[0m\u001b[0m\n",
      "\u001b[0;32mC:\\Anaconda\\lib\\site-packages\\pandas\\io\\parsers.pyc\u001b[0m in \u001b[0;36m__init__\u001b[0;34m(self, src, **kwds)\u001b[0m\n\u001b[1;32m   1388\u001b[0m         \u001b[0mkwds\u001b[0m\u001b[1;33m[\u001b[0m\u001b[1;34m'allow_leading_cols'\u001b[0m\u001b[1;33m]\u001b[0m \u001b[1;33m=\u001b[0m \u001b[0mself\u001b[0m\u001b[1;33m.\u001b[0m\u001b[0mindex_col\u001b[0m \u001b[1;32mis\u001b[0m \u001b[1;32mnot\u001b[0m \u001b[0mFalse\u001b[0m\u001b[1;33m\u001b[0m\u001b[0m\n\u001b[1;32m   1389\u001b[0m \u001b[1;33m\u001b[0m\u001b[0m\n\u001b[0;32m-> 1390\u001b[0;31m         \u001b[0mself\u001b[0m\u001b[1;33m.\u001b[0m\u001b[0m_reader\u001b[0m \u001b[1;33m=\u001b[0m \u001b[0m_parser\u001b[0m\u001b[1;33m.\u001b[0m\u001b[0mTextReader\u001b[0m\u001b[1;33m(\u001b[0m\u001b[0msrc\u001b[0m\u001b[1;33m,\u001b[0m \u001b[1;33m**\u001b[0m\u001b[0mkwds\u001b[0m\u001b[1;33m)\u001b[0m\u001b[1;33m\u001b[0m\u001b[0m\n\u001b[0m\u001b[1;32m   1391\u001b[0m \u001b[1;33m\u001b[0m\u001b[0m\n\u001b[1;32m   1392\u001b[0m         \u001b[1;31m# XXX\u001b[0m\u001b[1;33m\u001b[0m\u001b[1;33m\u001b[0m\u001b[0m\n",
      "\u001b[0;32mpandas\\parser.pyx\u001b[0m in \u001b[0;36mpandas.parser.TextReader.__cinit__ (pandas\\parser.c:4184)\u001b[0;34m()\u001b[0m\n",
      "\u001b[0;32mpandas\\parser.pyx\u001b[0m in \u001b[0;36mpandas.parser.TextReader._setup_parser_source (pandas\\parser.c:8449)\u001b[0;34m()\u001b[0m\n",
      "\u001b[0;31mIOError\u001b[0m: File 09_2016.csv does not exist"
     ]
    }
   ],
   "source": [
    "data = pd.read_csv('09_2016.csv')\n",
    "print data"
   ]
  },
  {
   "cell_type": "code",
   "execution_count": null,
   "metadata": {
    "collapsed": true
   },
   "outputs": [],
   "source": []
  }
 ],
 "metadata": {
  "kernelspec": {
   "display_name": "Python 2",
   "language": "python",
   "name": "python2"
  },
  "language_info": {
   "codemirror_mode": {
    "name": "ipython",
    "version": 2
   },
   "file_extension": ".py",
   "mimetype": "text/x-python",
   "name": "python",
   "nbconvert_exporter": "python",
   "pygments_lexer": "ipython2",
   "version": "2.7.13"
  }
 },
 "nbformat": 4,
 "nbformat_minor": 0
}
