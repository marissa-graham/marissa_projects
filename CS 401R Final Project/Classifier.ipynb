{
 "cells": [
  {
   "cell_type": "code",
   "execution_count": 1,
   "metadata": {
    "collapsed": false
   },
   "outputs": [
    {
     "name": "stdout",
     "output_type": "stream",
     "text": [
      "Populating the interactive namespace from numpy and matplotlib\n"
     ]
    }
   ],
   "source": [
    "from __future__ import division\n",
    "import numpy as np\n",
    "import pandas as pd\n",
    "from IPython.display import display, HTML\n",
    "from matplotlib import pyplot as plt\n",
    "import seaborn\n",
    "%matplotlib inline\n",
    "%pylab inline\n",
    "\n",
    "pylab.rcParams['figure.figsize'] = (16.0, 8.0) # Control figure size \n",
    "percentify = lambda x: (x * 100).round(1).astype(str) + \"%\""
   ]
  },
  {
   "cell_type": "code",
   "execution_count": 2,
   "metadata": {
    "collapsed": false
   },
   "outputs": [
    {
     "name": "stdout",
     "output_type": "stream",
     "text": [
      "['account_id', 'post_id', 'Category', 'Page', 'Post URL', 'Date Published', 'Post Type', 'Rating', 'Debate', 'share_count', 'reaction_count', 'comment_count']\n",
      "(2282, 12)\n"
     ]
    }
   ],
   "source": [
    "data = pd.read_csv('facebook-fact-check.txt')\n",
    "\n",
    "page_likes = {'ABC News Politics':712048, 'Addicting Info':1254536,\n",
    "              'CNN Politics':2484115, 'Eagle Rising':681884,\n",
    "              'Freedom Daily':1951544, 'Occupy Democrats':6199514,\n",
    "              'Politico':1595952, 'Right Wing News':3585516,\n",
    "              'The Other 98%':4758192}\n",
    "\n",
    "possible_ratings = [\"mostly false\", \"mixture of true and false\", \n",
    "                    \"mostly true\", \"no factual content\"]\n",
    "\n",
    "print list(data)\n",
    "print data.shape"
   ]
  },
  {
   "cell_type": "markdown",
   "metadata": {},
   "source": [
    "The Model\n",
    "\n",
    "Map from an input vector to a probability of a rating.\n",
    "\n",
    "The thing is, category and page aren't independent inputs, so can't we just use\n",
    "page? Aw crap, that's only two.\n",
    "\n",
    "P('mostly false'| page='Politico', type='link')\n",
    "\n",
    "P('mostly false') = P(page='Politico' | 'mostly false') * P(type = 'link' | 'mostly false')\n",
    "\n",
    "Compute for all truthfulness ratings, pick the highest rating.\n",
    "\n",
    "Since it's such a simple dataset, we build our own implementation."
   ]
  },
  {
   "cell_type": "code",
   "execution_count": 12,
   "metadata": {
    "collapsed": false
   },
   "outputs": [
    {
     "name": "stdout",
     "output_type": "stream",
     "text": [
      "\n"
     ]
    }
   ],
   "source": [
    "# Helper Functions\n",
    "\n",
    "def RMSE(predictions, true_vals):\n",
    "    \"\"\"\n",
    "    We want some way to measure the distance between predictions that \n",
    "    heavily penalizes marking true as false and false as true.\n",
    "    \n",
    "    d(\"no factual content\", anything) = 1\n",
    "    d(rating, rating) = 0\n",
    "    d(\"mostly true/false\", \"mixture of true and false\") = 1\n",
    "    d(\"mostly true\", \"mostly false\") = 2\n",
    "    \n",
    "    Then RMSE = sqrt( 1/n * sum( d(prediction_i, truth_i)**2 ) )\n",
    "    \"\"\"\n",
    "    def d(x,y):\n",
    "        if x == y:\n",
    "            return 0\n",
    "        elif x == 3 or y == 3:\n",
    "            return 1\n",
    "        elif abs(x-y) == 1:\n",
    "            return 1\n",
    "        else:\n",
    "            return 2\n",
    "        \n",
    "    tot = 0\n",
    "    for i in xrange(len(predictions)):\n",
    "        tot += d(predictions[i], true_vals[i])**2\n",
    "    return np.sqrt( tot/len(predictions) )\n",
    "\n",
    "\n",
    "def conf_mat(predicted, true, title, filename):\n",
    "    \"\"\"\n",
    "    Display the confusion matrix for the data given and give the error rate.\n",
    "    \n",
    "    Both predicted and true are numpy vectors of integers between 0 and 3\n",
    "    \"\"\"\n",
    "    if len(predicted) != len(true):\n",
    "        raise ValueError('Predictions and true values must be the same length')\n",
    "        \n",
    "    n = len(predicted)\n",
    "    confusion_mat = np.zeros((4,4))\n",
    "    for i in xrange(n):\n",
    "        confusion_mat[predicted[i],true[i]] += 1\n",
    "    \n",
    "    ax = seaborn.heatmap(pd.DataFrame(confusion_mat),cmap='Spectral_r')\n",
    "    ax.set_xlabel('True Rating',size=18)\n",
    "    ax.set_ylabel('Predicted Rating',size=18)\n",
    "    plt.title(title,size=20)\n",
    "    plt.savefig(filename, dpi=300)\n",
    "    plt.show()\n",
    "    \n",
    "    error_rate = (n - np.sum(np.diag(confusion_mat)))/n\n",
    "    print \"Overall Error Rate: \", error_rate*100, \"%\"\n",
    "\n",
    "def test_split(data, n):\n",
    "    \"\"\" \n",
    "    Return randomly chosen test_data, train_data from a Pandas DataFrame,\n",
    "    where test_data contains n values.\n",
    "    \"\"\"\n",
    "    all_inds = np.random.permutation(range(0,len(data)))\n",
    "    return data.iloc[all_inds[:n]], data.iloc[all_inds[n:]], all_inds\n",
    "\n",
    "def build_probs(data, cols):\n",
    "    \"\"\"\n",
    "    Given the training data, build the lookup tables to use for Naive Bayes.\n",
    "    \n",
    "    cols is a list containing the names of the columns, which must be \n",
    "    categorical. Should work for both page and category.\n",
    "    \n",
    "    Return a dictionary where each column name gives you an array where\n",
    "    A[i,j] is the probability of feature j given rating i\n",
    "    \"\"\"\n",
    "    tables = []\n",
    "    \n",
    "    # For each feature\n",
    "    for col_name in cols:\n",
    "        \n",
    "        # Initialize the desired array\n",
    "        arr = np.zeros((4,len(np.unique(data[col_name]))))\n",
    "        \n",
    "        # For each possible feature in the column category\n",
    "        for j in np.unique(data[col_name]):\n",
    "            \n",
    "            # Count the number of times each rating occurs for the feature\n",
    "            arr[:,j] = np.bincount(data[data[col_name]==j]['Rating'],minlength=4)\n",
    "        \n",
    "        # Normalize and store\n",
    "        arr =  arr / np.sum(arr,axis=1)[:, np.newaxis]\n",
    "        #arr[arr == 0] = epsilon\n",
    "        tables.append(arr)\n",
    "        \n",
    "    return tables\n",
    "\n",
    "def sensitivity(predicted, true):\n",
    "    \"\"\"\n",
    "    predicted: 1 if false\n",
    "               0 if true\n",
    "                        \n",
    "    true: 0 if false\n",
    "    \n",
    "    Return the number of true false values predicted as false, over the number\n",
    "    of true false values.\n",
    "    \"\"\"\n",
    "    found = 0\n",
    "    true_false = 0\n",
    "    for i in xrange(len(predicted)):\n",
    "        if true[i] == 0:\n",
    "            true_false += 1\n",
    "            \n",
    "            if predicted[i] == 1:\n",
    "                found += 1\n",
    "                \n",
    "    return found/true_false\n",
    "    \n",
    "def specificity(predicted, true):\n",
    "    \"\"\"\n",
    "    predicted: 1 if false\n",
    "               0 if true\n",
    "                        \n",
    "    true: 0 if false\n",
    "    \n",
    "    Return the number of true non-false values predicted as non-false, over the\n",
    "    number of true non-false values.\n",
    "    \"\"\"\n",
    "    found = 0\n",
    "    true_vals = 0\n",
    "    for i in xrange(len(predicted)):\n",
    "        if true[i] != 0:\n",
    "            true_vals += 1\n",
    "            \n",
    "            if predicted[i] == 0:\n",
    "                found += 1\n",
    "                \n",
    "    return found/true_vals"
   ]
  },
  {
   "cell_type": "code",
   "execution_count": 4,
   "metadata": {
    "collapsed": false
   },
   "outputs": [],
   "source": [
    "# Replace categorical data with ints so as to use numpy arrays\n",
    "\n",
    "categories = ['left','mainstream','right']\n",
    "category_inds = {'left':0,'mainstream':1,'right':2}\n",
    "\n",
    "pages = ['ABC News Politics', 'Addicting Info', 'CNN Politics', 'Eagle Rising',\n",
    "         'Freedom Daily', 'Occupy Democrats', 'Politico', 'Right Wing News',\n",
    "         'The Other 98%']\n",
    "page_inds = {'ABC News Politics':0, 'Addicting Info':1, 'CNN Politics':2, \n",
    "             'Eagle Rising':3, 'Freedom Daily':4, 'Occupy Democrats':5,\n",
    "             'Politico':6, 'Right Wing News':7, 'The Other 98%':8}\n",
    "\n",
    "types = ['link','photo','text','video']\n",
    "type_inds = {'link':0, 'photo':1, 'text':2, 'video':3}\n",
    "\n",
    "ratings = [\"mostly false\", \"mixture of true and false\", \n",
    "           \"mostly true\", \"no factual content\"]\n",
    "rating_inds = {'mostly false':0, 'mixture of true and false':1,\n",
    "               'mostly true':2, 'no factual content':3}\n",
    "\n",
    "data = data.replace({'Category': category_inds})\n",
    "data = data.replace({'Page':page_inds})\n",
    "data = data.replace({'Post Type':type_inds})\n",
    "data = data.replace({'Rating':rating_inds})\n",
    "\n",
    "#print data[['Category','Page','Post Type','Rating']]"
   ]
  },
  {
   "cell_type": "code",
   "execution_count": 5,
   "metadata": {
    "collapsed": true
   },
   "outputs": [],
   "source": [
    "# Partition the dataset into test and training data\n",
    "\n",
    "n = 400 # Approximate 80/20 split\n",
    "test_data, train_data, all_inds = test_split(data, n)\n",
    "true_vals = np.array(test_data['Rating'])"
   ]
  },
  {
   "cell_type": "code",
   "execution_count": 6,
   "metadata": {
    "collapsed": false
   },
   "outputs": [],
   "source": [
    "# Get probability tables for Naive Bayes\n",
    "\n",
    "page_probs, type_probs = build_probs(train_data, ['Page', 'Post Type'])\n",
    "cat_probs, type_probs = build_probs(train_data, ['Category', 'Post Type'])\n",
    "\n",
    "predict_page_probs = np.zeros((n,4))\n",
    "predict_cat_probs = np.zeros((n,4))\n",
    "\n",
    "# Estimate probability of each category for each test point\n",
    "for i in xrange(n):\n",
    "    test_pt = test_data.ix[all_inds[i]] # Get the test point\n",
    "    \n",
    "    for j in xrange(4): # For each truthfulness category\n",
    "        \n",
    "        page_ind = test_pt['Page'] # Get the feature indices\n",
    "        cat_ind = test_pt['Category']\n",
    "        type_ind = test_pt['Post Type']\n",
    "        \n",
    "        # P(C_i) = prod( P(A_j = v_j|C_i) )\n",
    "        predict_page_probs[i,j] = page_probs[j,page_ind] * type_probs[j,type_ind]\n",
    "        predict_cat_probs[i,j] = cat_probs[j,cat_ind] * type_probs[j,type_ind]"
   ]
  },
  {
   "cell_type": "code",
   "execution_count": 36,
   "metadata": {
    "collapsed": false
   },
   "outputs": [
    {
     "name": "stdout",
     "output_type": "stream",
     "text": [
      "Everything is True:\n",
      "\tSensitivity: 0.0\n",
      "\tSpecificity: 1.0\n",
      "\n",
      "Everything is False:\n",
      "\tSensitivity: 1.0\n",
      "\tSpecificity: 0.0\n",
      "\n",
      "False if 'mostly false' is highest probability:\n",
      "\tSensitivity: 0.642857142857\n",
      "\tSpecificity: 0.748704663212\n",
      "\n",
      "False if 'mostly false' or 'mixture' is highest probability:\n",
      "\tSensitivity: 0.928571428571\n",
      "\tSpecificity: 0.616580310881\n",
      "\n",
      "False if 'mostly false' is top two highest probability:\n",
      "\tSensitivity: 1.0\n",
      "\tSpecificity: 0.549222797927\n",
      "\n",
      "False if probability of 'mostly false' is >  0.75\n",
      "\tSensitivity: 0.0\n",
      "\tSpecificity: 1.0\n",
      "\n",
      "False if probability of 'mostly false' is >  0.5\n",
      "\tSensitivity: 0.642857142857\n",
      "\tSpecificity: 0.748704663212\n",
      "\n",
      "False if probability of 'mostly false' is >  0.15\n",
      "\tSensitivity: 0.928571428571\n",
      "\tSpecificity: 0.616580310881\n",
      "\n",
      "False if probability of 'mostly false' is >  0.05\n",
      "\tSensitivity: 0.928571428571\n",
      "\tSpecificity: 0.593264248705\n",
      "\n",
      "False if probability of 'mostly false' is >  0.01\n",
      "\tSensitivity: 1.0\n",
      "\tSpecificity: 0.549222797927\n",
      "\n",
      "False if normalized probability of 'mostly false' is >  0.5\n",
      "\tSensitivity: 0.0\n",
      "\tSpecificity: 1.0\n",
      "\n",
      "False if normalized probability of 'mostly false' is >  0.25\n",
      "\tSensitivity: 0.928571428571\n",
      "\tSpecificity: 0.616580310881\n",
      "\n",
      "False if normalized probability of 'mostly false' is >  0.01\n",
      "\tSensitivity: 1.0\n",
      "\tSpecificity: 0.549222797927\n"
     ]
    }
   ],
   "source": [
    "# Sensitivity and specificity testing\n",
    "\n",
    "print \"Everything is True:\"\n",
    "print \"\\tSensitivity:\", sensitivity(np.zeros(400), true_vals)\n",
    "print \"\\tSpecificity:\", specificity(np.zeros(400), true_vals)\n",
    "\n",
    "print \"\\nEverything is False:\"\n",
    "print \"\\tSensitivity:\", sensitivity(np.ones(400), true_vals)\n",
    "print \"\\tSpecificity:\", specificity(np.ones(400), true_vals)\n",
    "\n",
    "print \"\\nFalse if 'mostly false' is highest probability:\"\n",
    "prediction = np.argmax(predict_cat_probs, axis=1)\n",
    "prediction[prediction != 0] = 2\n",
    "prediction[prediction == 0] = 1\n",
    "prediction[prediction == 2] = 0\n",
    "print \"\\tSensitivity:\", sensitivity(prediction, true_vals)\n",
    "print \"\\tSpecificity:\", specificity(prediction, true_vals)\n",
    "\n",
    "print \"\\nFalse if 'mostly false' or 'mixture' is highest probability:\"\n",
    "prediction = np.argmax(predict_cat_probs, axis=1)\n",
    "prediction[prediction == 0] = 1\n",
    "prediction[prediction == 0] = 1\n",
    "prediction[prediction != 1] = 0\n",
    "print \"\\tSensitivity:\", sensitivity(prediction, true_vals)\n",
    "print \"\\tSpecificity:\", specificity(prediction, true_vals)\n",
    "\n",
    "print \"\\nFalse if 'mostly false' is top two highest probability:\"\n",
    "toptwo = np.argsort(predict_cat_probs, axis=1)[:,2:]\n",
    "prediction = np.zeros(n)\n",
    "for i in xrange(n):\n",
    "    if 0 in toptwo[i]:\n",
    "        prediction[i] = 1\n",
    "    else:\n",
    "        prediction[i] = 0\n",
    "print \"\\tSensitivity:\", sensitivity(prediction, true_vals)\n",
    "print \"\\tSpecificity:\", specificity(prediction, true_vals)\n",
    "\n",
    "for threshold in [0.75, 0.5, 0.15, 0.05, 0.01]:\n",
    "    print \"\\nFalse if probability of 'mostly false' is > \", threshold\n",
    "    \n",
    "    prediction = np.zeros(n)\n",
    "    for i in xrange(n):\n",
    "        if predict_cat_probs[i,0] > threshold:\n",
    "            prediction[i] = 1\n",
    "        else:\n",
    "            prediction[i] = 0\n",
    "    print \"\\tSensitivity:\", sensitivity(prediction, true_vals)\n",
    "    print \"\\tSpecificity:\", specificity(prediction, true_vals)\n",
    "    \n",
    "for threshold in [0.5, 0.25, 0.01]:\n",
    "    print \"\\nFalse if normalized probability of 'mostly false' is > \", threshold\n",
    "    \n",
    "    prediction = np.zeros(n)\n",
    "    for i in xrange(n):\n",
    "        if predict_cat_probs[i,0]/np.sum(predict_cat_probs[i,:]) > threshold:\n",
    "            prediction[i] = 1\n",
    "        else:\n",
    "            prediction[i] = 0\n",
    "    print \"\\tSensitivity:\", sensitivity(prediction, true_vals)\n",
    "    print \"\\tSpecificity:\", specificity(prediction, true_vals)"
   ]
  },
  {
   "cell_type": "code",
   "execution_count": 8,
   "metadata": {
    "collapsed": false
   },
   "outputs": [
    {
     "data": {
      "image/png": "[encoded data removed]",
      "text/plain": [
       "<matplotlib.figure.Figure at 0xb3e9c18>"
      ]
     },
     "metadata": {},
     "output_type": "display_data"
    },
    {
     "name": "stdout",
     "output_type": "stream",
     "text": [
      "Overall Error Rate:  42.5 %\n"
     ]
    },
    {
     "data": {
      "image/png": "[encoded data removed]",
      "text/plain": [
       "<matplotlib.figure.Figure at 0xb36af28>"
      ]
     },
     "metadata": {},
     "output_type": "display_data"
    },
    {
     "name": "stdout",
     "output_type": "stream",
     "text": [
      "Overall Error Rate:  44.5 %\n"
     ]
    },
    {
     "name": "stderr",
     "output_type": "stream",
     "text": [
      "C:\\Anaconda\\lib\\site-packages\\ipykernel\\__main__.py:43: VisibleDeprecationWarning: using a non-integer number instead of an integer will result in an error in the future\n"
     ]
    },
    {
     "data": {
      "image/png": "[encoded data removed]",
      "text/plain": [
       "<matplotlib.figure.Figure at 0xd101048>"
      ]
     },
     "metadata": {},
     "output_type": "display_data"
    },
    {
     "name": "stdout",
     "output_type": "stream",
     "text": [
      "Overall Error Rate:  29.5 %\n",
      "RMSE by Page\n",
      "0.877496438739\n",
      "RMSE by Category\n",
      "0.953939201417\n",
      "RMSE for Control (Assume All True)\n",
      "0.644204936336\n"
     ]
    }
   ],
   "source": [
    "# Do the Naive Bayes classifier way, where you choose the argmax\n",
    "\n",
    "page_predictions = np.argmax(predict_page_probs,axis=1)\n",
    "cat_predictions = np.argmax(predict_cat_probs,axis=1)\n",
    "\n",
    "conf_mat(page_predictions, true_vals, \"Predictions by Page and Post Type\", \"page_predicts.png\")\n",
    "conf_mat(cat_predictions, true_vals, \"Predictions by Category and Post Type\", 'cat_predicts.png')\n",
    "conf_mat(2*np.ones(n), true_vals, 'Control Predictions', 'control_predicts.png')\n",
    "\n",
    "    \n",
    "print \"RMSE by Page\"\n",
    "print RMSE(page_predictions, true_vals)\n",
    "print \"RMSE by Category\"\n",
    "print RMSE(cat_predictions, true_vals)\n",
    "print \"RMSE for Control (Assume All True)\"\n",
    "print RMSE(2*np.ones(n), true_vals)"
   ]
  },
  {
   "cell_type": "code",
   "execution_count": 9,
   "metadata": {
    "collapsed": false
   },
   "outputs": [
    {
     "data": {
      "image/png": "[encoded data removed]",
      "text/plain": [
       "<matplotlib.figure.Figure at 0xd04d9e8>"
      ]
     },
     "metadata": {},
     "output_type": "display_data"
    },
    {
     "name": "stdout",
     "output_type": "stream",
     "text": [
      "Overall Error Rate:  40.75 %\n"
     ]
    },
    {
     "data": {
      "image/png": "[encoded data removed]",
      "text/plain": [
       "<matplotlib.figure.Figure at 0xd04d6a0>"
      ]
     },
     "metadata": {},
     "output_type": "display_data"
    },
    {
     "name": "stdout",
     "output_type": "stream",
     "text": [
      "Overall Error Rate:  41.75 %\n"
     ]
    },
    {
     "name": "stderr",
     "output_type": "stream",
     "text": [
      "C:\\Anaconda\\lib\\site-packages\\ipykernel\\__main__.py:43: VisibleDeprecationWarning: using a non-integer number instead of an integer will result in an error in the future\n"
     ]
    },
    {
     "data": {
      "image/png": "[encoded data removed]",
      "text/plain": [
       "<matplotlib.figure.Figure at 0xd4d9048>"
      ]
     },
     "metadata": {},
     "output_type": "display_data"
    },
    {
     "name": "stdout",
     "output_type": "stream",
     "text": [
      "Overall Error Rate:  23.5 %\n",
      "RMSE by Page\n",
      "0.809320702812\n",
      "RMSE by Category\n",
      "0.955248658727\n",
      "RMSE for Control (Assume All True)\n",
      "0.583095189485\n"
     ]
    }
   ],
   "source": [
    "# Repeat classifier on train data to check overfitting\n",
    "\n",
    "true_vals = np.array(train_data['Rating'])[:n]\n",
    "\n",
    "# Get probability tables for Naive Bayes\n",
    "\n",
    "page_probs, type_probs = build_probs(train_data, ['Page', 'Post Type'])\n",
    "cat_probs, type_probs = build_probs(train_data, ['Category', 'Post Type'])\n",
    "\n",
    "predict_page_probs = np.zeros((n,4))\n",
    "predict_cat_probs = np.zeros((n,4))\n",
    "\n",
    "# Estimate probability of each category for each test point\n",
    "for i in xrange(n):\n",
    "    test_pt = train_data.ix[all_inds[i+n]]\n",
    "    \n",
    "    for j in xrange(4):\n",
    "        page_ind = test_pt['Page']\n",
    "        cat_ind = test_pt['Category']\n",
    "        type_ind = test_pt['Post Type']\n",
    "        \n",
    "        predict_page_probs[i,j] = page_probs[j,page_ind] * type_probs[j,type_ind]\n",
    "        predict_cat_probs[i,j] = cat_probs[j,cat_ind] * type_probs[j,type_ind]\n",
    "        \n",
    "page_predictions = np.argmax(predict_page_probs,axis=1)\n",
    "cat_predictions = np.argmax(predict_cat_probs,axis=1)\n",
    "\n",
    "conf_mat(page_predictions, true_vals, \"Predictions by Page and Post Type\", \"page_overfit.png\")\n",
    "conf_mat(cat_predictions, true_vals, \"Predictions by Category and Post Type\", 'cat_overfit.png')\n",
    "conf_mat(2*np.ones(n), true_vals, 'Control Predictions', 'control_predicts.png')\n",
    "\n",
    "    \n",
    "print \"RMSE by Page\"\n",
    "print RMSE(page_predictions, true_vals)\n",
    "print \"RMSE by Category\"\n",
    "print RMSE(cat_predictions, true_vals)\n",
    "print \"RMSE for Control (Assume All True)\"\n",
    "print RMSE(2*np.ones(n), true_vals)"
   ]
  },
  {
   "cell_type": "code",
   "execution_count": 37,
   "metadata": {
    "collapsed": false
   },
   "outputs": [
    {
     "name": "stdout",
     "output_type": "stream",
     "text": [
      "Everything is True:\n",
      "\tSensitivity: 0.0\n",
      "\tSpecificity: 1.0\n",
      "\n",
      "Everything is False:\n",
      "\tSensitivity: 1.0\n",
      "\tSpecificity: 0.0\n",
      "\n",
      "False if 'mostly false' is highest probability:\n",
      "\tSensitivity: 0.642857142857\n",
      "\tSpecificity: 0.748704663212\n",
      "\n",
      "False if 'mostly false' or 'mixture' is highest probability:\n",
      "\tSensitivity: 0.928571428571\n",
      "\tSpecificity: 0.616580310881\n",
      "\n",
      "False if 'mostly false' is top two highest probability:\n",
      "\tSensitivity: 1.0\n",
      "\tSpecificity: 0.549222797927\n",
      "\n",
      "False if probability of 'mostly false' is >  0.75\n",
      "\tSensitivity: 0.0\n",
      "\tSpecificity: 1.0\n",
      "\n",
      "False if probability of 'mostly false' is >  0.5\n",
      "\tSensitivity: 0.642857142857\n",
      "\tSpecificity: 0.748704663212\n",
      "\n",
      "False if probability of 'mostly false' is >  0.15\n",
      "\tSensitivity: 0.928571428571\n",
      "\tSpecificity: 0.616580310881\n",
      "\n",
      "False if probability of 'mostly false' is >  0.05\n",
      "\tSensitivity: 0.928571428571\n",
      "\tSpecificity: 0.593264248705\n",
      "\n",
      "False if probability of 'mostly false' is >  0.01\n",
      "\tSensitivity: 1.0\n",
      "\tSpecificity: 0.549222797927\n",
      "\n",
      "False if normalized probability of 'mostly false' is >  0.5\n",
      "\tSensitivity: 0.0\n",
      "\tSpecificity: 1.0\n",
      "\n",
      "False if normalized probability of 'mostly false' is >  0.25\n",
      "\tSensitivity: 0.928571428571\n",
      "\tSpecificity: 0.616580310881\n",
      "\n",
      "False if normalized probability of 'mostly false' is >  0.01\n",
      "\tSensitivity: 1.0\n",
      "\tSpecificity: 0.549222797927\n"
     ]
    }
   ],
   "source": [
    "# Test for overfitting- sensitivity and specificity\n",
    "\n",
    "true_vals = np.array(train_data['Rating'])[:n]\n",
    "\n",
    "# Get probability tables for Naive Bayes\n",
    "\n",
    "page_probs, type_probs = build_probs(train_data, ['Page', 'Post Type'])\n",
    "cat_probs, type_probs = build_probs(train_data, ['Category', 'Post Type'])\n",
    "\n",
    "predict_page_probs = np.zeros((n,4))\n",
    "predict_cat_probs = np.zeros((n,4))\n",
    "\n",
    "# Estimate probability of each category for each test point\n",
    "for i in xrange(n):\n",
    "    test_pt = train_data.ix[all_inds[i+n]]\n",
    "    \n",
    "    for j in xrange(4):\n",
    "        page_ind = test_pt['Page']\n",
    "        cat_ind = test_pt['Category']\n",
    "        type_ind = test_pt['Post Type']\n",
    "        \n",
    "        predict_page_probs[i,j] = page_probs[j,page_ind] * type_probs[j,type_ind]\n",
    "        predict_cat_probs[i,j] = cat_probs[j,cat_ind] * type_probs[j,type_ind]\n",
    "        \n",
    "        # Sensitivity and specificity testing\n",
    "\n",
    "print \"Everything is True:\"\n",
    "print \"\\tSensitivity:\", sensitivity(np.zeros(400), true_vals)\n",
    "print \"\\tSpecificity:\", specificity(np.zeros(400), true_vals)\n",
    "\n",
    "print \"\\nEverything is False:\"\n",
    "print \"\\tSensitivity:\", sensitivity(np.ones(400), true_vals)\n",
    "print \"\\tSpecificity:\", specificity(np.ones(400), true_vals)\n",
    "\n",
    "print \"\\nFalse if 'mostly false' is highest probability:\"\n",
    "prediction = np.argmax(predict_cat_probs, axis=1)\n",
    "prediction[prediction != 0] = 2\n",
    "prediction[prediction == 0] = 1\n",
    "prediction[prediction == 2] = 0\n",
    "print \"\\tSensitivity:\", sensitivity(prediction, true_vals)\n",
    "print \"\\tSpecificity:\", specificity(prediction, true_vals)\n",
    "\n",
    "print \"\\nFalse if 'mostly false' or 'mixture' is highest probability:\"\n",
    "prediction = np.argmax(predict_cat_probs, axis=1)\n",
    "prediction[prediction == 0] = 1\n",
    "prediction[prediction == 0] = 1\n",
    "prediction[prediction != 1] = 0\n",
    "print \"\\tSensitivity:\", sensitivity(prediction, true_vals)\n",
    "print \"\\tSpecificity:\", specificity(prediction, true_vals)\n",
    "\n",
    "print \"\\nFalse if 'mostly false' is top two highest probability:\"\n",
    "toptwo = np.argsort(predict_cat_probs, axis=1)[:,2:]\n",
    "prediction = np.zeros(n)\n",
    "for i in xrange(n):\n",
    "    if 0 in toptwo[i]:\n",
    "        prediction[i] = 1\n",
    "    else:\n",
    "        prediction[i] = 0\n",
    "print \"\\tSensitivity:\", sensitivity(prediction, true_vals)\n",
    "print \"\\tSpecificity:\", specificity(prediction, true_vals)\n",
    "\n",
    "for threshold in [0.75, 0.5, 0.15, 0.05, 0.01]:\n",
    "    print \"\\nFalse if probability of 'mostly false' is > \", threshold\n",
    "    \n",
    "    prediction = np.zeros(n)\n",
    "    for i in xrange(n):\n",
    "        if predict_cat_probs[i,0] > threshold:\n",
    "            prediction[i] = 1\n",
    "        else:\n",
    "            prediction[i] = 0\n",
    "    print \"\\tSensitivity:\", sensitivity(prediction, true_vals)\n",
    "    print \"\\tSpecificity:\", specificity(prediction, true_vals)\n",
    "    \n",
    "for threshold in [0.5, 0.25, 0.01]:\n",
    "    print \"\\nFalse if normalized probability of 'mostly false' is > \", threshold\n",
    "    \n",
    "    prediction = np.zeros(n)\n",
    "    for i in xrange(n):\n",
    "        if predict_cat_probs[i,0]/np.sum(predict_cat_probs[i,:]) > threshold:\n",
    "            prediction[i] = 1\n",
    "        else:\n",
    "            prediction[i] = 0\n",
    "    print \"\\tSensitivity:\", sensitivity(prediction, true_vals)\n",
    "    print \"\\tSpecificity:\", specificity(prediction, true_vals)"
   ]
  },
  {
   "cell_type": "code",
   "execution_count": null,
   "metadata": {
    "collapsed": true
   },
   "outputs": [],
   "source": []
  }
 ],
 "metadata": {
  "kernelspec": {
   "display_name": "Python 2",
   "language": "python",
   "name": "python2"
  },
  "language_info": {
   "codemirror_mode": {
    "name": "ipython",
    "version": 2
   },
   "file_extension": ".py",
   "mimetype": "text/x-python",
   "name": "python",
   "nbconvert_exporter": "python",
   "pygments_lexer": "ipython2",
   "version": "2.7.13"
  }
 },
 "nbformat": 4,
 "nbformat_minor": 0
}
