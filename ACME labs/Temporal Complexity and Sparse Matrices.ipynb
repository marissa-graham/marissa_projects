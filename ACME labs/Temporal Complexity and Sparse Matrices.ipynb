{
 "metadata": {
  "name": "",
  "signature": "sha256:cc64eccea6f8ae83edbbffbe3db24840c07d9b9337c468ef9509b3454f159bd8"
 },
 "nbformat": 3,
 "nbformat_minor": 0,
 "worksheets": [
  {
   "cells": [
    {
     "cell_type": "code",
     "collapsed": false,
     "input": [
      "from matplotlib import pyplot as plt\n",
      "import numpy as np\n",
      "from scipy import sparse\n",
      "from scipy.sparse import linalg as sl\n",
      "# import scipy.sparse.linalg as sl\n",
      "from scipy import linalg"
     ],
     "language": "python",
     "metadata": {},
     "outputs": [],
     "prompt_number": 3
    },
    {
     "cell_type": "code",
     "collapsed": false,
     "input": [
      "def test(n):\n",
      "    t = 0\n",
      "    for i in xrange(n):\n",
      "        t += sum(xrange(i))\n",
      "        \n",
      "#%timeit test(1000)\n",
      "#%timeit test(2000)\n",
      "#%timeit test(4000)\n",
      "#%timeit test(8000)\n",
      "\n",
      "#Problem 1\n",
      "def problem1():\n",
      "    x = np.array([1000,2000,4000,8000])\n",
      "    y = np.array([11.2,45.8,185,753])\n",
      "    plt.scatter(x,y)\n",
      "    plt.show()\n",
      "    ratios = np.array([y[1]/y[0],y[2]/y[1],y[3]/y[2]])\n",
      "    average = np.sum(ratios)/3\n",
      "    print average\n",
      "\n",
      "#Problem 2\n",
      "def mytridiag(n):\n",
      "    Z = np.array([[-1]*n,[2]*n,[-1]*n])\n",
      "    return sparse.spdiags(Z,[-1,0,1],n, n).todense()\n",
      "\n",
      "#Problem 3\n",
      "def bigsparse(n):\n",
      "    Z = np.array([[-1]*n,[2]*n,[-1]*n])\n",
      "    return sparse.spdiags(Z,[-1,0,1], n, n, format='csr')\n",
      "\n",
      "#Problem 4\n",
      "def makesystem(n, sparse=False):\n",
      "    if sparse == False:\n",
      "        A = mytridiag(n)\n",
      "    if sparse == True:\n",
      "        A = bigsparse(n)\n",
      "    b = np.random.rand(n,1)\n",
      "    if sparse == True:\n",
      "        x = sl.spsolve(A,b)\n",
      "    if sparse == False:\n",
      "        x = scipy.linalg.solve(A,b)\n",
      "    return x\n",
      "#Sparse: 4.51ms\n",
      "#Full=296ms\n",
      "\n",
      "#Problem 5\n",
      "def eigey(n):\n",
      "    #return the smallest eigenvalue*n^2\n",
      "    A = bigsparse(n)\n",
      "    w = sl.eigs(A.asfptype(), which='SM', return_eigenvectors=False, maxiter=50000)\n",
      "    l = min(w)\n",
      "    return l*n*n"
     ],
     "language": "python",
     "metadata": {},
     "outputs": [],
     "prompt_number": 83
    },
    {
     "cell_type": "code",
     "collapsed": false,
     "input": [
      "import numpy as np\n",
      "from scipy import sparse\n",
      "A = np.random.rand(500,500)\n",
      "b = np.random.rand(500)\n",
      "%timeit A.dot(b)\n",
      "B = sparse.csc_matrix(A)\n",
      "%timeit B.dot(b)"
     ],
     "language": "python",
     "metadata": {},
     "outputs": [
      {
       "output_type": "stream",
       "stream": "stdout",
       "text": [
        "10000 loops, best of 3: 66.9 \u00b5s per loop\n",
        "1000 loops, best of 3: 371 \u00b5s per loop"
       ]
      },
      {
       "output_type": "stream",
       "stream": "stdout",
       "text": [
        "\n"
       ]
      }
     ],
     "prompt_number": 33
    },
    {
     "cell_type": "code",
     "collapsed": false,
     "input": [
      "print np.pi**2\n",
      "for i in [10,100,500,1000,1500,2000,2500,3000]:\n",
      "    print 'For n = ' + str(i) + ':' + str(eigey(i))"
     ],
     "language": "python",
     "metadata": {},
     "outputs": [
      {
       "output_type": "stream",
       "stream": "stdout",
       "text": [
        "9.86960440109\n",
        "For n = 10:(8.1014052771+0j)\n",
        "For n = 100:(9.67435416024+0j)"
       ]
      },
      {
       "output_type": "stream",
       "stream": "stdout",
       "text": [
        "\n",
        "For n = 500:(9.83021189251+0j)"
       ]
      },
      {
       "output_type": "stream",
       "stream": "stdout",
       "text": [
        "\n",
        "For n = 1000:(9.8498866766+0j)"
       ]
      },
      {
       "output_type": "stream",
       "stream": "stdout",
       "text": [
        "\n",
        "For n = 1500:(9.8564544781+0j)"
       ]
      },
      {
       "output_type": "stream",
       "stream": "stdout",
       "text": [
        "\n",
        "For n = 2000:(9.85974016838+0j)"
       ]
      },
      {
       "output_type": "stream",
       "stream": "stdout",
       "text": [
        "\n",
        "For n = 2500:(9.86171215543+0j)"
       ]
      },
      {
       "output_type": "stream",
       "stream": "stdout",
       "text": [
        "\n",
        "For n = 3000:(9.86302705208+0j)"
       ]
      },
      {
       "output_type": "stream",
       "stream": "stdout",
       "text": [
        "\n"
       ]
      }
     ],
     "prompt_number": 84
    },
    {
     "cell_type": "code",
     "collapsed": false,
     "input": [
      "from scipy import linalg as la\n",
      "import timeit\n",
      "import numpy as np\n",
      "from scipy import sparse\n",
      "from scipy.sparse import linalg as sl\n",
      "from matplotlib import pyplot as plt\n",
      "\n",
      "############### Problem 1 ###############\n",
      "def problem1():\n",
      "    # Graph the times it takes each function to run. Do not call any timing functions\n",
      "\n",
      "    pass\n",
      "\n",
      "# Single for loop\n",
      "def func1(n):\n",
      "    n = 500*n\n",
      "    sum(xrange(n))\n",
      "    # Since this is a single for loop, using xrange and an efficient sum() function, it\n",
      "    # has low temporal complexity, probably O(n) which means it has a lower runtime\n",
      "\n",
      "# Double for loop\n",
      "def func2(n):\n",
      "    n = 3*n\n",
      "    t = 0\n",
      "    for i in xrange(n):\n",
      "        t += sum(xrange(i))\n",
      "    # Since this is essentially a double for loop (including the same for loop of func1)\n",
      "    # it has higher temporal complexity, probably O(n^2). Spatial complexity should not\n",
      "    # be too bad since we are using generators\n",
      "\n",
      "# Square a matrix\n",
      "def func3(n):\n",
      "    n = int(1.2*n)\n",
      "    A = np.random.rand(n,n)\n",
      "    np.power(A, 2)\n",
      "    # Comment about spatial/temporal complexity\n",
      "\n",
      "# Invert a matrix\n",
      "def func4(n):\n",
      "    A = np.random.rand(n,n)\n",
      "    la.inv(A)\n",
      "    # Comment about spatial/temporal complexity\n",
      "\n",
      "# Find the determinant of a matrix\n",
      "def func5(n):\n",
      "    n = int(1.25*n)\n",
      "    A = np.random.rand(n, n)\n",
      "    la.det(A)\n",
      "    # Comment about spatial/temporal complexity"
     ],
     "language": "python",
     "metadata": {},
     "outputs": [],
     "prompt_number": 1
    },
    {
     "cell_type": "code",
     "collapsed": false,
     "input": [
      "times = [100,200,400,800]\n",
      "for n in times:\n",
      "    print 'Timing for func1, n = ' + str(n)\n",
      "    %timeit func1(n)\n",
      "for n in times:\n",
      "    print 'Timing for func2, n = ' + str(n)\n",
      "    %timeit func2(n)\n",
      "for n in times:\n",
      "    print 'Timing for func3, n = ' + str(n)\n",
      "    %timeit func3(n)\n",
      "for n in times:\n",
      "    print 'Timing for func4, n = ' + str(n)\n",
      "    %timeit func4(n)\n",
      "for n in times:\n",
      "    print 'Timing for func5, n = ' + str(n)\n",
      "    %timeit func5(n)"
     ],
     "language": "python",
     "metadata": {},
     "outputs": [
      {
       "output_type": "stream",
       "stream": "stdout",
       "text": [
        "Timing for func1, n = 100\n",
        "1000 loops, best of 3: 1.17 ms per loop"
       ]
      },
      {
       "output_type": "stream",
       "stream": "stdout",
       "text": [
        "\n",
        "Timing for func1, n = 200\n",
        "100 loops, best of 3: 7.68 ms per loop"
       ]
      },
      {
       "output_type": "stream",
       "stream": "stdout",
       "text": [
        "\n",
        "Timing for func1, n = 400\n",
        "10 loops, best of 3: 25.4 ms per loop"
       ]
      },
      {
       "output_type": "stream",
       "stream": "stdout",
       "text": [
        "\n",
        "Timing for func1, n = 800\n",
        "10 loops, best of 3: 60.9 ms per loop"
       ]
      },
      {
       "output_type": "stream",
       "stream": "stdout",
       "text": [
        "\n",
        "Timing for func2, n = 100\n",
        "1000 loops, best of 3: 1.03 ms per loop"
       ]
      },
      {
       "output_type": "stream",
       "stream": "stdout",
       "text": [
        "\n",
        "Timing for func2, n = 200\n",
        "100 loops, best of 3: 3.99 ms per loop"
       ]
      },
      {
       "output_type": "stream",
       "stream": "stdout",
       "text": [
        "\n",
        "Timing for func2, n = 400\n",
        "100 loops, best of 3: 16.3 ms per loop"
       ]
      },
      {
       "output_type": "stream",
       "stream": "stdout",
       "text": [
        "\n",
        "Timing for func2, n = 800\n",
        "10 loops, best of 3: 66.1 ms per loop"
       ]
      },
      {
       "output_type": "stream",
       "stream": "stdout",
       "text": [
        "\n",
        "Timing for func3, n = 100\n",
        "100 loops, best of 3: 3.23 ms per loop"
       ]
      },
      {
       "output_type": "stream",
       "stream": "stdout",
       "text": [
        "\n",
        "Timing for func3, n = 200\n",
        "100 loops, best of 3: 12.9 ms per loop"
       ]
      },
      {
       "output_type": "stream",
       "stream": "stdout",
       "text": [
        "\n",
        "Timing for func3, n = 400\n",
        "10 loops, best of 3: 53 ms per loop"
       ]
      },
      {
       "output_type": "stream",
       "stream": "stdout",
       "text": [
        "\n",
        "Timing for func3, n = 800\n",
        "1 loops, best of 3: 213 ms per loop"
       ]
      },
      {
       "output_type": "stream",
       "stream": "stdout",
       "text": [
        "\n",
        "Timing for func4, n = 100\n",
        "1000 loops, best of 3: 1.25 ms per loop"
       ]
      },
      {
       "output_type": "stream",
       "stream": "stdout",
       "text": [
        "\n",
        "Timing for func4, n = 200\n",
        "100 loops, best of 3: 3.81 ms per loop"
       ]
      },
      {
       "output_type": "stream",
       "stream": "stdout",
       "text": [
        "\n",
        "Timing for func4, n = 400\n",
        "100 loops, best of 3: 18.6 ms per loop"
       ]
      },
      {
       "output_type": "stream",
       "stream": "stdout",
       "text": [
        "\n",
        "Timing for func4, n = 800\n",
        "10 loops, best of 3: 96.7 ms per loop"
       ]
      },
      {
       "output_type": "stream",
       "stream": "stdout",
       "text": [
        "\n",
        "Timing for func5, n = 100\n",
        "1000 loops, best of 3: 1.19 ms per loop"
       ]
      },
      {
       "output_type": "stream",
       "stream": "stdout",
       "text": [
        "\n",
        "Timing for func5, n = 200\n",
        "100 loops, best of 3: 3.96 ms per loop"
       ]
      },
      {
       "output_type": "stream",
       "stream": "stdout",
       "text": [
        "\n",
        "Timing for func5, n = 400\n",
        "100 loops, best of 3: 16.8 ms per loop"
       ]
      },
      {
       "output_type": "stream",
       "stream": "stdout",
       "text": [
        "\n",
        "Timing for func5, n = 800\n",
        "10 loops, best of 3: 75.8 ms per loop"
       ]
      },
      {
       "output_type": "stream",
       "stream": "stdout",
       "text": [
        "\n"
       ]
      }
     ],
     "prompt_number": 4
    },
    {
     "cell_type": "code",
     "collapsed": false,
     "input": [
      "t1 = [1.17, 7.68, 25.4, 60.9]\n",
      "t2 = [1.03, 3.99, 16.3, 66.1]\n",
      "t3 = [3.23, 12.9, 53, 213]\n",
      "t4 = [1.25, 3.81, 18.6, 96.7]\n",
      "t5 = [1.19, 3.96, 16.8, 75.8]\n",
      "\n",
      "plt.plot(times, t1, label='Function 1')\n",
      "plt.plot(times, t2, label='Function 2')\n",
      "plt.plot(times, t3, label='Function 3')\n",
      "plt.plot(times, t4, label='Function 4')\n",
      "plt.plot(times, t5, label='Function 5')\n",
      "plt.legend(loc='upper left')\n",
      "plt.show()"
     ],
     "language": "python",
     "metadata": {},
     "outputs": []
    },
    {
     "cell_type": "code",
     "collapsed": false,
     "input": [],
     "language": "python",
     "metadata": {},
     "outputs": []
    }
   ],
   "metadata": {}
  }
 ]
}