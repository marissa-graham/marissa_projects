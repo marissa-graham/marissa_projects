{
 "metadata": {
  "name": "",
  "signature": "sha256:f13597c6b68f075a59c6431985e7069bfc60cd0ecdd05768437c1435ed5e1fb7"
 },
 "nbformat": 3,
 "nbformat_minor": 0,
 "worksheets": [
  {
   "cells": [
    {
     "cell_type": "code",
     "collapsed": false,
     "input": [
      "import numpy as np\n",
      "import math as m\n",
      "from matplotlib import pyplot as plt\n",
      "from collections import Counter\n",
      "from sklearn import datasets as ds\n",
      "from sklearn import neighbors\n",
      "\n",
      "def scale_data(training_set, scaling_vector):\n",
      "    '''\n",
      "    This function accepts a training set and a scaling vector and then returns \n",
      "    the scaled data.\n",
      "    Training set will be a tuple with two arrays:\n",
      "        training_set[0] is an nxm array of features\n",
      "        training_set[1] is an nx1 array of labels\n",
      "        \n",
      "    Scaling vector will scale each row of training_set[0].\n",
      "\n",
      "    Return a tuple of scaled data and labels.\n",
      "    '''\n",
      "    features = np.array(training_set[0], dtype=np.float_)\n",
      "    for index, x in np.ndenumerate(features):\n",
      "        features[index[0],index[1]] = float(x)/float(scaling_vector[index[1]])\n",
      "    return (features, labels)\n",
      "\n",
      "def calc_distance(training_set, scaling_vector, to_classify):\n",
      "    '''\n",
      "    Given a training set and scaling vector, use the previous method to scale \n",
      "    the training_set.\n",
      "    Once the training set is scaled, find the distance of each row to \n",
      "    to_classify.\n",
      "    \n",
      "    Once again, training_set is a tuple of features(nxm) and labels(nx1).\n",
      "    to_classify is an array of size mx1.\n",
      "\n",
      "    Return an nx2 array of labels in the first column and distances in the \n",
      "    second column.\n",
      "    '''\n",
      "    labels = training_set[1]\n",
      "    training_set = scale_data(training_set, scaling_vector)\n",
      "    to_classify = np.array(to_classify)\n",
      "    n = training_set[0].shape[0]\n",
      "\n",
      "    def euc_metrc(v1, v2):\n",
      "        '''\n",
      "        Calculate the euclidean distance between two vectors.\n",
      "        '''\n",
      "        v1 = np.array(v1)\n",
      "        v2 = np.array(v2)\n",
      "        d = np.abs(v1-v2)\n",
      "        return m.sqrt(np.dot(d,d))\n",
      "    \n",
      "    index = n\n",
      "    closest = [index, float(\"inf\")]\n",
      "    output = []\n",
      "    for i in xrange(n):\n",
      "        d = euc_metrc(to_classify, training_set[i])\n",
      "        if d < closest[1]:\n",
      "            closest[0] = i\n",
      "            closest[1] = d\n",
      "        output.append([labels,d])\n",
      "\n",
      "    return output\n",
      "\n",
      "'''\n",
      "The iris dataset is stored in a 150x4 numpy array, with the rows being\n",
      "the samples and the columns being various attributes of \n",
      "each sample. These are sepal length, sepal width, petal length, and \n",
      "petal width. And these are flowers, not the colored part of eyeballs.\n",
      "\n",
      "'''\n",
      "\n",
      "def average_integer(postal_data, integer):\n",
      "    '''\n",
      "    postal_data will be a tuple (points, labels) from the given postal data.\n",
      "    Find every point in the postal data that is labelled with the given \n",
      "    integer and display the average.\n",
      "    '''\n",
      "    labels = postal_data[1]\n",
      "    given = points[1][labels[1]==integer]\n",
      "    sum_given = np.sum(given, axis=0)\n",
      "    avg_given = (sum_given/len(given)).reshape((28,28))\n",
      "    plt.gray()\n",
      "    plt.imshow(avg_given)\n",
      "    plt.show()\n",
      "    \n",
      "def build_classifier(postal_data, n_neighbors, w, metric=2):\n",
      "    '''\n",
      "    Build and return a KNearestNeighbor classifier with sklearn\n",
      "    '''\n",
      "    neighbrs = neighbors.KNeighborsClassifier(n_neighbors=n_neighbors, weights = w, p=metric)\n",
      "    neighbrs.fit(postal_data[0], postal_data[1])\n",
      "    return neighbrs\n",
      "\n",
      "def classify_postal_data(classifier, test_points, test_labels):\n",
      "    '''\n",
      "    Classify the test_points using the classifier you built.\n",
      "    test_labels contains the true labels for the test points.\n",
      "    Return your error rate, i.e. num_correct/len(test_points)\n",
      "    '''\n",
      "    test = classifier.predict(test_points[1])\n",
      "    errors = test - test_labels[1]\n",
      "    wrong = np.nonzero(errors)[0].size\n",
      "    total = test_labels[1].size\n",
      "    return float(total-wrong)/float(total)"
     ],
     "language": "python",
     "metadata": {},
     "outputs": [],
     "prompt_number": 1
    },
    {
     "cell_type": "code",
     "collapsed": false,
     "input": [
      "labels, points, testlabels, testpoints = np.load('PostalData.npz').items()\n",
      "postal_data = (points[1], labels[1])\n",
      "\n",
      "print 'Building classifiers...'\n",
      "classifier1 = build_classifier(postal_data, 4, 'uniform')\n",
      "classifier2 = build_classifier(postal_data, 4, 'distance')\n",
      "classifier3 = build_classifier(postal_data, 10, 'uniform')\n",
      "classifier4 = build_classifier(postal_data, 10, 'distance')\n",
      "classifier5 = build_classifier(postal_data, 1, 'uniform')\n",
      "classifier6 = build_classifier(postal_data, 1, 'distance')\n",
      "\n",
      "print 'Calculating errors...'\n",
      "error1 = classify_postal_data(classifier1, testpoints, testlabels)\n",
      "print 'error1 complete'\n",
      "error2 = classify_postal_data(classifier2, testpoints, testlabels)\n",
      "print 'error2 complete'\n",
      "error3 = classify_postal_data(classifier3, testpoints, testlabels)\n",
      "print 'error3 complete'\n",
      "error4 = classify_postal_data(classifier4, testpoints, testlabels)\n",
      "print 'error4 complete'\n",
      "error5 = classify_postal_data(classifier5, testpoints, testlabels)\n",
      "print 'error5 complete'\n",
      "error6 = classify_postal_data(classifier6, testpoints, testlabels)\n",
      "print 'error6 complete\\n'\n",
      "\n",
      "print 'Error for 4 neighbors, uniform weights: ' + str(error1)\n",
      "print 'Error for 4 neighbors, distance weights: ' + str(error2)\n",
      "print 'Error for 10 neighbors, uniform weights: ' + str(error3)\n",
      "print 'Error for 10 neighbors, distance weights: ' + str(error4)\n",
      "print 'Error for 1 neighbor, uniform weights: ' + str(error5)\n",
      "print 'Error for 1 neighbor, distance weights: ' + str(error6)"
     ],
     "language": "python",
     "metadata": {},
     "outputs": [
      {
       "output_type": "stream",
       "stream": "stdout",
       "text": [
        "Building classifiers...\n",
        "Calculating errors..."
       ]
      },
      {
       "output_type": "stream",
       "stream": "stdout",
       "text": [
        "\n",
        "error1 complete"
       ]
      },
      {
       "output_type": "stream",
       "stream": "stdout",
       "text": [
        "\n",
        "error2 complete"
       ]
      },
      {
       "output_type": "stream",
       "stream": "stdout",
       "text": [
        "\n",
        "error3 complete"
       ]
      },
      {
       "output_type": "stream",
       "stream": "stdout",
       "text": [
        "\n",
        "error4 complete"
       ]
      },
      {
       "output_type": "stream",
       "stream": "stdout",
       "text": [
        "\n",
        "error5 complete"
       ]
      },
      {
       "output_type": "stream",
       "stream": "stdout",
       "text": [
        "\n",
        "error6 complete\n"
       ]
      },
      {
       "output_type": "stream",
       "stream": "stdout",
       "text": [
        "\n",
        "Error for 4 neighbors, uniform weights: 0.954\n",
        "Error for 4 neighbors, distance weights: 0.955\n",
        "Error for 10 neighbors, uniform weights: 0.949\n",
        "Error for 10 neighbors, distance weights: 0.952\n",
        "Error for 1 neighbor, uniform weights: 0.953\n",
        "Error for 1 neighbor, distance weights: 0.953\n"
       ]
      }
     ],
     "prompt_number": 2
    },
    {
     "cell_type": "code",
     "collapsed": false,
     "input": [
      "features = [[30,4,5000,3],[18,0,5000,4],[29,4,4900,3]]\n",
      "labels = ['Bob', 'James', 'Alice']\n",
      "scaling_vector = [100,4,1000,10]\n",
      "training_set = (features, labels)\n",
      "unlabeled = [.25,.3,5,.2]\n",
      "calc_distance(training_set, scaling_vector, unlabeled)"
     ],
     "language": "python",
     "metadata": {},
     "outputs": [
      {
       "ename": "ValueError",
       "evalue": "matrices are not aligned",
       "output_type": "pyerr",
       "traceback": [
        "\u001b[1;31m---------------------------------------------------------------------------\u001b[0m\n\u001b[1;31mValueError\u001b[0m                                Traceback (most recent call last)",
        "\u001b[1;32m<ipython-input-7-2217d7e1d3a2>\u001b[0m in \u001b[0;36m<module>\u001b[1;34m()\u001b[0m\n\u001b[0;32m      4\u001b[0m \u001b[0mtraining_set\u001b[0m \u001b[1;33m=\u001b[0m \u001b[1;33m(\u001b[0m\u001b[0mfeatures\u001b[0m\u001b[1;33m,\u001b[0m \u001b[0mlabels\u001b[0m\u001b[1;33m)\u001b[0m\u001b[1;33m\u001b[0m\u001b[0m\n\u001b[0;32m      5\u001b[0m \u001b[0munlabeled\u001b[0m \u001b[1;33m=\u001b[0m \u001b[1;33m[\u001b[0m\u001b[1;36m.25\u001b[0m\u001b[1;33m,\u001b[0m\u001b[1;36m.3\u001b[0m\u001b[1;33m,\u001b[0m\u001b[1;36m5\u001b[0m\u001b[1;33m,\u001b[0m\u001b[1;36m.2\u001b[0m\u001b[1;33m]\u001b[0m\u001b[1;33m\u001b[0m\u001b[0m\n\u001b[1;32m----> 6\u001b[1;33m \u001b[0mcalc_distance\u001b[0m\u001b[1;33m(\u001b[0m\u001b[0mtraining_set\u001b[0m\u001b[1;33m,\u001b[0m \u001b[0mscaling_vector\u001b[0m\u001b[1;33m,\u001b[0m \u001b[0munlabeled\u001b[0m\u001b[1;33m)\u001b[0m\u001b[1;33m\u001b[0m\u001b[0m\n\u001b[0m",
        "\u001b[1;32m<ipython-input-1-02a1eb9a38e8>\u001b[0m in \u001b[0;36mcalc_distance\u001b[1;34m(training_set, scaling_vector, to_classify)\u001b[0m\n\u001b[0;32m     54\u001b[0m     \u001b[0moutput\u001b[0m \u001b[1;33m=\u001b[0m \u001b[1;33m[\u001b[0m\u001b[1;33m]\u001b[0m\u001b[1;33m\u001b[0m\u001b[0m\n\u001b[0;32m     55\u001b[0m     \u001b[1;32mfor\u001b[0m \u001b[0mi\u001b[0m \u001b[1;32min\u001b[0m \u001b[0mxrange\u001b[0m\u001b[1;33m(\u001b[0m\u001b[0mn\u001b[0m\u001b[1;33m)\u001b[0m\u001b[1;33m:\u001b[0m\u001b[1;33m\u001b[0m\u001b[0m\n\u001b[1;32m---> 56\u001b[1;33m         \u001b[0md\u001b[0m \u001b[1;33m=\u001b[0m \u001b[0meuc_metrc\u001b[0m\u001b[1;33m(\u001b[0m\u001b[0mto_classify\u001b[0m\u001b[1;33m,\u001b[0m \u001b[0mtraining_set\u001b[0m\u001b[1;33m[\u001b[0m\u001b[0mi\u001b[0m\u001b[1;33m]\u001b[0m\u001b[1;33m)\u001b[0m\u001b[1;33m\u001b[0m\u001b[0m\n\u001b[0m\u001b[0;32m     57\u001b[0m         \u001b[1;32mif\u001b[0m \u001b[0md\u001b[0m \u001b[1;33m<\u001b[0m \u001b[0mclosest\u001b[0m\u001b[1;33m[\u001b[0m\u001b[1;36m1\u001b[0m\u001b[1;33m]\u001b[0m\u001b[1;33m:\u001b[0m\u001b[1;33m\u001b[0m\u001b[0m\n\u001b[0;32m     58\u001b[0m             \u001b[0mclosest\u001b[0m\u001b[1;33m[\u001b[0m\u001b[1;36m0\u001b[0m\u001b[1;33m]\u001b[0m \u001b[1;33m=\u001b[0m \u001b[0mi\u001b[0m\u001b[1;33m\u001b[0m\u001b[0m\n",
        "\u001b[1;32m<ipython-input-1-02a1eb9a38e8>\u001b[0m in \u001b[0;36meuc_metrc\u001b[1;34m(v1, v2)\u001b[0m\n\u001b[0;32m     48\u001b[0m         \u001b[0mv2\u001b[0m \u001b[1;33m=\u001b[0m \u001b[0mnp\u001b[0m\u001b[1;33m.\u001b[0m\u001b[0marray\u001b[0m\u001b[1;33m(\u001b[0m\u001b[0mv2\u001b[0m\u001b[1;33m)\u001b[0m\u001b[1;33m\u001b[0m\u001b[0m\n\u001b[0;32m     49\u001b[0m         \u001b[0md\u001b[0m \u001b[1;33m=\u001b[0m \u001b[0mnp\u001b[0m\u001b[1;33m.\u001b[0m\u001b[0mabs\u001b[0m\u001b[1;33m(\u001b[0m\u001b[0mv1\u001b[0m\u001b[1;33m-\u001b[0m\u001b[0mv2\u001b[0m\u001b[1;33m)\u001b[0m\u001b[1;33m\u001b[0m\u001b[0m\n\u001b[1;32m---> 50\u001b[1;33m         \u001b[1;32mreturn\u001b[0m \u001b[0mm\u001b[0m\u001b[1;33m.\u001b[0m\u001b[0msqrt\u001b[0m\u001b[1;33m(\u001b[0m\u001b[0mnp\u001b[0m\u001b[1;33m.\u001b[0m\u001b[0mdot\u001b[0m\u001b[1;33m(\u001b[0m\u001b[0md\u001b[0m\u001b[1;33m,\u001b[0m\u001b[0md\u001b[0m\u001b[1;33m)\u001b[0m\u001b[1;33m)\u001b[0m\u001b[1;33m\u001b[0m\u001b[0m\n\u001b[0m\u001b[0;32m     51\u001b[0m \u001b[1;33m\u001b[0m\u001b[0m\n\u001b[0;32m     52\u001b[0m     \u001b[0mindex\u001b[0m \u001b[1;33m=\u001b[0m \u001b[0mn\u001b[0m\u001b[1;33m\u001b[0m\u001b[0m\n",
        "\u001b[1;31mValueError\u001b[0m: matrices are not aligned"
       ]
      }
     ],
     "prompt_number": 7
    },
    {
     "cell_type": "code",
     "collapsed": false,
     "input": [
      "A = points[1][0]\n",
      "A = A.reshape((28,28))\n",
      "labels[1][0]\n",
      "from matplotlib import pyplot as plt\n",
      "plt.gray()\n",
      "plt.imshow(A)\n",
      "plt.show()"
     ],
     "language": "python",
     "metadata": {},
     "outputs": []
    },
    {
     "cell_type": "code",
     "collapsed": false,
     "input": [],
     "language": "python",
     "metadata": {},
     "outputs": []
    }
   ],
   "metadata": {}
  }
 ]
}