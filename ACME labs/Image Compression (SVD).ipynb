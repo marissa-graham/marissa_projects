{
 "metadata": {
  "name": "",
  "signature": "sha256:000aca07b1450840d1edc7f21c0701e75b4774a243fd0fd802dae8a44fb647fd"
 },
 "nbformat": 3,
 "nbformat_minor": 0,
 "worksheets": [
  {
   "cells": [
    {
     "cell_type": "code",
     "collapsed": false,
     "input": [
      "'''\n",
      "Solutions file for Volume 1 Lab 11\n",
      "Call your solutions file 'lab11.py'\n",
      "'''\n",
      "import numpy as np\n",
      "from scipy import linalg as la\n",
      "from matplotlib import pyplot as plt\n",
      "%matplotlib inline\n",
      "\n",
      "def svd_approx(A, k):\n",
      "    '''\n",
      "    Calculate the best rank k approximation to A with respect to the induced\n",
      "    2-norm. Use the SVD.\n",
      "    Inputs:\n",
      "        A -- array of shape (m,n)\n",
      "        k -- positive integer\n",
      "    Returns:\n",
      "        Ahat -- best rank k approximation to A obtained via the SVD\n",
      "    '''\n",
      "    U, s, Vt = la.svd(A, full_matrices=False)\n",
      "    S = np.diag(s[:k])\n",
      "    Ahat = U[:,:k].dot(S).dot(Vt[:k,:])\n",
      "    return Ahat\n",
      "    \n",
      "    \n",
      "def lowest_rank_approx(A,e):\n",
      "    '''\n",
      "    Calculate the lowest rank approximation to A that has error strictly less \n",
      "    than e (in induced 2-norm).\n",
      "    Inputs:\n",
      "        A -- array of shape (m,n)\n",
      "        e -- positive floating point number\n",
      "    Returns:\n",
      "        Ahat -- the best rank s approximation of A constrained to have error \n",
      "                less than e, where s is as small as possible.\n",
      "    '''\n",
      "    # 2norm(A-Ahat_s) = sigma[s+1]\n",
      "    U, s, Vt = la.svd(A, full_matrices=False)\n",
      "    k = np.where(s < e)[0][0]\n",
      "    S = np.diag(s[:k])\n",
      "    return U[:,:k].dot(S).dot(Vt[:k,:])"
     ],
     "language": "python",
     "metadata": {},
     "outputs": [],
     "prompt_number": 19
    },
    {
     "cell_type": "code",
     "collapsed": false,
     "input": [],
     "language": "python",
     "metadata": {},
     "outputs": []
    }
   ],
   "metadata": {}
  }
 ]
}