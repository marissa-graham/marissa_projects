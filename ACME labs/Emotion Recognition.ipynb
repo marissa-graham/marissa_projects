{
 "cells": [
  {
   "cell_type": "code",
   "execution_count": 2,
   "metadata": {
    "collapsed": false
   },
   "outputs": [
    {
     "name": "stderr",
     "output_type": "stream",
     "text": [
      "MFCC.py:35: VisibleDeprecationWarning: using a non-integer number instead of an integer will result in an error in the future\n",
      "  M[r,c+1] += 2 * (1 - pm[c])\n",
      "MFCC.py:38: VisibleDeprecationWarning: using a non-integer number instead of an integer will result in an error in the future\n",
      "  M[r,c+1] += 2 * pm[c]\n"
     ]
    }
   ],
   "source": [
    "import numpy as np\n",
    "from numpy import fft\n",
    "import gmmhmm\n",
    "import MFCC\n",
    "import glob\n",
    "import pickle\n",
    "from scipy.misc import imread\n",
    "from matplotlib import pyplot as plt\n",
    "from sklearn.feature_extraction.image import extract_patches_2d\n",
    "from scipy import linalg as la\n",
    "%matplotlib inline"
   ]
  },
  {
   "cell_type": "markdown",
   "metadata": {},
   "source": [
    "For the KDEF Database, we want series one, female and male subjects, at a straight on angle, expressing the emotions of afraid, angry, disgusted, happy, neutral, and sad.\n",
    "\n",
    "These consist of images of the form \"A(F|M)(01-35)(AF|AN|DI|HA|NE|SA)S.jpg\""
   ]
  },
  {
   "cell_type": "code",
   "execution_count": 11,
   "metadata": {
    "collapsed": false
   },
   "outputs": [],
   "source": [
    "def get_sampledicts():\n",
    "    emotions = ['AF','AN','DI','HA','NE','SA']\n",
    "    full_emotions = {'AF':'Fear','AN':'Anger','DI':'Disgust',\\\n",
    "                     'HA':'Happiness','NE':'Neutral','SA':'Sadness'}\n",
    "    \n",
    "    sampledict = {}\n",
    "    for emotion in emotions:\n",
    "        sampledict[emotion] = []\n",
    "        for sex in ['M','F']:\n",
    "            for k in xrange(1,3):\n",
    "                if len(str(k)) == 1:\n",
    "                    k = '0'+str(k)\n",
    "                else:\n",
    "                    k = str(k)\n",
    "                fname = 'KDEF\\KDEF\\A'+sex+k+'\\A'+sex+k+emotion+'S.jpg'\n",
    "                # Image size is now 380x280\n",
    "                img = imread(fname,flatten=True)[:-2:2,:-2:2]\n",
    "                \n",
    "                num_patches = 239\n",
    "                patches = extract_patches_2d(img,(10,10),max_patches=num_patches)\n",
    "                \n",
    "                \n",
    "                print fft.fft2(patches[0,:,:],(10,1)).shape\n",
    "                \n",
    "                \"\"\"\n",
    "                features = np.zeros((num_patches,10))\n",
    "                for i in xrange(num_patches):\n",
    "                    U, s, Vt = la.svd(patches[i,:,:])\n",
    "                    features[i,:] = s\n",
    "                \n",
    "                \n",
    "                U, s, Vt = la.svd(img)\n",
    "                print U.shape\n",
    "                print s.shape\n",
    "                s = s.reshape(1,-1)\n",
    "                print s.shape\n",
    "                \n",
    "                img = img.astype(np.int16)\n",
    "                img = img.ravel()\n",
    "                \n",
    "                extracted = MFCC.extract(img)\n",
    "                print extracted.shape\n",
    "                sampledict[emotion].append(extracted)\n",
    "                #plt.imshow(img.reshape((380,280)),cmap='Greys_r')\n",
    "                #plt.show()\n",
    "                \"\"\"\n",
    "                \n",
    "    \n",
    "    return emotions, sampledict\n",
    "\n",
    "# Problem 3\n",
    "def train(names, samples):\n",
    "    best_models = []\n",
    "    for name in names:\n",
    "        print name\n",
    "        best = -np.inf\n",
    "        best_model = None\n",
    "        for i in xrange(10):\n",
    "            print \"Test number \", i\n",
    "            startprob, transmat = initialize(5)\n",
    "            model = gmmhmm.GMMHMM(n_components=5, n_mix=3, transmat=transmat, startprob=startprob, cvtype='diag')\n",
    "            # these values for covars_prior and var should work well for this problem\n",
    "            model.covars_prior = 0.01\n",
    "            model.fit(samples[name][:20], init_params='mc', var=0.1)\n",
    "            print \"Training on \", name, \"result: \", model.logprob, 'at time ', time.asctime(time.localtime())\n",
    "            if model.logprob > best:\n",
    "                best = model.logprob\n",
    "                best_model = model\n",
    "                #f = open(model_name(name),'w')\n",
    "                #pickle.dump(model,f)\n",
    "                #print \"New best prob: \", best\n",
    "                #f.close()\n",
    "        best_models.append(best_model)\n",
    "    #print best_models\n",
    "    return best_models\n",
    "\n",
    "def test(names, samples, models):\n",
    "    results = []\n",
    "    for name in names:\n",
    "        for i in xrange(20,30):\n",
    "            best = -np.inf\n",
    "            best_model = -1\n",
    "            for j in xrange(len(models)):\n",
    "                score = models[j].score(i)\n",
    "                if score > best:\n",
    "                    best = score\n",
    "                    best_model = j\n",
    "            results.append(best_model)\n",
    "            \n",
    "    results = np.array(results)\n",
    "    return results"
   ]
  },
  {
   "cell_type": "code",
   "execution_count": 46,
   "metadata": {
    "collapsed": false
   },
   "outputs": [
    {
     "name": "stdout",
     "output_type": "stream",
     "text": [
      "0.22\n",
      "0.46\n",
      "0.04\n",
      "0.26\n",
      "0.36\n",
      "0.1\n",
      "Overall:  0.24\n",
      "0.2\n",
      "0.4\n",
      "0.35\n",
      "0.15\n",
      "0.1\n",
      "0.2\n",
      "Overall:  0.233333333333\n"
     ]
    }
   ],
   "source": [
    "data = np.loadtxt('mini_emotion_results.txt')\n",
    "arrs = np.split(data,[50,100,150,200,250])\n",
    "results = 0\n",
    "for i in xrange(len(arrs)):\n",
    "    result = (50 - np.count_nonzero(arrs[i]-i))/50.\n",
    "    results += result\n",
    "    print result\n",
    "print 'Overall: ',results/6.\n",
    "    \n",
    "data1 = np.loadtxt('emotion_results1.txt')\n",
    "arrs = np.split(data1,6)\n",
    "results = 0\n",
    "for i in xrange(6):\n",
    "    result = (20 - np.count_nonzero(arrs[i] - i))/20.\n",
    "    results += result\n",
    "    print result\n",
    "print 'Overall: ', results/6."
   ]
  },
  {
   "cell_type": "code",
   "execution_count": 1,
   "metadata": {
    "collapsed": true
   },
   "outputs": [],
   "source": [
    "# Patch method: 239 patches was pretty abysmal, only 20% accuracy. Trying enough\n",
    "# patches to get the whole image didn't really help much. Notice that disgust \n",
    "# has a pretty high thing for both things"
   ]
  },
  {
   "cell_type": "code",
   "execution_count": 69,
   "metadata": {
    "collapsed": false
   },
   "outputs": [
    {
     "data": {
      "text/plain": [
       "\"\\nax = plt.subplot(111, frame_on=False) # no visible frame\\nax.xaxis.set_visible(False)  # hide the x axis\\nax.yaxis.set_visible(False)  # hide the y axis\\n\\ntable(ax, data)  # where df is your data frame\\nplt.savefig('emotion_pair_table.png')\\n\\nfig = plt.figure()\\nax2 = seaborn.heatmap(data,annot=True,xticklabels=True,yticklabels=True,linewidths=.5,cmap='YlGnBu',cbar=False)\\nax = fig.add_subplot(ax2)\\nfig.savefig('seaborn_emotion_pairs.png')\\n\""
      ]
     },
     "execution_count": 69,
     "metadata": {},
     "output_type": "execute_result"
    }
   ],
   "source": [
    "import pandas as pd\n",
    "import seaborn\n",
    "from pandas.tools.plotting import table\n",
    "data = pd.DataFrame()\n",
    "\n",
    "emotion_pairs = ['AF/AN','AF/DI','AF/HA','AF/NE','AF/SA','AN/DI','AN/HA','AN/NE',\n",
    "                'AN/SA','DI/HA','DI/NE','DI/SA','HA/NE','HA/SA','NE/SA','Overall']\n",
    "column_titles = ['C','SH','SL','SHC','FHC','FLC','FL','Average']\n",
    "\n",
    "pair_results = [[.55,.58,.6,.53,.5,.58,.48],\n",
    "               [.58,.48,.5,.48,.5,.58,.45],\n",
    "               [.58,.5,.6,.75,.6,.65,.5],\n",
    "               [.55,.53,.58,.53,.63,.48,.55],\n",
    "               [.5,.5,.5,.48,.53,.53,.53],\n",
    "               [.55,.6,.58,.63,.63,.65,.53],\n",
    "               [.7,.63,.48,.6,.58,.5,.45],\n",
    "               [.68,.6,.68,.55,.7,.6,.63],\n",
    "               [.63,.53,.55,.53,.6,.5,.53],\n",
    "               [.45,.58,.6,.58,.5,.55,.6],\n",
    "               [.5,.5,.58,.6,.65,.55,.48],\n",
    "               [.55,.5,.53,.5,.53,.6,.48],\n",
    "               [.63,.53,.55,.55,.53,.53,.5],\n",
    "               [.58,.5,.55,.6,.53,.48,.58],\n",
    "               [.63,.6,.63,.63,.55,.5,.55]]\n",
    "pair_results = np.array(pair_results)\n",
    "\n",
    "method_avg = np.mean(pair_results,axis=0)\n",
    "\n",
    "pair_results = np.vstack((pair_results,method_avg))\n",
    "pair_avg = np.mean(pair_results,axis=1)\n",
    "\n",
    "pair_results = np.hstack((pair_results,pair_avg.reshape((16,1))))\n",
    "\n",
    "for i in xrange(8):\n",
    "    column_dict = {}\n",
    "    for j in xrange(16):\n",
    "        column_dict[emotion_pairs[j]] = pair_results[j,i]\n",
    "    data[column_titles[i]] = pd.Series(column_dict)\n",
    "\"\"\"\n",
    "ax = plt.subplot(111, frame_on=False) # no visible frame\n",
    "ax.xaxis.set_visible(False)  # hide the x axis\n",
    "ax.yaxis.set_visible(False)  # hide the y axis\n",
    "\n",
    "table(ax, data)  # where df is your data frame\n",
    "plt.savefig('emotion_pair_table.png')\n",
    "\n",
    "fig = plt.figure()\n",
    "ax2 = seaborn.heatmap(data,annot=True,xticklabels=True,yticklabels=True,linewidths=.5,cmap='YlGnBu',cbar=False)\n",
    "ax = fig.add_subplot(ax2)\n",
    "fig.savefig('seaborn_emotion_pairs.png')\n",
    "\"\"\""
   ]
  },
  {
   "cell_type": "code",
   "execution_count": 70,
   "metadata": {
    "collapsed": false
   },
   "outputs": [
    {
     "name": "stdout",
     "output_type": "stream",
     "text": [
      "(6L, 20L)\n"
     ]
    }
   ],
   "source": [
    "data1 = np.loadtxt('emotion_results1.txt')\n",
    "data1 = data1.astype('int64')\n",
    "emotions = ['AF','AN','DI','HA','NE','SA']\n",
    "arrs = np.split(data1,6)\n",
    "print np.array(arrs).shape\n",
    "results = 0\n",
    "df = pd.DataFrame()\n",
    "for i in xrange(6):\n",
    "    c_dict = {}\n",
    "    counters = np.bincount(arrs[i])\n",
    "    for j in xrange(6):\n",
    "        c_dict[emotions[j]] = counters[j]\n",
    "    df[emotions[i]] = pd.Series(c_dict)\n",
    "    \n",
    "df = df.transpose()\n",
    "\n",
    "#fig = plt.figure()\n",
    "#ax3 = df.plot(kind='bar')\n",
    "#plt.savefig('example_emotion_guesses.png')"
   ]
  },
  {
   "cell_type": "code",
   "execution_count": null,
   "metadata": {
    "collapsed": true
   },
   "outputs": [],
   "source": []
  }
 ],
 "metadata": {
  "kernelspec": {
   "display_name": "Python 2",
   "language": "python",
   "name": "python2"
  },
  "language_info": {
   "codemirror_mode": {
    "name": "ipython",
    "version": 2
   },
   "file_extension": ".py",
   "mimetype": "text/x-python",
   "name": "python",
   "nbconvert_exporter": "python",
   "pygments_lexer": "ipython2",
   "version": "2.7.11"
  }
 },
 "nbformat": 4,
 "nbformat_minor": 0
}
