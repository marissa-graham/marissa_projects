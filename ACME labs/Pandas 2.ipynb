{
 "cells": [
  {
   "cell_type": "code",
   "execution_count": 9,
   "metadata": {
    "collapsed": false
   },
   "outputs": [
    {
     "name": "stdout",
     "output_type": "stream",
     "text": [
      "Romney: \n",
      "Obama: \n"
     ]
    }
   ],
   "source": [
    "import pandas as pd\n",
    "import numpy as np\n",
    "import os\n",
    "from matplotlib import pyplot as plt\n",
    "    \n",
    "# Problem 1\n",
    "def prob1():\n",
    "    # Take it out of the function to run so it's a global thing\n",
    "    my_store = pd.HDFStore('contributions.h5')\n",
    "    csv_path = 'campaign.csv'\n",
    "\n",
    "    n_chunk = 50000\n",
    "    col_types = {'cmte_id':object,'cand_id':object,'cand_nm':object,\n",
    "                 'contbr_nm':object,'contbr_city':object,'contbr_st':object,\n",
    "                 'contbr_zip':object,'contbr_employer':object,\n",
    "                 'contbr_occupation':object,'contb_receipt_amt':np.float,\n",
    "                 'receipt_desc':object,'memo_cd':object,'memo_text':object,\n",
    "                 'form_tp':object,'file_num':np.float,'tran_id':object,\n",
    "                 'election_tp':object};\n",
    "    reader = pd.read_csv(csv_path, sep=',', dtype=col_types, index_col=False, chunksize=n_chunk, skipinitialspace=True, parse_dates=['contb_receipt_dt'])\n",
    "    data_cols = ['cand_nm','contbr_st','contb_receipt_amt','contb_occupation']\n",
    "    first = True\n",
    "    i = 0\n",
    "    for chunk in reader:\n",
    "        i += 1\n",
    "        print i\n",
    "        if first:\n",
    "            my_store.append('contributor_data',chunk,data_columns=data_cols,index=False,min_itemsize=100)\n",
    "            first = False\n",
    "        else:\n",
    "            my_store.append('contributor_data',chunk,index=False,min_itemsize=100)\n",
    "    my_store.create_table_index('contributor_data', optlevel=9, kind='full')\n",
    "\n",
    "def prob2():\n",
    "    n_rom_IA = len(my_store.select('contributor_data', where=[\"'contbr_st' == 'IA'\", \"'cand_nm' == 'Romney, Mitt'\"]))\n",
    "    n_obama_IA = len(my_store.select('contributor_data', where=[\"'contbr_st' == 'IA'\", \"'cand_nm' == 'Obama, Barack'\"]))\n",
    "    \n",
    "    print 'Obama: ', n_obama_IA\n",
    "    print 'Romney: ', n_rom_IA\n",
    "    \n",
    "def prob3():\n",
    "    # Calculate the total net contributions to Barack Obama and Mitt Romney\n",
    "    # and plot the results in a bar graph\n",
    "    \n",
    "    obama_total = 0\n",
    "    romney_total = 0\n",
    "    \n",
    "    print \"Romney: \"\n",
    "    i = 0\n",
    "    for df in my_store.select('contributor_data', where=[\"'cand_nm' == 'Romney, Mitt'\"], columns = ['contb_receipt_amt'], chunksize=10000):\n",
    "        to_add = df.contb_receipt_amt.sum()\n",
    "        print i, to_add, '\\r',\n",
    "        i += 1\n",
    "        romney_total += to_add\n",
    "    \n",
    "    print \"Obama: \"\n",
    "    i = 0\n",
    "    for df in my_store.select('contributor_data', where=[\"'cand_nm' == 'Obama, Barack'\"], columns = ['contb_receipt_amt'], chunksize=10000):\n",
    "        to_add = df.contb_receipt_amt.sum()\n",
    "        print i, to_add, '\\r',\n",
    "        i += 1\n",
    "        obama_total += to_add\n",
    "        \n",
    "    plt.bar([0.1,0.6],[obama_total, romney_total], width=0.4)\n",
    "    plt.show()"
   ]
  },
  {
   "cell_type": "code",
   "execution_count": 2,
   "metadata": {
    "collapsed": false
   },
   "outputs": [
    {
     "name": "stdout",
     "output_type": "stream",
     "text": [
      "10\n"
     ]
    }
   ],
   "source": [
    "import numpy as np\n",
    "x = np.linspace(0,1,10)\n",
    "print len(x)"
   ]
  },
  {
   "cell_type": "code",
   "execution_count": null,
   "metadata": {
    "collapsed": false
   },
   "outputs": [],
   "source": []
  }
 ],
 "metadata": {
  "kernelspec": {
   "display_name": "Python 2",
   "language": "python",
   "name": "python2"
  },
  "language_info": {
   "codemirror_mode": {
    "name": "ipython",
    "version": 2
   },
   "file_extension": ".py",
   "mimetype": "text/x-python",
   "name": "python",
   "nbconvert_exporter": "python",
   "pygments_lexer": "ipython2",
   "version": "2.7.13"
  }
 },
 "nbformat": 4,
 "nbformat_minor": 0
}
