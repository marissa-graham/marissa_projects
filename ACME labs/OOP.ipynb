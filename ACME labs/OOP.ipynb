{
 "cells": [
  {
   "cell_type": "code",
   "execution_count": null,
   "metadata": {
    "collapsed": false
   },
   "outputs": [],
   "source": [
    "#Problem 1\n",
    "class People(object):\n",
    "    def __init__(self, status, courses=[]):\n",
    "        self.status = status\n",
    "        self.courses = courses\n",
    "        \n",
    "    def add(self, course):\n",
    "        self.courses.append(course)\n",
    "        \n",
    "    def remove(self, course):\n",
    "        return self.contents.pop(self.contents.index(course))\n",
    "    \n",
    "#Problem 2\n",
    "import math as m\n",
    "\n",
    "class ComplexNumber(object):\n",
    "    def __init__(self, real, imag):\n",
    "        self.real = real\n",
    "        self.imag = imag\n",
    "    \n",
    "    def __repr__(self):\n",
    "        out = str(self.real) + ' + ' + str(self.imag) + 'i'\n",
    "        return out\n",
    "    \n",
    "    def __eq__(self, other):\n",
    "        return self.real == other.real and self.imag == other.imag\n",
    "    \n",
    "    def __lt__(self, other):\n",
    "        return self.norm() < other.norm()\n",
    "    \n",
    "    def __gt__(self, other):\n",
    "        return self.norm() > other.norm()\n",
    "    \n",
    "    def __le__(self, other):\n",
    "        return self.norm() <= other.norm()\n",
    "    \n",
    "    def __ge__(self, other):\n",
    "        return self.norm >= other.norm()\n",
    "    \n",
    "    def __add__(self, other):\n",
    "        return ComplexNumber(self.real+other.real, self.imag+other.imag)\n",
    "    \n",
    "    def __sub__(self, other):\n",
    "        return ComplexNumber(self.real-other.real, self.imag-other.imag)\n",
    "    \n",
    "    def __mul__(self, other):\n",
    "        return ComplexNumber(self.real*other.real - self.imag*other.imag, self.real*other.imag+self.imag*other.real)\n",
    "    \n",
    "    def __div__(self, other):\n",
    "        denom = other * other.conjugate()\n",
    "        numer = self * other.conjugate()\n",
    "        return ComplexNumber(float(numer.real)/denom.real, float(numer.imag)/denom.real)\n",
    "    \n",
    "    def __abs__(self):\n",
    "        return m.sqrt(self.real**2+self.imag**2)\n",
    "    \n",
    "    def conjugate(self):\n",
    "        return ComplexNumber(self.real, -self.imag)\n",
    "    \n",
    "    def norm(self, other):\n",
    "        return m.sqrt((self.real-other.real)**2+(self.imag-other.imag)**2)\n",
    "    \n",
    "#Problem 3\n",
    "import sys\n",
    "import cmath\n",
    "from PySide import QtGui, QtCore\n",
    "\n",
    "class QuadraticCalculator(QtGui.QWidget):\n",
    "    def __init__(self):\n",
    "        super(QuadraticCalculator, self).__init__()\n",
    "        self._initUI()\n",
    "    \n",
    "    def _initUI(self):\n",
    "        #Get the widgets you need\n",
    "        self.inputbar1 = QtGui.QDoubleSpinBox()\n",
    "        self.inputbar1.setMinimum(-10000)\n",
    "        self.inputbar2 = QtGui.QDoubleSpinBox()\n",
    "        self.inputbar2.setMinimum(-10000)\n",
    "        self.inputbar3 = QtGui.QDoubleSpinBox()\n",
    "        self.inputbar3.setMinimum(-10000)\n",
    "        self.label1 = QtGui.QLabel()\n",
    "        self.label2 = QtGui.QLabel()\n",
    "        self.label3 = QtGui.QLabel()\n",
    "        self.label4 = QtGui.QLabel()\n",
    "        self.label5 = QtGui.QLabel()\n",
    "        \n",
    "        self.inputbar1.valueChanged.connect(self.getResult)\n",
    "        self.inputbar2.valueChanged.connect(self.getResult)\n",
    "        self.inputbar3.valueChanged.connect(self.getResult)\n",
    "        \n",
    "        vbox = QtGui.QVBoxLayout()\n",
    "        subbox = QtGui.QGridLayout()\n",
    "        vbox.addWidget(self.label1, 0, 0)\n",
    "        vbox.addWidget(self.label2, 1, 0)\n",
    "        vbox.addWidget(self.label3, 2, 0)\n",
    "        vbox.addWidget(self.inputbar1, 3, 0)\n",
    "        vbox.addWidget(self.inputbar2, 4, 0)\n",
    "        vbox.addWidget(self.inputbar3, 5, 0)\n",
    "        vbox.addWidget(self.label4, 6, 0)\n",
    "        vbox.addWidget(self.label5, 7, 0)\n",
    "        \n",
    "        self.setLayout(vbox)\n",
    "        self.setGeometry(200, 200, 500, 300)\n",
    "        self.setWindowTitle(\"Quadratic Calculator\")\n",
    "        self.label1.setText(\"This calculator finds the roots of second degree polynomials of the form ax^2+bx+c=0.\")\n",
    "        self.label2.setText(\"Put a in the first input box, b in the second input box, and c in the third input box.\")\n",
    "        self.show()\n",
    "        \n",
    "    \n",
    "    def getResult(self):\n",
    "        a = self.inputbar1.value()\n",
    "        b = self.inputbar2.value()\n",
    "        c = self.inputbar3.value()\n",
    "        if a == 0 and b != 0:\n",
    "            root = -1*c/b\n",
    "            self.label4.setText(\"That's a linear function, so it only has one root.\\nYou should really be able to do that in your head, but I'll give you the root anyway.\")\n",
    "            out = \"x = \" + str(root)\n",
    "            self.label5.setText(out)\n",
    "        if a != 0:\n",
    "            root1 = (-b+cmath.sqrt(b**2-4*a*c))/(2*a)\n",
    "            root2 = (-b-cmath.sqrt(b**2-4*a*c))/(2*a)\n",
    "            out1 = \"Root 1:  \" + str(root1)\n",
    "            out2 = \"Root 2:  \" + str(root2)\n",
    "            self.label4.setText(out1)\n",
    "            self.label5.setText(out2)\n",
    "\n",
    "def main():\n",
    "    app = QtGui.QApplication(sys.argv)\n",
    "    q = QuadraticCalculator()\n",
    "    sys.exit(app.exec_())\n",
    "    \n",
    "if __name__ == \"__main__\":\n",
    "    main()"
   ]
  },
  {
   "cell_type": "code",
   "execution_count": 1,
   "metadata": {
    "collapsed": false
   },
   "outputs": [],
   "source": [
    "import math as m\n",
    "\n",
    "class ComplexNumber(object):\n",
    "    def __init__(self, real, imag):\n",
    "        self.real = real\n",
    "        self.imag = imag\n",
    "    \n",
    "    def __repr__(self):\n",
    "        out = str(self.real) + ' + ' + str(self.imag) + 'i'\n",
    "        return out\n",
    "    \n",
    "    def __lt__(self, other):\n",
    "        return self.norm() < other.norm()\n",
    "    \n",
    "    def __gt__(self, other):\n",
    "        return self.norm() > other.norm()\n",
    "    \n",
    "    def __le__(self, other):\n",
    "        return self.norm() <= other.norm()\n",
    "    \n",
    "    def __ge__(self, other):\n",
    "        return self.norm >= other.norm()\n",
    "    \n",
    "    def __eq__(self, other):\n",
    "        return self.real == other.real and self.imag == other.imag\n",
    "    \n",
    "    def __add__(self, other):\n",
    "        return ComplexNumber(self.real+other.real, self.imag+other.imag)\n",
    "    \n",
    "    def __sub__(self, other):\n",
    "        return ComplexNumber(self.real-other.real, self.imag-other.imag)\n",
    "    \n",
    "    def __mul__(self, other):\n",
    "        return ComplexNumber(self.real*other.real - self.imag*other.imag, self.real*other.imag+self.imag*other.real)\n",
    "    \n",
    "    def __div__(self, other):\n",
    "        denom = other * other.conjugate()\n",
    "        numer = self * other.conjugate()\n",
    "        return ComplexNumber(float(numer.real)/denom.real, float(numer.imag)/denom.real)\n",
    "    \n",
    "    def __abs__(self):\n",
    "        return m.sqrt(self.real**2+self.imag**2)\n",
    "    \n",
    "    def conjugate(self):\n",
    "        return ComplexNumber(self.real, -self.imag)\n",
    "    \n",
    "    def norm(self, other):\n",
    "        return m.sqrt((self.real-other.real)**2+(self.imag-other.imag)**2)"
   ]
  },
  {
   "cell_type": "code",
   "execution_count": 2,
   "metadata": {
    "collapsed": false
   },
   "outputs": [],
   "source": [
    "a = ComplexNumber(3,4)"
   ]
  },
  {
   "cell_type": "code",
   "execution_count": 3,
   "metadata": {
    "collapsed": false
   },
   "outputs": [],
   "source": [
    "b = ComplexNumber(3,4)"
   ]
  },
  {
   "cell_type": "code",
   "execution_count": 4,
   "metadata": {
    "collapsed": false
   },
   "outputs": [
    {
     "data": {
      "text/plain": [
       "True"
      ]
     },
     "execution_count": 4,
     "metadata": {},
     "output_type": "execute_result"
    }
   ],
   "source": [
    "a == b"
   ]
  },
  {
   "cell_type": "code",
   "execution_count": null,
   "metadata": {
    "collapsed": false
   },
   "outputs": [],
   "source": []
  }
 ],
 "metadata": {
  "kernelspec": {
   "display_name": "Python 2",
   "language": "python",
   "name": "python2"
  },
  "language_info": {
   "codemirror_mode": {
    "name": "ipython",
    "version": 2
   },
   "file_extension": ".py",
   "mimetype": "text/x-python",
   "name": "python",
   "nbconvert_exporter": "python",
   "pygments_lexer": "ipython2",
   "version": "2.7.13"
  }
 },
 "nbformat": 4,
 "nbformat_minor": 0
}
