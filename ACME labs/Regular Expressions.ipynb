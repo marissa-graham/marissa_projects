{
 "cells": [
  {
   "cell_type": "code",
   "execution_count": 56,
   "metadata": {
    "collapsed": false
   },
   "outputs": [
    {
     "name": "stdout",
     "output_type": "stream",
     "text": [
      "True\n",
      "True\n"
     ]
    },
    {
     "data": {
      "text/plain": [
       "'\\n1.\\n2.\\n3.\\n'"
      ]
     },
     "execution_count": 56,
     "metadata": {},
     "output_type": "execute_result"
    }
   ],
   "source": [
    "import re\n",
    "\n",
    "# PROBLEM 1\n",
    "def problem1():\n",
    "    pattern_string = r\"\\^\\{\\(!%\\.\\*_\\)\\}&\"  # Edit this line\n",
    "    pattern = re.compile(pattern_string)\n",
    "    print bool(pattern.match(\"^{(!%.*_)}&\"))\n",
    "\n",
    "# PROBLEM 2\n",
    "def problem2():\n",
    "    pattern_string = r\"^(Book|Mattress|Grocery) (store|supplier)$\"  # Edit this line\n",
    "    pattern = re.compile(pattern_string)\n",
    "    strings_to_match = [ \"Book store\", \"Book supplier\", \"Mattress store\", \n",
    "                        \"Mattress supplier\", \"Grocery store\", \"Grocery supplier\"]\n",
    "    print all(pattern.match(string) for string in strings_to_match)\n",
    "    \n",
    "# PROBLEM 3\n",
    "def problem3():\n",
    "    pattern_string = r\"^[^d-w]$\"  # Edit this line\n",
    "    pattern = re.compile(pattern_string)\n",
    "    strings_to_match = [\"a\", \"b\", \"c\", \"x\", \"y\", \"z\"]\n",
    "    uses_line_anchors = (pattern_string.startswith('^') and pattern_string.endswith('$'))\n",
    "    solution_is_clever = (len(pattern_string) == 8)\n",
    "    matches_list = all(pattern.match(string) for string in strings_to_match)\n",
    "    print uses_line_anchors and solution_is_clever and matches_list\n",
    "\n",
    "# PROBLEM 4\n",
    "def problem4():\t\n",
    "    identifier_pattern_string = r\"^[_A-Za-z]\\w\\w\\w\\w$\"  # Edit this line \n",
    "    identifier_pattern = re.compile(identifier_pattern_string)\n",
    "    valid = [\"mouse\", \"HORSE\", \"_1234\", \"__x__\", \"while\"]\n",
    "    not_valid = [\"3rats\", \"err*r\", \"sq(x)\", \"too_long\"]\n",
    "    print all(identifier_pattern.match(string) for string in valid) and not any(identifier_pattern.match(string) for string in not_valid)\n",
    "\n",
    "# PROBLEM 5\n",
    "def problem5():\t\n",
    "    identifier_pattern_string = r\"^[_A-Za-z]\\w*$\"  # Edit this line \n",
    "    identifier_pattern = re.compile(identifier_pattern_string)\n",
    "    valid = [\"mouse\", \"HORSE\", \"_1234\", \"__x__\", \"while\", \"longer_string\"]\n",
    "    not_valid = [\"3rats\", \"err*r\", \"sq(x)\"]\n",
    "    print all(identifier_pattern.match(string) for string in valid) and not any(identifier_pattern.match(string) for string in not_valid)\n",
    "    \n",
    "# PROBLEM 6\n",
    "def problem6():\n",
    "    parameter_pattern_string = r\"^[_A-Za-z]\\w*\\s*(=\\s*([_A-Za-z]\\w*|'[^']*'|\\d*.?\\d*))?$\"  # Edit this line\n",
    "    parameter_pattern = re.compile(parameter_pattern_string)\n",
    "    valid = [\"max=4.2\", \"string= ''\", \"num_guesses\", \"msg ='\\\\'\", \"volume_fn=_CALC_VOLUME\"] \n",
    "    not_valid = [\"300\", \"no spaces\", \"is_4=(value==4)\", \"pattern = r'^one|two fish$'\", 'string=\"these last two are actually valid in python, but they should not be matched by your pattern\"'] \n",
    "    print all(parameter_pattern.match(string) for string in valid) and not any(parameter_pattern.match(string) for string in not_valid)\n",
    "\n",
    "# PROBLEM 7\n",
    "\"\"\"\n",
    "1.\n",
    "2.\n",
    "3.\n",
    "\"\"\""
   ]
  },
  {
   "cell_type": "code",
   "execution_count": 11,
   "metadata": {
    "collapsed": false
   },
   "outputs": [
    {
     "data": {
      "text/plain": [
       "(True, True)"
      ]
     },
     "execution_count": 11,
     "metadata": {},
     "output_type": "execute_result"
    }
   ],
   "source": [
    "pattern2 = re.compile(r\"^red$|^blue$\")\n",
    "pattern3 = re.compile(r\"^red$|^blue$|^orange$\")\n",
    "bool(pattern2.match(\"red\")), bool(pattern3.match(\"red\"))"
   ]
  },
  {
   "cell_type": "code",
   "execution_count": null,
   "metadata": {
    "collapsed": false
   },
   "outputs": [],
   "source": []
  },
  {
   "cell_type": "code",
   "execution_count": null,
   "metadata": {
    "collapsed": false
   },
   "outputs": [],
   "source": []
  }
 ],
 "metadata": {
  "kernelspec": {
   "display_name": "Python 2",
   "language": "python",
   "name": "python2"
  },
  "language_info": {
   "codemirror_mode": {
    "name": "ipython",
    "version": 2
   },
   "file_extension": ".py",
   "mimetype": "text/x-python",
   "name": "python",
   "nbconvert_exporter": "python",
   "pygments_lexer": "ipython2",
   "version": "2.7.11"
  }
 },
 "nbformat": 4,
 "nbformat_minor": 0
}
