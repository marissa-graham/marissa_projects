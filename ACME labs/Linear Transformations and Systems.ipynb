{
 "metadata": {
  "name": "",
  "signature": "sha256:766846d68ff12e0ad83d8ff17b62b57d4f6f32339dfc66655ed8d1092f23be66"
 },
 "nbformat": 3,
 "nbformat_minor": 0,
 "worksheets": [
  {
   "cells": [
    {
     "cell_type": "code",
     "collapsed": false,
     "input": [
      "import numpy as np\n",
      "import math as m\n",
      "from matplotlib import pyplot as plt\n",
      "\n",
      "x,y = np.load('horse.npy')\n",
      "pts = np.array([x,y]) #shape 2,59520\n",
      "\n",
      "def makeplot(old, new):\n",
      "    plt.subplot(2,1,1)\n",
      "    plt.plot(old[0], old[1], linestyle='None', marker=',')\n",
      "    plt.axis('equal')\n",
      "    \n",
      "    plt.subplot(2,1,2)\n",
      "    plt.plot(new[0], new[1], linestyle='None', marker=',')\n",
      "    plt.axis('equal')\n",
      "   \n",
      "    plt.show()\n",
      "\n",
      "# Problem 1\n",
      "def dilate(pts, stretch):#stretch is a 1d numpy array with two elements\n",
      "    A = np.diag(stretch)\n",
      "    new = np.dot(A, pts)\n",
      "    makeplot(pts, new)\n",
      "   \n",
      "# Problem 2\n",
      "def rotate(pts, angle):#angle is a single float\n",
      "    a = m.cos(angle)\n",
      "    b = m.sin(angle)\n",
      "    R = np.array([[a,-b,b,a]]).reshape((2,2))\n",
      "    new = np.dot(R, pts)\n",
      "    makeplot(pts, new)\n",
      "\n",
      "# Problem 3\n",
      "def shear(pts, skew, direction):\n",
      "    c = skew\n",
      "    if direction == 0:\n",
      "        S = np.array([[1,c,0,1]]).reshape((2,2))\n",
      "    if direction == 1:\n",
      "        S = np.array([[1,0,c,1]]).reshape((2,2))\n",
      "    new = np.dot(S, pts)\n",
      "    makeplot(pts, new)\n",
      "    \n",
      "# Problem 5\n",
      "def shift(pts, array):\n",
      "    print pts\n",
      "    print len(pts[0])\n",
      "    x_shift = [array[0]]*len(pts[0])\n",
      "    print len(x_shift)\n",
      "    print x_shift[0]\n",
      "    y_shift = [array[1]]*len(pts[1])\n",
      "    print len(y_shift)\n",
      "    print y_shift[0]\n",
      "    new = pts\n",
      "    print new\n",
      "    new[0] = pts[0] + x_shift\n",
      "    new[1] = pts[1] + y_shift\n",
      "    return new"
     ],
     "language": "python",
     "metadata": {},
     "outputs": [
      {
       "output_type": "stream",
       "stream": "stdout",
       "text": [
        "[[ 3.006  2.997  2.988 ..., -3.375 -3.384 -2.295]\n",
        " [ 4.5    4.5    4.5   ..., -4.13  -4.13  -4.17 ]]\n",
        "59520\n",
        "59520\n",
        "2\n",
        "59520\n",
        "0\n",
        "[[ 3.006  2.997  2.988 ..., -3.375 -3.384 -2.295]\n",
        " [ 4.5    4.5    4.5   ..., -4.13  -4.13  -4.17 ]]\n",
        "[[ 5.006  4.997  4.988 ..., -1.375 -1.384 -0.295]\n",
        " [ 4.5    4.5    4.5   ..., -4.13  -4.13  -4.17 ]]\n"
       ]
      }
     ],
     "prompt_number": 2
    },
    {
     "cell_type": "code",
     "collapsed": false,
     "input": [
      "import numpy as np\n",
      "from matplotlib import pyplot as plt\n",
      "\n",
      "def dilation(pts, stretch):\n",
      "    A = np.diag(stretch)\n",
      "    return np.dot(A, pts)\n",
      "\n",
      "def rotation(pts, angle):\n",
      "    a = np.cos(angle)\n",
      "    b = np.sin(angle)\n",
      "    R = np.array([[a, -b, b, a]]).reshape((2,2))\n",
      "    return np.dot(R, pts)\n",
      "\n",
      "def translation(pts, shift):\n",
      "    new = pts\n",
      "    new[0] = pts[0] + [shift[0]]*len(pts[0])\n",
      "    new[1] = pts[1] + [shift[1]]*len(pts[1])\n",
      "    return new\n",
      "    \n",
      "def trajectory(t, omega, v, s):\n",
      "    p_2 = (s*t/np.sqrt(v[0]**2+v[1]**2))*v\n",
      "    p_1 = np.array([1,0]).reshape((2,1))\n",
      "    p_1 = rotation(p_1, t*omega)\n",
      "    p_1 = translation(p_1, p_2)\n",
      "    return p_1\n",
      "    \n",
      "def plot_trajectory(times = np.arange(0,10,.1), omega = np.pi, v = np.array([1,1]), s = 2):\n",
      "    ''' \n",
      "    Plot the trajectory of p_1 as described in problem\n",
      "    '''\n",
      "    pos = np.zeros((2,len(times)))\n",
      "    for i in xrange(len(times)):\n",
      "        pos[:,i] = trajectory(times[i], omega, v, s).flatten()\n",
      "    plt.plot(pos[0], pos[1])\n",
      "    plt.show()"
     ],
     "language": "python",
     "metadata": {},
     "outputs": [],
     "prompt_number": 3
    },
    {
     "cell_type": "code",
     "collapsed": false,
     "input": [
      "def type_I(A, i, j):\n",
      "    A[i], A[j] = np.copy(A[j]), np.copy(A[i])\n",
      "\n",
      "def type_II(A, i, const):\n",
      "    A[i] = A[i]*const\n",
      "    \n",
      "def type_III(A, i, j, const):\n",
      "    A[i] += const*A[j]\n",
      "    \n",
      "def REF(A):\n",
      "    print A\n",
      "    print '\\n'\n",
      "    n = A.shape[0]\n",
      "    for c in xrange(n-1):\n",
      "        for r in xrange(c+1, n):\n",
      "            A[r,c:] -= A[r,c]/float(A[c,c])*A[c,c:]\n",
      "    print A\n",
      "\n",
      "A = np.random.randint(0,30,(8,8))\n",
      "REF(A)"
     ],
     "language": "python",
     "metadata": {},
     "outputs": [
      {
       "output_type": "stream",
       "stream": "stdout",
       "text": [
        "[[ 9  5  6  6 22  4  1 15]\n",
        " [21 25  8  2 29 12 10 28]\n",
        " [25  7 15 15  3 18 16 11]\n",
        " [ 2  2 24  7  7 24 27 24]\n",
        " [ 4  9  9 15 14 18 19 10]\n",
        " [17 26 24  2 28  3 21 18]\n",
        " [ 3 16 14 27 21 11 11 15]\n",
        " [ 8 24 22 19  9  0 22 26]]\n",
        "\n",
        "\n",
        "[[   9    5    6    6   22    4    1   15]\n",
        " [   0   13   -6  -12  -22    2    7   -7]\n",
        " [   0    0   -3   -6  -68    6   16  -33]\n",
        " [   0    0    0  -39 -496   67  143 -222]\n",
        " [   0    0    0    0 -179   32   59  -87]\n",
        " [   0    0    0    0    0  -23   -9  -23]\n",
        " [   0    0    0    0    0    0  -15   25]\n",
        " [   0    0    0    0    0    0    0   29]]\n"
       ]
      }
     ],
     "prompt_number": 50
    },
    {
     "cell_type": "code",
     "collapsed": false,
     "input": [
      "def LU_decomp1(A):\n",
      "    n = A.shape[0]\n",
      "    U = np.copy(A)\n",
      "    L = np.eye(n)\n",
      "    for c in xrange(n-1):\n",
      "        for r in xrange(c+1, n):\n",
      "            L[r,c] = U[r,c]/U[c,c]\n",
      "            U[r,c:] -= U[r,c]/float(U[c,c])*U[c,c:]\n",
      "    return L, U\n",
      "\n",
      "A = np.random.randint(0,50,(4,4))\n",
      "L, U = LU_decomp1(A)\n",
      "print L\n",
      "print U\n",
      "print A\n",
      "print np.dot(L, U)"
     ],
     "language": "python",
     "metadata": {},
     "outputs": [
      {
       "output_type": "stream",
       "stream": "stdout",
       "text": [
        "[[ 1.  0.  0.  0.]\n",
        " [ 1.  1.  0.  0.]\n",
        " [ 1.  0.  1.  0.]\n",
        " [ 0.  0. -4.  1.]]\n",
        "[[ 29   0  46  18]\n",
        " [  0  47 -40 -23]\n",
        " [  0   0 -21  20]\n",
        " [  0   0   0 106]]\n",
        "[[29  0 46 18]\n",
        " [41 47 25  2]\n",
        " [37 41  2 22]\n",
        " [ 5 44 49 15]]\n",
        "[[ 29.   0.  46.  18.]\n",
        " [ 29.  47.   6.  -5.]\n",
        " [ 29.   0.  25.  38.]\n",
        " [  0.   0.  84.  26.]]\n"
       ]
      }
     ],
     "prompt_number": 49
    },
    {
     "cell_type": "code",
     "collapsed": false,
     "input": [
      "from scipy import linalg as la\n",
      "A = np.random.rand(1000,1000)\n",
      "b = np.random.rand(1000,1)\n",
      "%timeit la.lu_factor(A)\n",
      "    # 64.3 ms per loop\n",
      "%timeit la.inv(A)\n",
      "    # 120 ms per loop\n",
      "LU, piv = la.lu_factor(A)\n",
      "%timeit la.lu_solve((LU, piv),b)\n",
      "    # 969 microseconds per loop\n",
      "A_inv = la.inv(A)\n",
      "%timeit A_inv*b\n",
      "    # 7.32 milliseconds per loop"
     ],
     "language": "python",
     "metadata": {},
     "outputs": [
      {
       "output_type": "stream",
       "stream": "stdout",
       "text": [
        "10 loops, best of 3: 64.3 ms per loop\n",
        "10 loops, best of 3: 120 ms per loop"
       ]
      },
      {
       "output_type": "stream",
       "stream": "stdout",
       "text": [
        "\n",
        "1000 loops, best of 3: 969 \u00b5s per loop"
       ]
      },
      {
       "output_type": "stream",
       "stream": "stdout",
       "text": [
        "\n",
        "100 loops, best of 3: 7.32 ms per loop"
       ]
      },
      {
       "output_type": "stream",
       "stream": "stdout",
       "text": [
        "\n"
       ]
      }
     ],
     "prompt_number": 17
    },
    {
     "cell_type": "code",
     "collapsed": false,
     "input": [
      "A = np.random.randint(0,100,size=(5,5))\n",
      "print A\n",
      "for i in xrange(5):\n",
      "    for j in xrange(5):\n",
      "        print A[i,j]"
     ],
     "language": "python",
     "metadata": {},
     "outputs": [
      {
       "output_type": "stream",
       "stream": "stdout",
       "text": [
        "[[82 67 67 35 19]\n",
        " [94 31 88 33 38]\n",
        " [55 99 25 26 70]\n",
        " [39 29 90 66 83]\n",
        " [17 87 37 42 27]]\n",
        "82\n",
        "67\n",
        "67\n",
        "35\n",
        "19\n",
        "94\n",
        "31\n",
        "88\n",
        "33\n",
        "38\n",
        "55\n",
        "99\n",
        "25\n",
        "26\n",
        "70\n",
        "39\n",
        "29\n",
        "90\n",
        "66\n",
        "83\n",
        "17\n",
        "87\n",
        "37\n",
        "42\n",
        "27\n"
       ]
      }
     ],
     "prompt_number": 34
    },
    {
     "cell_type": "code",
     "collapsed": false,
     "input": [],
     "language": "python",
     "metadata": {},
     "outputs": [],
     "prompt_number": 25
    },
    {
     "cell_type": "code",
     "collapsed": false,
     "input": [],
     "language": "python",
     "metadata": {},
     "outputs": []
    }
   ],
   "metadata": {}
  }
 ]
}