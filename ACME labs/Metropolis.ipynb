{
 "cells": [
  {
   "cell_type": "code",
   "execution_count": null,
   "metadata": {
    "collapsed": true
   },
   "outputs": [],
   "source": [
    "import numpy as np\n",
    "import scipy.linalg as la\n",
    "from scipy.stats import bernoulli\n",
    "\n",
    "\n",
    "def acceptance(x, y, mu, sigma):\n",
    "    p = min(1, np.exp(-0.5 * (np.dot(x - mu, la.solve(\n",
    "        sigma, x - mu)) - np.dot(y - mu, la.solve(sigma, y - mu)))))\n",
    "    return bernoulli.rvs(p)\n",
    "\n",
    "\n",
    "def nextState(x, mu, sigma):\n",
    "    K = len(x)\n",
    "    y = np.random.multivariate_normal(x, np.eye(K))\n",
    "    accept = acceptance(y, x, mu, sigma)\n",
    "    if accept:\n",
    "        return y\n",
    "    else:\n",
    "        return x\n",
    "\n",
    "\n",
    "def lmvnorm(x, mu, sigma):\n",
    "    return -0.5 * (np.dot(x - mu, la.solve(sigma, x - mu)) - len(x) * np.log(2 * np.pi) - np.log(la.det(sigma)))\n",
    "\n",
    "\n",
    "def metropolis(x, mu, sigma, n_samples=1000):\n",
    "    logprobs = np.zeros(n_samples)\n",
    "    x_samples = np.zeros((n_samples, len(x)))\n",
    "    for i in xrange(n_samples):\n",
    "        logprobs[i] = lmvnorm(x, mu, sigma)\n",
    "        x = nextState(x, mu, sigma)\n",
    "        x_samples[i, :] = x.copy()\n",
    "    return x_samples, logprobs"
   ]
  }
 ],
 "metadata": {
  "kernelspec": {
   "display_name": "Python 2",
   "language": "python",
   "name": "python2"
  },
  "language_info": {
   "codemirror_mode": {
    "name": "ipython",
    "version": 2
   },
   "file_extension": ".py",
   "mimetype": "text/x-python",
   "name": "python",
   "nbconvert_exporter": "python",
   "pygments_lexer": "ipython2",
   "version": "2.7.11"
  }
 },
 "nbformat": 4,
 "nbformat_minor": 0
}
