{
 "metadata": {
  "name": "",
  "signature": "sha256:ae85817583ae81290a983749df704a8969da0372e156ae03d5c24a73559659c0"
 },
 "nbformat": 3,
 "nbformat_minor": 0,
 "worksheets": [
  {
   "cells": [
    {
     "cell_type": "code",
     "collapsed": false,
     "input": [
      "from sympy import factorint\n",
      "\n",
      "######################Problem 1######################\n",
      "def prob1():\n",
      "    '''\n",
      "    Return encrypted message in part 1\n",
      "    \n",
      "    Decrypt message in part two, return text\n",
      "    '''\n",
      "    message = 'PRIVATE INFO'\n",
      "    m = ''\n",
      "    for char in message:\n",
      "        if char == ' ':\n",
      "            m += '36'\n",
      "        else:\n",
      "            m += str(ord(char) - 55)\n",
      "    key = 987654321098765432109876\n",
      "    ciphered = int(m)^key\n",
      "    \n",
      "    message2 = 153931672663401143\n",
      "    key2 = 12345678901234567890\n",
      "    unkeyed = message2^key2\n",
      "    str_unkeyed = str(unkeyed)\n",
      "    text = ''\n",
      "    for i in xrange(0,len(str_unkeyed),2):\n",
      "        if str_unkeyed[i:i+2] == '36':\n",
      "            text += ' '\n",
      "        else:\n",
      "            text += chr(int(str_unkeyed[i:i+2])+55)\n",
      "    \n",
      "    return ciphered, text\n",
      "    \n",
      "    \n",
      "#Problem 2 and 3 will not be graded. But play around with these with your classmates.\n",
      "\n",
      "#######################Problem 4######################\n",
      "\n",
      "def is_primitive(root, mod):\n",
      "    '''Determine whether `root' is a primitive root modulo `mod'.\n",
      "    INPUTS:\n",
      "    root - A positive integer.\n",
      "    mod - A prime integer.\n",
      "\n",
      "    Return a Boolean value.\n",
      "    '''\n",
      "    works = True\n",
      "    factordict = factorint(mod-1)\n",
      "    for factor in factordict:\n",
      "        if pow(root,(mod-1)/factor,mod) == 1:\n",
      "            works = False\n",
      "    return works\n",
      "        \n",
      "    \n",
      "#####################Problem 5#########################\n",
      "\n",
      "def power1(base, exp, mod):\n",
      "    ''' Return base^exp modulo `mod'.\n",
      "    Multiply `base' by itself `exp' times, taking the modulus after each multiplication.\n",
      "    '''\n",
      "    result = 1\n",
      "    for i in xrange(exp):\n",
      "        result = result*base % mod\n",
      "    return result\n",
      "\n",
      "print 'Built in pow function ran in 581 nanoseconds. power1 took 74.1 microseconds.'\n",
      "\n",
      "    \n",
      "#####################Problem 6###########################\n",
      "\n",
      "def power2(base, exp, mod):\n",
      "    ''' Return base^exp modulo `mod'.\n",
      "    Compute the result using the right-to-left binary method.\n",
      "    '''\n",
      "    # Initialize result\n",
      "    result = 1\n",
      "    # \n",
      "    base = base % mod\n",
      "    \n",
      "    while exp > 0:\n",
      "        # Zero terms don't contribute to the result\n",
      "        if exp % 2 == 1:\n",
      "            # Multiply by base, mod appropriately\n",
      "            result = result * base % mod\n",
      "        # Divide exp by 2\n",
      "        exp = exp >> 1\n",
      "        # Square to get the next term in the series\n",
      "        base = base*base % mod\n",
      "    return result\n",
      "\n",
      "print 'Built in pow(): 513ns. power2(): 6.45 microseconds. power1(): 74.1 microseconds.'\n",
      "print 'The explanation of this method is not clear. Had to get help from Wikipedia.'"
     ],
     "language": "python",
     "metadata": {},
     "outputs": [
      {
       "output_type": "stream",
       "stream": "stdout",
       "text": [
        "Built in pow function ran in 581 nanoseconds. power1 took 74.1 microseconds.\n"
       ]
      }
     ],
     "prompt_number": 12
    },
    {
     "cell_type": "code",
     "collapsed": false,
     "input": [
      "%timeit power1(5064,361,19673)\n",
      "%timeit power2(5064,361,19673)\n",
      "%timeit pow(5064,361,19673)"
     ],
     "language": "python",
     "metadata": {},
     "outputs": [
      {
       "output_type": "stream",
       "stream": "stdout",
       "text": [
        "10000 loops, best of 3: 71.6 \u00b5s per loop\n",
        "100000 loops, best of 3: 6.45 \u00b5s per loop"
       ]
      },
      {
       "output_type": "stream",
       "stream": "stdout",
       "text": [
        "\n",
        "1000000 loops, best of 3: 513 ns per loop"
       ]
      },
      {
       "output_type": "stream",
       "stream": "stdout",
       "text": [
        "\n"
       ]
      }
     ],
     "prompt_number": 13
    },
    {
     "cell_type": "code",
     "collapsed": false,
     "input": [],
     "language": "python",
     "metadata": {},
     "outputs": []
    }
   ],
   "metadata": {}
  }
 ]
}