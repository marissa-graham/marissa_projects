{
 "metadata": {
  "name": "",
  "signature": "sha256:20710dfc82bcfc3a2eca545ad64a1b9ec2e14907d37c73878ee13958a7cdfbef"
 },
 "nbformat": 3,
 "nbformat_minor": 0,
 "worksheets": [
  {
   "cells": [
    {
     "cell_type": "code",
     "collapsed": false,
     "input": [
      "import scipy as sp\n",
      "import numpy as np\n",
      "from scipy import fft\n",
      "from scipy.io import wavfile\n",
      "from matplotlib import pyplot as plt\n",
      "from __future__ import division\n",
      "from pyfftw.interfaces import scipy_fftpack as fftw\n",
      "%matplotlib inline\n",
      "\n",
      "def problem1():\n",
      "    samplerate = 44100\n",
      "    freq = 3083\n",
      "    length = 1\n",
      "    stepsize = freq * 2 * sp.pi/samplerate\n",
      "    sig = sp.sin(sp.arange(0, stepsize*length*samplerate, stepsize))\n",
      "    scaled = sp.int16(sig/sp.absolute(sig).max() * 32767)\n",
      "    wavfile.write('sinusoid.wav', samplerate, scaled)\n",
      "    plt.plot(scaled)\n",
      "    plt.show()\n",
      "        \n",
      "def problem2(signal):\n",
      "    N = len(signal)\n",
      "    coeffs = np.empty(N, dtype=complex)\n",
      "    for k in xrange(N):\n",
      "        coeffs[k] = sum([np.exp(-2.0*np.pi*1j*n*k/N)*signal[n] for n in xrange(N)])\n",
      "    return coeffs/N\n",
      "\n",
      "def problem3():\n",
      "    print 'The max amplitude is at 3083, then we convert to Hz, using sig.shape[0] for samples, 22050 samples per second (stereo)'\n",
      "    print 'This gives us 371.26Hz, which corresponds to F#4 (the F# above Middle C)'\n",
      "    rate, sig = wavfile.read('pianoclip.wav')\n",
      "    sig = sp.float32(sig)\n",
      "    fsig = fftw.fft(sig,axis=0)\n",
      "    m = max(np.abs(fsig[1:]))\n",
      "    index = np.where(m == np.abs(fsig))[0][0]\n",
      "    hZ = index/sig.shape[0]*22050\n",
      "\n",
      "\n",
      "def problem4():\n",
      "    rate, in_sig = wavfile.read('saw.wav')\n",
      "    old_rate = 44100\n",
      "    new_rate = 11025\n",
      "    in_sig = sp.float32(in_sig)\n",
      "    fin = fftw.fft(in_sig)\n",
      "    nsiz = sp.floor(in_sig.size*new_rate/old_rate)\n",
      "    nsizh = sp.floor(nsiz/2)\n",
      "    fout = sp.zeros(nsiz)\n",
      "    fout = fout + 0j\n",
      "    fout[0:nsizh] = fin[0:nsizh]\n",
      "    fout[nsiz-nsizh+1:] = sp.conj(sp.flipud(fout[1:nsizh]))\n",
      "    out = fftw.ifft(fout)\n",
      "    out = sp.real(out)\n",
      "    out = sp.int16(out/sp.absolute(out).max()*32767)\n",
      "    wavfile.write('down_saw.wav', rate/2, out_sig)\n",
      "    print 'Yes. It sounds worse. Probably because we downsampled so the sampling rate is less than what the human ear can pick up on.'\n",
      "    \n",
      "def problem5():\n",
      "    print 'Technically, yes, nothing seems to break and there is not much of an audible difference. It is muddier as you downsample more, but 36000 Hz sounds exactly the same as far as I can tell'\n",
      "    "
     ],
     "language": "python",
     "metadata": {},
     "outputs": [
      {
       "output_type": "stream",
       "stream": "stdout",
       "text": [
        "The max amplitude is at 3083, then we convert to Hz, using sig.shape[0] for samples, 22050 samples per second (stereo)\n",
        "This gives us 371.26Hz, which corresponds to F#4 (the F# above Middle C)\n",
        "Code given below.\n"
       ]
      }
     ],
     "prompt_number": 59
    },
    {
     "cell_type": "code",
     "collapsed": false,
     "input": [
      "rate, in_sig = wavfile.read('saw.wav')\n",
      "old_rate = 44100\n",
      "new_rate = 10000\n",
      "in_sig = sp.float32(in_sig)\n",
      "fin = fftw.fft(in_sig)\n",
      "nsiz = sp.floor(in_sig.size*new_rate/old_rate)\n",
      "nsizh = sp.floor(nsiz/2)\n",
      "fout = sp.zeros(nsiz)\n",
      "fout = fout + 0j\n",
      "fout[0:nsizh] = fin[0:nsizh]\n",
      "fout[nsiz-nsizh+1:] = sp.conj(sp.flipud(fout[1:nsizh]))\n",
      "out = fftw.ifft(fout)\n",
      "out = sp.real(out)\n",
      "out = sp.int16(out/sp.absolute(out).max()*32767)\n",
      "wavfile.write('down_saw.wav', rate/2, out_sig)"
     ],
     "language": "python",
     "metadata": {},
     "outputs": [],
     "prompt_number": 72
    },
    {
     "cell_type": "code",
     "collapsed": false,
     "input": [
      "# Check to make sure the DFT function works properly\n",
      "sig = np.random.rand(100)\n",
      "dftsig = np.abs(problem2(sig))\n",
      "plt.subplot(211)\n",
      "fsig = np.abs(fft(sig))/len(sig)\n",
      "plt.plot(fsig)\n",
      "plt.subplot(212)\n",
      "plt.plot(dftsig)\n",
      "plt.show()\n",
      "print np.allclose(fsig, dftsig)"
     ],
     "language": "python",
     "metadata": {},
     "outputs": [
      {
       "metadata": {},
       "output_type": "display_data",
       "png": "[encoded data removed]",
       "text": [
        "<matplotlib.figure.Figure at 0x10ccb048>"
       ]
      },
      {
       "output_type": "stream",
       "stream": "stdout",
       "text": [
        "True\n"
       ]
      }
     ],
     "prompt_number": 70
    },
    {
     "cell_type": "code",
     "collapsed": false,
     "input": [
      "def buildchord(freq, length):\n",
      "    samplerate = 44100\n",
      "    stepsize = np.empty(len(freq))\n",
      "    for i in xrange(len(freq)):\n",
      "        stepsize[i] = freq[i]*2*np.pi/samplerate\n",
      "    sigs = []\n",
      "    for i in xrange(len(freq)):\n",
      "        sigs.append(np.sin(sp.arange(0, stepsize[i]*length*samplerate, stepsize[i])))\n",
      "    sigs = np.array(sigs)\n",
      "    sig = np.empty(len(sigs[0]))\n",
      "    for i in xrange(len(sigs[0])):\n",
      "        sig[i] = 0\n",
      "        for j in xrange(len(sigs)):\n",
      "            sig[i] += sigs[j][i]\n",
      "    scaled = sp.int16(sig/sp.absolute(sig).max() * 32767)\n",
      "    wavfile.write('sinusoid.wav', samplerate, scaled)\n",
      "\n",
      "frequencies = np.array([261.63, 329.63, 392.00, 523.25])\n",
      "buildchord(frequencies, 3)"
     ],
     "language": "python",
     "metadata": {},
     "outputs": [],
     "prompt_number": 71
    },
    {
     "cell_type": "code",
     "collapsed": false,
     "input": [],
     "language": "python",
     "metadata": {},
     "outputs": []
    }
   ],
   "metadata": {}
  }
 ]
}