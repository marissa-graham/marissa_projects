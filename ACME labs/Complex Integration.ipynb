{
 "metadata": {
  "name": "",
  "signature": "sha256:c27342032b090188b5e1e87d87dcc26d2fa39e4d48a0fc428db3c6376e60f3ff"
 },
 "nbformat": 3,
 "nbformat_minor": 0,
 "worksheets": [
  {
   "cells": [
    {
     "cell_type": "code",
     "collapsed": false,
     "input": [
      "import sympy as sy\n",
      "import numpy as np\n",
      "\n",
      "def integrate(f, z, gamma, t, lower, upper, exact=True):\n",
      "    '''\n",
      "    Integrate f(z) along the contour gamma(t): [lower, upper] --> C\n",
      "\n",
      "    INPUTS:\n",
      "    f - A SymPy expression. Should represent a function from C to C.\n",
      "    z - A SymPy symbol. Should be the variable of f.\n",
      "    gamma - A SymPy expression. Should represent a function from [lower, upper] to C.\n",
      "    t - A SymPy symbol. Should be the variable of gamma.\n",
      "    lower - The lower bound for the domain of gamma.\n",
      "    upper - The upper bound for the domain of gamma.\n",
      "\n",
      "    RETURN:\n",
      "    A complex number.\n",
      "    '''\n",
      "    integrand = f.subs(z, gamma)*sy.diff(gamma, t)\n",
      "    ans = sy.integrate(integrand, (t, lower, upper))\n",
      "    if exact:\n",
      "        return sy.simplify(ans)\n",
      "    if ~exact:\n",
      "        return sy.N(sy.simplify(ans))\n",
      "\n",
      "def cot_res(n):\n",
      "    \"\"\"Return the residue of the cotangent function at n*pi/2.\"\"\"\n",
      "    z, t = sy.symbols('z t')\n",
      "    f = sy.cot(z)\n",
      "    gamma = n*np.pi/2 + sy.exp(1j*t)\n",
      "    return 1/(2*np.pi*1j)*integrate(f, z, gamma, 0, 2*sy.pi, exact=True)\n",
      "\n",
      "for i in xrange(10):\n",
      "    print i/2., cot_res(i)\n",
      "    \n",
      "def prob2():\n",
      "    z, t = sy.symbols('z t')\n",
      "    # t goes from 0 to pi\n",
      "    Gamma1 = sy.exp(1j*t)\n",
      "    # t goes from 0 to pi\n",
      "    Gamma2 = sy.exp(-1j*t)\n",
      "    # t goes from -1 to 1\n",
      "    Gamma3 = -t\n",
      "    \n",
      "    f = sy.cos(z)\n",
      "    print 'We expect to get the same value for all contours since the integral will depend only on the endpoints (by Cauchy-Goursat).'\n",
      "    print integrate(f, z, Gamma1, t, 0, sy.pi, exact=False)\n",
      "    print integrate(f, z, Gamma2, t, 0, sy.pi, exact=False)\n",
      "    print integrate(f, z, Gamma3, t, -1, 1, exact=False)\n",
      "    \n",
      "    \n",
      "    g = sy.conjugate(z)\n",
      "    print 'We will likely get opposite values for Gamma1 and Gamma2, with Gamma3 something else entirely, since g is not holomorphic so Cauchy-Goursat tells us nothing.'\n",
      "    print integrate(g, z, Gamma1, t, 0, sy.pi, exact=False)\n",
      "    print integrate(g, z, Gamma2, t, 0, sy.pi, exact=False)\n",
      "    print integrate(g, z, Gamma3, t, -1, 1, exact=False)\n",
      "    \n",
      "def prob3():\n",
      "    z, t = sy.symbols('z t')\n",
      "    f = z**3-1j*z+2\n",
      "    # t goes from 0 to 2pi\n",
      "    gamma = 2*sy.exp(1j*t)\n",
      "    print 1/(2*sy.pi*1j)*integrate(f/z, z, gamma, t, 0, 2*sy.pi)\n",
      "    print 1/(2*sy.pi*1j)*integrate(sy.cos(z)/(z-1), z, gamma, t, 0, 2*sy.pi, exact=False)\n",
      "    print np.cos(1)\n",
      "    \n",
      "def prob4():\n",
      "    num = 3*z+4\n",
      "    denom = (z-1)**2*(z+1)\n",
      "    f = num/denom\n",
      "    g = z**3/(z*(z+1)*(z+2))\n",
      "    gamma = 3*sy.exp(1j*t)\n",
      "    \n",
      "    print 1/(2*1j*sy.pi)*integrate(f,z,gamma,t,0,2*sy.pi,exact=False)\n",
      "    print sy.residue(f,z,1)+sy.residue(f,z,-1)\n",
      "    \n",
      "    print 1/(2*1j*sy.pi)*integrate(g,z,gamma,t,0,2*sy.pi,exact=False)\n",
      "    print sy.residue(g,z,0)+sy.residue(g,z,-1)+sy.residue(g,z,-2)\n",
      "    \n",
      "    print 'They seem to be close enough as far as I can tell.'\n",
      "#----------------------------------------\n",
      "\n",
      "#Extra Credit: 2 extra points (prob6() must work)\n",
      "\n",
      "def zeros_and_poles(f, fprime, z, t, r, center=0,exact=False):\n",
      "    '''Compute the number of zeros and poles of f(z) in a circle of radius \n",
      "    `r` centered at `center`.\n",
      "    \n",
      "    INPUTS:\n",
      "    f - A SymPy expression. Should represent a function from C to C.\n",
      "    z - A SymPy symbol. Should be the variable of f.\n",
      "    r - A real number representing the radius of the contour.\n",
      "    center - A complex number representing the center of the contour.\n",
      "\n",
      "    RETURN:\n",
      "    Implement the Zero and Pole Counting Formula to return the number of \n",
      "    zeros and poles of f(z) in the given circle, with multiplicity.\n",
      "\n",
      "    EXAMPLES:\n",
      "    >>> zeros_and_poles(z, 1, z, 1)\n",
      "    1.00000000000000\n",
      "    >>> zeros_and_poles(z**(-2),-2*z**(-3), z, 1)\n",
      "    -2.00000000000000\n",
      "    >>> zeros_and_poles(z, 1, z, 1, center=10)\n",
      "    7.25572350155633e-31\n",
      "    '''\n",
      "    gamma = r*sy.exp(1j*t) + center\n",
      "    stuff = 1/(2*3.141592653589793238462*1j)*integrate(fprime/f,z,gamma,t,0,2*sy.pi,exact=exact)\n",
      "    return stuff\n",
      "    \n",
      "def prob6():\n",
      "    z, t = sy.symbols('z t')\n",
      "    f = z + 1000.0*z**2\n",
      "    fprime = 1+2000.0*z\n",
      "    center2 = -1.0/1000.0\n",
      "    r2 = -1.0/2000.0\n",
      "    print zeros_and_poles(f,fprime,z,t,1,center=0,exact=False) #should get 2\n",
      "    print 'The zeros_and_poles function worked for the examples. Not sure what is going on here. Am hoping for partial credit. I tried.'\n",
      "    print zeros_and_poles(f,fprime,z,t,r2,center=center2,exact=False) #should get 1\n",
      "    \n",
      "    g = z**3 - 1j*z**4 - 3*z**6\n",
      "    gprime = 3*z**2 - 4*1j*z**3 - 18*z**5\n",
      "    radius = 0.25\n",
      "    print zeros_and_poles(g,gprime,z,t,1,exact=True)\n",
      "    print zeros_and_poles(g,gprime,z,t,radius,exact=True)\n",
      "    \n",
      "    print 'Single zero of high multiplicity.'"
     ],
     "language": "python",
     "metadata": {},
     "outputs": [
      {
       "output_type": "stream",
       "stream": "stdout",
       "text": [
        "0.0"
       ]
      },
      {
       "ename": "TypeError",
       "evalue": "integrate() takes at least 6 arguments (6 given)",
       "output_type": "pyerr",
       "traceback": [
        "\u001b[1;31m---------------------------------------------------------------------------\u001b[0m\n\u001b[1;31mTypeError\u001b[0m                                 Traceback (most recent call last)",
        "\u001b[1;32m<ipython-input-1-ba61fc0c8531>\u001b[0m in \u001b[0;36m<module>\u001b[1;34m()\u001b[0m\n\u001b[0;32m     32\u001b[0m \u001b[1;33m\u001b[0m\u001b[0m\n\u001b[0;32m     33\u001b[0m \u001b[1;32mfor\u001b[0m \u001b[0mi\u001b[0m \u001b[1;32min\u001b[0m \u001b[0mxrange\u001b[0m\u001b[1;33m(\u001b[0m\u001b[1;36m10\u001b[0m\u001b[1;33m)\u001b[0m\u001b[1;33m:\u001b[0m\u001b[1;33m\u001b[0m\u001b[0m\n\u001b[1;32m---> 34\u001b[1;33m     \u001b[1;32mprint\u001b[0m \u001b[0mi\u001b[0m\u001b[1;33m/\u001b[0m\u001b[1;36m2.\u001b[0m\u001b[1;33m,\u001b[0m \u001b[0mcot_res\u001b[0m\u001b[1;33m(\u001b[0m\u001b[0mi\u001b[0m\u001b[1;33m)\u001b[0m\u001b[1;33m\u001b[0m\u001b[0m\n\u001b[0m\u001b[0;32m     35\u001b[0m \u001b[1;33m\u001b[0m\u001b[0m\n\u001b[0;32m     36\u001b[0m \u001b[1;32mdef\u001b[0m \u001b[0mprob2\u001b[0m\u001b[1;33m(\u001b[0m\u001b[1;33m)\u001b[0m\u001b[1;33m:\u001b[0m\u001b[1;33m\u001b[0m\u001b[0m\n",
        "\u001b[1;32m<ipython-input-1-ba61fc0c8531>\u001b[0m in \u001b[0;36mcot_res\u001b[1;34m(n)\u001b[0m\n\u001b[0;32m     29\u001b[0m     \u001b[0mf\u001b[0m \u001b[1;33m=\u001b[0m \u001b[0msy\u001b[0m\u001b[1;33m.\u001b[0m\u001b[0mcot\u001b[0m\u001b[1;33m(\u001b[0m\u001b[0mz\u001b[0m\u001b[1;33m)\u001b[0m\u001b[1;33m\u001b[0m\u001b[0m\n\u001b[0;32m     30\u001b[0m     \u001b[0mgamma\u001b[0m \u001b[1;33m=\u001b[0m \u001b[0mn\u001b[0m\u001b[1;33m*\u001b[0m\u001b[0mnp\u001b[0m\u001b[1;33m.\u001b[0m\u001b[0mpi\u001b[0m\u001b[1;33m/\u001b[0m\u001b[1;36m2\u001b[0m \u001b[1;33m+\u001b[0m \u001b[0msy\u001b[0m\u001b[1;33m.\u001b[0m\u001b[0mexp\u001b[0m\u001b[1;33m(\u001b[0m\u001b[1;36m1j\u001b[0m\u001b[1;33m*\u001b[0m\u001b[0mt\u001b[0m\u001b[1;33m)\u001b[0m\u001b[1;33m\u001b[0m\u001b[0m\n\u001b[1;32m---> 31\u001b[1;33m     \u001b[1;32mreturn\u001b[0m \u001b[1;36m1\u001b[0m\u001b[1;33m/\u001b[0m\u001b[1;33m(\u001b[0m\u001b[1;36m2\u001b[0m\u001b[1;33m*\u001b[0m\u001b[0mnp\u001b[0m\u001b[1;33m.\u001b[0m\u001b[0mpi\u001b[0m\u001b[1;33m*\u001b[0m\u001b[1;36m1j\u001b[0m\u001b[1;33m)\u001b[0m\u001b[1;33m*\u001b[0m\u001b[0mintegrate\u001b[0m\u001b[1;33m(\u001b[0m\u001b[0mf\u001b[0m\u001b[1;33m,\u001b[0m \u001b[0mz\u001b[0m\u001b[1;33m,\u001b[0m \u001b[0mgamma\u001b[0m\u001b[1;33m,\u001b[0m \u001b[1;36m0\u001b[0m\u001b[1;33m,\u001b[0m \u001b[1;36m2\u001b[0m\u001b[1;33m*\u001b[0m\u001b[0msy\u001b[0m\u001b[1;33m.\u001b[0m\u001b[0mpi\u001b[0m\u001b[1;33m,\u001b[0m \u001b[0mexact\u001b[0m\u001b[1;33m=\u001b[0m\u001b[0mTrue\u001b[0m\u001b[1;33m)\u001b[0m\u001b[1;33m\u001b[0m\u001b[0m\n\u001b[0m\u001b[0;32m     32\u001b[0m \u001b[1;33m\u001b[0m\u001b[0m\n\u001b[0;32m     33\u001b[0m \u001b[1;32mfor\u001b[0m \u001b[0mi\u001b[0m \u001b[1;32min\u001b[0m \u001b[0mxrange\u001b[0m\u001b[1;33m(\u001b[0m\u001b[1;36m10\u001b[0m\u001b[1;33m)\u001b[0m\u001b[1;33m:\u001b[0m\u001b[1;33m\u001b[0m\u001b[0m\n",
        "\u001b[1;31mTypeError\u001b[0m: integrate() takes at least 6 arguments (6 given)"
       ]
      }
     ],
     "prompt_number": 1
    },
    {
     "cell_type": "code",
     "collapsed": false,
     "input": [
      "z, t = sy.symbols('z t')\n",
      "f = 1/z\n",
      "gamma = sy.exp(1j*t)\n",
      "\n",
      "g = sy.exp(z**2)\n",
      "\n",
      "#integrate(1/z, z, gamma, t, 0, 2*sy.pi, exact=False)\n",
      "gamma = t\n",
      "#integrate(g, z, gamma, t, 0, 1, exact=False)\n",
      "\n",
      "prob4()"
     ],
     "language": "python",
     "metadata": {},
     "outputs": []
    },
    {
     "cell_type": "code",
     "collapsed": false,
     "input": [
      "prob6()"
     ],
     "language": "python",
     "metadata": {},
     "outputs": [
      {
       "output_type": "stream",
       "stream": "stdout",
       "text": [
        "1.37069900735986e-29\n",
        "The zeros_and_poles function worked for the examples. Not sure what is going on here.\n",
        "1.00000000000000"
       ]
      },
      {
       "output_type": "stream",
       "stream": "stdout",
       "text": [
        "\n",
        "-0.159154943091895*I*Integral((-3.0*I*exp(3.0*I*t) - 4.0*exp(4.0*I*t) + 18.0*I*exp(6.0*I*t))/(-1.0*exp(3.0*I*t) + 1.0*I*exp(4.0*I*t) + 3.0*exp(6.0*I*t)), (t, 0, 2*pi))"
       ]
      },
      {
       "output_type": "stream",
       "stream": "stdout",
       "text": [
        "\n",
        "-0.159154943091895*I*Integral((-0.046875*I*exp(3.0*I*t) - 0.015625*exp(4.0*I*t) + 0.00439453125*I*exp(6.0*I*t))/(-0.015625*exp(3.0*I*t) + 0.00390625*I*exp(4.0*I*t) + 0.000732421875*exp(6.0*I*t)), (t, 0, 2*pi))"
       ]
      },
      {
       "output_type": "stream",
       "stream": "stdout",
       "text": [
        "\n",
        "Single zero of high multiplicity.\n"
       ]
      }
     ],
     "prompt_number": 9
    },
    {
     "cell_type": "code",
     "collapsed": false,
     "input": [],
     "language": "python",
     "metadata": {},
     "outputs": []
    }
   ],
   "metadata": {}
  }
 ]
}