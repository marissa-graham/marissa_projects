{
 "metadata": {
  "name": "",
  "signature": "sha256:a2305a1b35d613bba4b55d768542891c81eca8a42845c989392b387811cce198"
 },
 "nbformat": 3,
 "nbformat_minor": 0,
 "worksheets": [
  {
   "cells": [
    {
     "cell_type": "code",
     "collapsed": false,
     "input": [
      "import numpy as np\n",
      "from operator import itemgetter\n",
      "\n",
      "def kruskal(edges):\n",
      "    tree = []\n",
      "    nodes = {node:node for node in ({edge[0] for edge in edges} | {edge[1] for edge in edges})}\n",
      "    remaining = len(nodes)-1\n",
      "    def track(node):\n",
      "        temp = node\n",
      "        while nodes[temp] is not temp:\n",
      "            temp = nodes[temp]\n",
      "        return temp\n",
      "    for n1, n2, weight in sorted(edges, key=itemgetter(2)):\n",
      "        root = track(n1)\n",
      "        remove = track(n2)\n",
      "        if root is not remove:\n",
      "            tree.append((n1, n2, weight))\n",
      "            remaining -= 1\n",
      "            if remaining == 0:\n",
      "                return tree\n",
      "                # return nodes, tree\n",
      "            nodes[remove] = root\n",
      "            \n",
      "def modifiedkruskal(edges, div):\n",
      "    nodes = {node:node for node in ({edge[0] for edge in edges} | {edge[1] for edge in edges})}\n",
      "    end = len(nodes)-div\n",
      "    def track(node):\n",
      "        temp = node\n",
      "        while nodes[temp] is not temp:\n",
      "            temp = nodes[temp]\n",
      "            return temp\n",
      "    for n1, n2, weight in sorted(edges, key=itemgetter(2)):\n",
      "        root = track(n1)\n",
      "        remove = track(n2)\n",
      "        if root is not remove:\n",
      "            end -=1\n",
      "            if end == 0:\n",
      "                nodes[remove] = root\n",
      "                return {node:track(node) for node in nodes}\n",
      "            nodes[remove] = root"
     ],
     "language": "python",
     "metadata": {},
     "outputs": [],
     "prompt_number": 5
    },
    {
     "cell_type": "code",
     "collapsed": false,
     "input": [
      "from scipy import linalg as la\n",
      "import numpy as np\n",
      "\n",
      "def make_edges(n):\n",
      "    A = la.triu(np.random.randint(1,50,(n,n))*(np.random.rand(n,n)>.5))\n",
      "    S = []\n",
      "    for index, x in np.ndenumerate(A):\n",
      "        if x != 0:\n",
      "            S.append((str(index[0]), str(index[1]), x))\n",
      "    return S\n",
      "            \n",
      "A = np.random.randint(1,50,(10,15))\n",
      "shape = array.shape\n",
      "print shape"
     ],
     "language": "python",
     "metadata": {},
     "outputs": [
      {
       "output_type": "stream",
       "stream": "stdout",
       "text": [
        "(1632L, 2464L, 3L)\n"
       ]
      }
     ],
     "prompt_number": 97
    },
    {
     "cell_type": "code",
     "collapsed": false,
     "input": [
      "data = np.load('MSTdata.npy')\n",
      "import networkx as nx\n",
      "\n",
      "def formChanger(oldData):\n",
      "    newData = []\n",
      "    for i in oldData:\n",
      "        newData.append((i[0],i[1],int(i[2])))\n",
      "    return newData\n",
      "\n",
      "newData = formChanger(data)\n",
      "%timeit kruskal(newData)\n",
      "G = nx.Graph()\n",
      "for i in data:\n",
      "    G.add_edge(i[0], i[1], weight=int(i[2]))\n",
      "%timeit nx.minimum_spanning_tree(G)"
     ],
     "language": "python",
     "metadata": {},
     "outputs": [
      {
       "output_type": "stream",
       "stream": "stdout",
       "text": [
        "1000 loops, best of 3: 338 \u00b5s per loop\n",
        "100 loops, best of 3: 2.4 ms per loop"
       ]
      },
      {
       "output_type": "stream",
       "stream": "stdout",
       "text": [
        "\n"
       ]
      }
     ],
     "prompt_number": 17
    },
    {
     "cell_type": "code",
     "collapsed": false,
     "input": [
      "import numpy as np\n",
      "from scipy import linalg as la\n",
      "\n",
      "n = 10\n",
      "A = la.triu(np.random.randint(1,50,(n,n))*(np.random.rand(n,n)>.5))\n",
      "S = []\n",
      "for index, x in np.ndenumerate(A):\n",
      "    if x != 0:\n",
      "        S.append((str(index[0]), str(index[1]), x))\n",
      "print S"
     ],
     "language": "python",
     "metadata": {},
     "outputs": [
      {
       "output_type": "stream",
       "stream": "stdout",
       "text": [
        "[('0', '0', 14), ('0', '1', 42), ('0', '3', 24), ('0', '4', 22), ('0', '9', 7), ('1', '3', 15), ('1', '5', 47), ('1', '6', 2), ('1', '9', 38), ('2', '8', 7), ('2', '9', 14), ('3', '3', 27), ('3', '5', 30), ('3', '7', 15), ('3', '8', 31), ('3', '9', 5), ('4', '5', 33), ('4', '6', 5), ('5', '7', 45), ('5', '8', 2), ('5', '9', 18), ('6', '7', 48), ('6', '9', 7), ('7', '7', 27), ('7', '8', 35)]\n"
       ]
      }
     ],
     "prompt_number": 47
    },
    {
     "cell_type": "code",
     "collapsed": false,
     "input": [
      "from collections import Counter \n",
      "import scipy.ndimage \n",
      "import numpy as np \n",
      "from matplotlib import pyplot as plt\n",
      "\n",
      "def convert(filename): \n",
      "    picture = scipy.ndimage.imread(filename) \n",
      "    A = picture[:,:,0] \n",
      "    edges = [] \n",
      "    a = A.shape \n",
      "    for index, x in np.ndenumerate(A): \n",
      "        i = index[0] \n",
      "        j = index[1]\n",
      "    # Avoid the pixels on the edges\n",
      "    if i < a[0]-1 and j < a[1]-1:\n",
      "        # Only do the i+1 and j+1 cases since it's bidirectional\n",
      "        edges.append(((i,j), (i,j+1), abs(A[i,j]-A[i,j+1])))\n",
      "        edges.append(((i+1,j), (i,j), abs(A[i+1,j]-A[i,j])))\n",
      "    return edges\n",
      "\n",
      "def diff(A,B):\n",
      "        return np.abs(A-B)\n",
      "\n",
      "def ImgToGraph(A):\n",
      "    r,c=A.shape\n",
      "    nodes=[]\n",
      "    for i in xrange(r):\n",
      "        for j in xrange(c):\n",
      "            if j!=(c-1):\n",
      "                nodes.append([c*i+j,c*i+(j+1),diff(A[i,j],A[i,j+1])])\n",
      "            if i!=(r-1):\n",
      "                nodes.append([c*i+j,c*(i+1)+j,diff(A[i,j],A[i+1,j])])\n",
      "    return nodes\n",
      "\n",
      "def plotSeg(segments,img):\n",
      "    s=img.shape[0]\n",
      "    d=Counter(segments)\n",
      "    segs=d.most_common(10)\n",
      "    parts=segments.reshape((s,img.shape[1]))\n",
      "    plt.gray()\n",
      "    plt.subplot(221)\n",
      "    plt.imshow(img)\n",
      "    plt.subplot(222)\n",
      "    plt.imshow(img*(parts==segs[0][0]))\n",
      "    plt.subplot(223)\n",
      "    plt.imshow(img*(parts==segs[1][0]))\n",
      "    plt.subplot(224)\n",
      "    plt.imshow(img*(parts==segs[2][0]))\n",
      "    plt.show()\n",
      "\n",
      "raw_img = scipy.ndimage.imread('dream.png')\n",
      "img = raw_img[:,:,0]\n",
      "print img.shape\n",
      "edges = ImgToGraph(img)\n",
      "nodelist = range(img.size)\n",
      "seg = mod_kruskal(edges, nodelist, 200)\n",
      "plotSeg(np.array(seg.values()),img)"
     ],
     "language": "python",
     "metadata": {},
     "outputs": [
      {
       "output_type": "stream",
       "stream": "stdout",
       "text": [
        "(48L, 48L)\n"
       ]
      }
     ],
     "prompt_number": 7
    },
    {
     "cell_type": "code",
     "collapsed": false,
     "input": [
      "image = scipy.ndimage.imread('MSTseg1.jpg')[:,:,0]\n",
      "plt.imshow(image)\n",
      "plt.gray()\n",
      "plt.show()"
     ],
     "language": "python",
     "metadata": {},
     "outputs": [],
     "prompt_number": 9
    },
    {
     "cell_type": "code",
     "collapsed": false,
     "input": [
      "import numpy as np\n",
      "from scipy import linalg as la\n",
      "from operator import itemgetter\n",
      "\n",
      "def mod_kruskal(edges, nodelist, div):\n",
      "    removed = []\n",
      "    nodes = {node:node for node in nodelist}\n",
      "    remaining = len(nodes) - 1 \n",
      "    def track(node):\n",
      "        temp = node\n",
      "        while nodes[temp] is not temp:\n",
      "            temp = nodes[temp]\n",
      "        return temp\n",
      "    for n1, n2, weight in sorted(edges, key=itemgetter(2)):\n",
      "        root = track(n1)\n",
      "        remove = track(n2)\n",
      "        if root is not remove:\n",
      "            removed.append(remove)\n",
      "            remaining -=1 \n",
      "            nodes[remove] = root\n",
      "            if remaining == div:\n",
      "                return {node:track(node) for node in nodes}\n",
      "            \n",
      "def make_edges(n):\n",
      "    A = la.triu(np.random.randint(1,50,(n,n))*(np.random.rand(n,n)>.5))\n",
      "    S = []\n",
      "    for index, x in np.ndenumerate(A):\n",
      "        if x != 0:\n",
      "            S.append((str(index[0]), str(index[1]), x))\n",
      "    return S\n",
      "            \n",
      "edges = make_edges(30)\n",
      "nodelist = {node:node for node in ({edge[0] for edge in edges} | {edge[1] for edge in edges})}\n",
      "A =  mod_kruskal(edges, nodelist, 7).values()\n",
      "print A, len(A)"
     ],
     "language": "python",
     "metadata": {},
     "outputs": [
      {
       "output_type": "stream",
       "stream": "stdout",
       "text": [
        "['7', '25', '7', '7', '6', '14', '22', '14', '7', '14', '14', '14', '5', '7', '5', '4', '7', '6', '14', '6', '6', '7', '5', '7', '6', '14', '17', '7', '5', '14'] 30\n"
       ]
      }
     ],
     "prompt_number": 1
    },
    {
     "cell_type": "code",
     "collapsed": false,
     "input": [],
     "language": "python",
     "metadata": {},
     "outputs": []
    }
   ],
   "metadata": {}
  }
 ]
}