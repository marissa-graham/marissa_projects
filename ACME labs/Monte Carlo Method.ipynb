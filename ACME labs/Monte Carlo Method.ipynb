{
 "metadata": {
  "name": "",
  "signature": "sha256:571810fb06a998c8b3d33b8d7ecf0ac55f34086ad47c361206c189f9a12f23bb"
 },
 "nbformat": 3,
 "nbformat_minor": 0,
 "worksheets": [
  {
   "cells": [
    {
     "cell_type": "code",
     "collapsed": false,
     "input": [
      "%matplotlib inline\n",
      "import numpy as np\n",
      "from __future__ import division\n",
      "\n",
      "numPoints = 500\n",
      "points = np.random.rand(2, numPoints)\n",
      "points = points*2-1\n",
      "circleMask = np.hypot(points[0,:], points[1,:]) <= 1\n",
      "numInCircle = np.count_nonzero(circleMask)\n",
      "4.*numInCircle/numPoints"
     ],
     "language": "python",
     "metadata": {},
     "outputs": [
      {
       "metadata": {},
       "output_type": "pyout",
       "prompt_number": 1,
       "text": [
        "3.168"
       ]
      }
     ],
     "prompt_number": 1
    },
    {
     "cell_type": "code",
     "collapsed": false,
     "input": [
      "import numpy as np\n",
      "from matplotlib import pyplot as plt\n",
      "import scipy.stats as stats\n",
      " \n",
      "def mc_int(f, mins, maxs, numPoints=500, numIters=100):\n",
      "    '''Use Monte-Carlo integration to approximate the integral of f\n",
      "    on the box defined by mins and maxs.\n",
      "    \n",
      "    INPUTS:\n",
      "    f         - A function handle. Should accept a 1-D NumPy array \n",
      "        as input.\n",
      "    mins      - A 1-D NumPy array of the minimum bounds on integration.\n",
      "    maxs      - A 1-D NumPy array of the maximum bounds on integration.\n",
      "    numPoints - An integer specifying the number of points to sample in \n",
      "        the Monte-Carlo method. Defaults to 500.\n",
      "    numIters - An integer specifying the number of times to run the \n",
      "        Monte Carlo algorithm. Defaults to 100.\n",
      "        \n",
      "    ALGORITHM:\n",
      "    Run the Monte-Carlo algorithm `numIters' times and return the average\n",
      "    of these runs.\n",
      "                \n",
      "    EXAMPLES:\n",
      "    >>> f = lambda x: np.hypot(x[0], x[1]) <= 1\n",
      "    >>> # Integral over the square [-1,1] x [-1,1] should be pi\n",
      "    >>> mc_int(f, np.array([-1,-1]), np.array([1,1]))\n",
      "    3.1290400000000007\n",
      "    '''\n",
      "    results = np.zeros(numIters)\n",
      "    volume = np.prod(maxs-mins)\n",
      "    \n",
      "    for i in xrange(numIters):\n",
      "        points = np.random.rand(len(mins), numPoints)\n",
      "        for j in xrange(len(mins)):\n",
      "            points[j,:] = points[j,:]*(maxs[j]-mins[j]) + mins[j]\n",
      "        results[i] = volume/numPoints*np.sum(np.apply_along_axis(f,0,points))\n",
      "    \n",
      "    return np.mean(results)\n",
      "\n",
      "def prob1():\n",
      "    f = lambda x: np.hypot(x[0],x[1]) <= 1\n",
      "    return \"pi=\"+str(mc_int(f, np.array([-1,-1]),np.array([1,1])))\n",
      "    #Should get around 3.1415926....\n",
      "    \n",
      "def prob2():\n",
      "    f= lambda x: 1/np.sqrt((2*np.pi)**len(x))*np.exp(-1*np.inner(x,x)/2)\n",
      "    mins = np.array([-.5,0,0,0])\n",
      "    maxs = np.array([.75,1,.5,1])\n",
      "    means = np.zeros(4)\n",
      "    covs = np.diag(np.ones(4))\n",
      "    value, inform = stats.mvn.mvnun(mins, maxs, means, covs)\n",
      "    print \"Value of integral of f(x) = \"+str(value)\n",
      "    \n",
      "    int10 = mc_int(f,mins,maxs,numPoints=10)\n",
      "    int100 = mc_int(f,mins,maxs,numPoints=100)\n",
      "    int1000 = mc_int(f,mins,maxs,numPoints=1000)\n",
      "    int10000 = mc_int(f,mins,maxs,numPoints=10000)\n",
      "    \n",
      "    print \"MC integral of f with 10 points: \"+str(int10)\n",
      "    print \"MC integral of f with 100 points: \"+str(int100)\n",
      "    print \"MC integral of f with 1000 points: \"+str(int1000)\n",
      "    print \"MC integral of f with 10000 points: \"+str(int10000)\n",
      "    \n",
      "    X = np.array([10,100,1000,10000])\n",
      "    Y = np.absolute(np.array([int10,int100,int1000,int10000])-value)\n",
      "    print Y\n",
      "    plt.scatter(X,Y)\n",
      "    plt.xlim(-100,11000)\n",
      "    plt.ylim(0,Y.max()*2)\n",
      "    plt.show()\n",
      "    plt.close()"
     ],
     "language": "python",
     "metadata": {},
     "outputs": [],
     "prompt_number": 2
    },
    {
     "cell_type": "code",
     "collapsed": false,
     "input": [
      "prob2()"
     ],
     "language": "python",
     "metadata": {},
     "outputs": [
      {
       "output_type": "stream",
       "stream": "stdout",
       "text": [
        "Value of integral of f(x) = 0.0103697671749\n",
        "MC integral of f with 10 points: 0.0104241886754"
       ]
      },
      {
       "output_type": "stream",
       "stream": "stdout",
       "text": [
        "\n",
        "MC integral of f with 100 points: 0.0103981242106\n",
        "MC integral of f with 1000 points: 0.0103674920171\n",
        "MC integral of f with 10000 points: 0.0103669886277\n",
        "[  5.44215005e-05   2.83570357e-05   2.27515780e-06   2.77854724e-06]\n"
       ]
      },
      {
       "metadata": {},
       "output_type": "display_data",
       "png": "[encoded data removed]",
       "text": [
        "<matplotlib.figure.Figure at 0x3f618d0>"
       ]
      }
     ],
     "prompt_number": 3
    },
    {
     "cell_type": "code",
     "collapsed": false,
     "input": [
      "''' \n",
      "Create a function that will evaluate the iterated integral on [0,1]x...x[0,1] \n",
      "with f(x1,...,xn)=prod(2xi). Use left-hand Riemann sums to approximate the \n",
      "integral. (left-hand side of each interval)\n",
      "(have the function have an argument numpoints which will be the number of \n",
      "samples for the Riemann sum, default=100) One way to implement this is with \n",
      "a recursive function, a partial implementation of which is given below. Time \n",
      "your <quadrature> function with the results of your <Monte Carlo> function \n",
      "for n=1,2,5,10,etc. , certain number of points, and plot the results.\n",
      "'''\n",
      "       \n",
      "def quad_int(f, mins, maxs, numPoints=100):\n",
      "    '''\n",
      "    Use the naive (Riemann sum) method to numerically integrate f on a box \n",
      "    defined by the mins and maxs.\n",
      "    \n",
      "    INPUTS:\n",
      "    f         - A function handle. Should accept a 1-D NumPy array \n",
      "        as input.\n",
      "    mins      - A 1-D NumPy array of the minimum bounds on integration.\n",
      "    maxs      - A 1-D NumPy array of the maximum bounds on integration.\n",
      "    numPoints - An integer specifying the number of points to sample in \n",
      "        the Riemann-sum method. Defaults to 100.\n",
      "    '''\n",
      "    n = len(mins)\n",
      "    axes = [np.linspace(mins[i], maxs[i], numPoints)[:-1] for i in xrange(n)]\n",
      "    X = np.meshgrid(*axes)\n",
      "    tot = 0\n",
      "    for index, x in np.ndenumerate(X[0]):\n",
      "        point = np.array([X[i][index] for i in xrange(n)])\n",
      "        tot += f(point)\n",
      "    return tot*np.prod(maxs-mins)/numPoints**n"
     ],
     "language": "python",
     "metadata": {},
     "outputs": [],
     "prompt_number": 14
    },
    {
     "cell_type": "code",
     "collapsed": false,
     "input": [
      "f = lambda x:np.prod(2*x)\n",
      "n = 3\n",
      "x = np.arange(1,n+1)\n",
      "mins = np.zeros(n)\n",
      "maxs = np.ones(n)\n",
      "%timeit quad_int(f, mins, maxs, numPoints=50)"
     ],
     "language": "python",
     "metadata": {},
     "outputs": [
      {
       "output_type": "stream",
       "stream": "stdout",
       "text": [
        "1 loops, best of 3: 4.8 s per loop\n"
       ]
      }
     ],
     "prompt_number": 16
    },
    {
     "cell_type": "code",
     "collapsed": false,
     "input": [
      "A = np.random.rand(2,4,4)\n",
      "print A\n",
      "print A[(1,2,3)]\n",
      "print A[tuple([slice(None)])+(2,3)]\n",
      "for index, x in np.ndenumerate(A[0]):\n",
      "    print index\n",
      "    print A[tuple([slice(None)])+index]"
     ],
     "language": "python",
     "metadata": {},
     "outputs": []
    },
    {
     "cell_type": "code",
     "collapsed": false,
     "input": [
      "a = (1,2,3)\n",
      "b = (4,5,6)\n",
      "print tuple([slice(None)])+a"
     ],
     "language": "python",
     "metadata": {},
     "outputs": [
      {
       "output_type": "stream",
       "stream": "stdout",
       "text": [
        "(slice(None, None, None), 1, 2, 3)\n"
       ]
      }
     ],
     "prompt_number": 117
    },
    {
     "cell_type": "code",
     "collapsed": false,
     "input": [
      "from scipy.integrate import nquad\n",
      "def f(*x):\n",
      "    return np.prod(2*np.array(x))\n",
      "\n",
      "ranges = [(mins[i],maxs[i]) for i in xrange(n)]\n",
      "print 'Quadrature method:'\n",
      "for n in [1,2,3,4]:\n",
      "    mins = np.zeros(n)\n",
      "    maxs = np.ones(n)\n",
      "    ranges = [(mins[i],maxs[i]) for i in xrange(n)]\n",
      "    %timeit nquad(f, ranges)\n",
      "\n",
      "print '\\n', 'Monte Carlo method:'\n",
      "for n in [1,2,3,4,5,10]:\n",
      "    mins = np.zeros(n)\n",
      "    maxs = np.ones(n)\n",
      "    %timeit mc_int(f, mins, maxs, numPoints=50)"
     ],
     "language": "python",
     "metadata": {},
     "outputs": [
      {
       "output_type": "stream",
       "stream": "stdout",
       "text": [
        "Quadrature method:\n",
        "1000 loops, best of 3: 661 \u00b5s per loop"
       ]
      },
      {
       "output_type": "stream",
       "stream": "stdout",
       "text": [
        "\n",
        "100 loops, best of 3: 13.9 ms per loop"
       ]
      },
      {
       "output_type": "stream",
       "stream": "stdout",
       "text": [
        "\n",
        "1 loops, best of 3: 295 ms per loop"
       ]
      },
      {
       "output_type": "stream",
       "stream": "stdout",
       "text": [
        "\n",
        "1 loops, best of 3: 6.19 s per loop"
       ]
      },
      {
       "output_type": "stream",
       "stream": "stdout",
       "text": [
        "\n",
        "\n",
        "Monte Carlo method:\n",
        "1 loops, best of 3: 293 ms per loop"
       ]
      },
      {
       "output_type": "stream",
       "stream": "stdout",
       "text": [
        "\n",
        "1 loops, best of 3: 296 ms per loop"
       ]
      },
      {
       "output_type": "stream",
       "stream": "stdout",
       "text": [
        "\n",
        "1 loops, best of 3: 299 ms per loop"
       ]
      },
      {
       "output_type": "stream",
       "stream": "stdout",
       "text": [
        "\n",
        "1 loops, best of 3: 306 ms per loop"
       ]
      },
      {
       "output_type": "stream",
       "stream": "stdout",
       "text": [
        "\n",
        "1 loops, best of 3: 309 ms per loop"
       ]
      },
      {
       "output_type": "stream",
       "stream": "stdout",
       "text": [
        "\n",
        "1 loops, best of 3: 325 ms per loop"
       ]
      },
      {
       "output_type": "stream",
       "stream": "stdout",
       "text": [
        "\n"
       ]
      }
     ],
     "prompt_number": 89
    },
    {
     "cell_type": "code",
     "collapsed": false,
     "input": [],
     "language": "python",
     "metadata": {},
     "outputs": [],
     "prompt_number": 21
    }
   ],
   "metadata": {}
  }
 ]
}