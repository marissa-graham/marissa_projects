{
 "metadata": {
  "name": "",
  "signature": "sha256:09028399f285aa947db51381ad4ad6a32674cc775dbb8c8870ba055d1e20c352"
 },
 "nbformat": 3,
 "nbformat_minor": 0,
 "worksheets": [
  {
   "cells": [
    {
     "cell_type": "code",
     "collapsed": false,
     "input": [
      "'''\n",
      "Solutions file for Volume 2, Lab \n",
      "ScipyOptimize\n",
      "Name your file solutions.py\n",
      "'''\n",
      "import scipy.optimize as opt\n",
      "import numpy as np\n",
      "from matplotlib import pyplot as plt\n",
      "\n",
      "def Problem1():\n",
      "    print 'Powell only required 19 iterations, quite a bit better than any other algorithm. It also gave the closest answer'\n",
      "    print 'Anneal, L-BFGS-B, TNC, and COBYLA all fail to find the correct minimum.'\n",
      "    \n",
      "def Problem2():\n",
      "    '''\n",
      "    Contains the code for the both basinhopping problems\n",
      "    Returns resulting value when basinhopping is used with a stepsize of .2\n",
      "    '''\n",
      "    print 'With a stepsize of 0.2, the displacement is not enough to get out of the local valley'\n",
      "    res.fun = [-2.01638111, -2.0953192 ]\n",
      "    return res.fun\n",
      "\n",
      "def Problem3():\n",
      "    '''\n",
      "    Returns the roots x,y,z as a matrix.\n",
      "    '''\n",
      "    def func(x):\n",
      "    return np.array([-x[0]+x[1]+x[2], 1+x[0]**3-x[1]**2+x[2]**3, -2-x[0]**2+x[1]**2+x[2]**2])\n",
      "\n",
      "    def jacobian(x):\n",
      "        jac = np.array([[-1,1,1], [3*x[0]**2, -2*x[1], 3*x[2]**2], [-2*x[0], 2*x[1], 2*x[2]]])\n",
      "    \n",
      "    sol = opt.root(func, [0,0,0])\n",
      "    return sol.x\n",
      "\n",
      "def Problem4():\n",
      "    '''\n",
      "    Contains the code finding the values of gamma, C, K, and the plot as specified in the problem\n",
      "    Returns gamma, C, K as an array\n",
      "    '''\n",
      "    data = np.loadtxt('heating.txt')\n",
      "    data = np.array(data)\n",
      "\n",
      "    def func(t, gamma, C, K):\n",
      "        return 290 + 59.43/gamma + K*np.exp(-gamma*t/C)\n",
      "\n",
      "    popt, pcov = opt.curve_fit(func, data[:,0], data[:,1])\n",
      "        return popt"
     ],
     "language": "python",
     "metadata": {},
     "outputs": [],
     "prompt_number": 5
    },
    {
     "cell_type": "code",
     "collapsed": false,
     "input": [
      "'''\n",
      "Nelder-Mead gives x=[0.99998915, 0.99997782] after 67 iterations.\n",
      "Powell gives x=[1.,1.] after 19 iterations\n",
      "CG gives x=[0.99999552, 0.99999102]\n",
      "BFGS gives x=[0.9999951, 0.99999021]\n",
      "Newton-CG gives x=[1.00000003, 1.00000005] with jacobian and x=[0.99999997, 0.99999993] with hessian\n",
      "Anneal gives x=[-18.08052751, 333.23227734] after 43 iterations\n",
      "L-BFGS-B gives x very close to [0,0] after 32 iterations\n",
      "TNC gives x close to [0,0] after 30 iterations\n",
      "COBYLA gave x=[0.81260745, 0.6593741] after exceeding maximum number of function evaluations\n",
      "SLSQP gives x=[1.0012661, 1.0002496] after 25 iterations\n",
      "'''\n",
      "start = np.array([4,-2.5])\n",
      "opt.minimize(opt.rosen, start, method='SLSQP')"
     ],
     "language": "python",
     "metadata": {},
     "outputs": [
      {
       "metadata": {},
       "output_type": "pyout",
       "prompt_number": 24,
       "text": [
        "  status: 0\n",
        " success: True\n",
        "    njev: 25\n",
        "    nfev: 110\n",
        "     fun: 1.735540529214285e-08\n",
        "       x: array([ 1.00012661,  1.0002496 ])\n",
        " message: 'Optimization terminated successfully.'\n",
        "     jac: array([ 0.00138685,  0.00011602,  0.        ])\n",
        "     nit: 25"
       ]
      }
     ],
     "prompt_number": 24
    },
    {
     "cell_type": "code",
     "collapsed": false,
     "input": [
      "def multimin(x):\n",
      "    r = np.sqrt((x[0]+1)**2 + x[1]**2)\n",
      "    return r**2 * (1 + np.sin(4*r)**2)\n",
      "\n",
      "opt.basinhopping(multimin, np.array([-2,-2]), stepsize=0.2, minimizer_kwargs={'method':'nelder-mead'})"
     ],
     "language": "python",
     "metadata": {},
     "outputs": [
      {
       "metadata": {},
       "output_type": "pyout",
       "prompt_number": 28,
       "text": [
        "                  nfev: 8337\n",
        " minimization_failures: 0\n",
        "                   fun: 5.488168656962328\n",
        "                     x: array([-2.01638111, -2.0953192 ])\n",
        "               message: ['requested number of basinhopping iterations completed successfully']\n",
        "                   nit: 100"
       ]
      }
     ],
     "prompt_number": 28
    },
    {
     "cell_type": "code",
     "collapsed": false,
     "input": [
      "def func(x):\n",
      "    return [-x[0]+x[1]+x[2], 1+x[0]**3-x[1]**2+x[2]**3, -2-x[0]**2+x[1]**2+x[2]**2]\n",
      "\n",
      "def jacobian(x):\n",
      "    jac = [[-1,1,1], [3*x[0]**2, -2*x[1], 3*x[2]**2], [-2*x[0], 2*x[1], 2*x[2]]]\n",
      "    \n",
      "sol = opt.root(func, [0,0,0])\n",
      "return sol.x\n",
      "return func(sol.x)"
     ],
     "language": "python",
     "metadata": {},
     "outputs": [
      {
       "output_type": "stream",
       "stream": "stdout",
       "text": [
        "[-0.39965477 -1.21959745  0.81994268]\n",
        "[0.0, -4.3187675657918589e-14, -5.0737192225369654e-14]\n"
       ]
      }
     ],
     "prompt_number": 31
    },
    {
     "cell_type": "code",
     "collapsed": false,
     "input": [
      "data = np.loadtxt('heating.txt')\n",
      "data = np.array(data)\n",
      "\n",
      "def func(t, gamma, C, K):\n",
      "    return 290 + 59.43/gamma + K*np.exp(-gamma*t/C)\n",
      "\n",
      "popt, pcov = opt.curve_fit(func, data[:,0], data[:,1])"
     ],
     "language": "python",
     "metadata": {},
     "outputs": [
      {
       "output_type": "stream",
       "stream": "stdout",
       "text": [
        "[   0.56348447  132.82073055 -116.26998091]\n"
       ]
      },
      {
       "output_type": "stream",
       "stream": "stderr",
       "text": [
        "-c:5: RuntimeWarning: overflow encountered in exp\n"
       ]
      }
     ],
     "prompt_number": 51
    },
    {
     "cell_type": "code",
     "collapsed": false,
     "input": [],
     "language": "python",
     "metadata": {},
     "outputs": []
    }
   ],
   "metadata": {}
  }
 ]
}