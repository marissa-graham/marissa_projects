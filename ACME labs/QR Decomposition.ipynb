{
 "metadata": {
  "name": "",
  "signature": "sha256:cf9e0e843d1cfd0a67725ad95f32d1039ca01c1965f40943461a0ee75c4309dd"
 },
 "nbformat": 3,
 "nbformat_minor": 0,
 "worksheets": [
  {
   "cells": [
    {
     "cell_type": "code",
     "collapsed": false,
     "input": [
      "import numpy as np\n",
      "import math\n",
      "from scipy import linalg as la\n",
      "\n",
      "def QR(A):\n",
      "    m, n = A.shape\n",
      "    Q = np.copy(A)\n",
      "    R = np.zeros((n,n))\n",
      "    for i in xrange(n):\n",
      "        R[i,i] = math.sqrt(Q[:,i].dot(Q[:,i]))\n",
      "        Q[:,i] = Q[:,i]/R[i,i]\n",
      "        for j in xrange(i+1,n):\n",
      "            R[i,j] = Q[:,j].dot(Q[:,i])\n",
      "            Q[:,j] = Q[:,j]-R[i,j]*Q[:,i]\n",
      "    return Q, R\n",
      "\n",
      "def QR_det(A):\n",
      "    Q, R = mod_Gram_Schmidt(A)\n",
      "    diag = np.diagonal(R)\n",
      "    return np.abs(np.prod(diag))\n",
      "\n",
      "def householder(A):\n",
      "    m, n = A.shape\n",
      "    R = np.copy(A)\n",
      "    Q = np.eye(m)\n",
      "    for k in xrange(n-1):\n",
      "        u = np.copy(R[k:,k])\n",
      "        u[0] = u[0] + u[0]/np.abs(u[0])*la.norm(u)\n",
      "        u = u/la.norm(u)\n",
      "        R[k:,k:] = R[k:,k:] - 2*np.dot(np.outer(u,u), R[k:,k:])\n",
      "        Q[k:] = Q[k:] - 2*np.dot(np.outer(u,u), Q[k:])\n",
      "    return np.transpose(Q), R\n",
      "\n",
      "def hessenberg(A):\n",
      "    # Get shape of A\n",
      "    m, n = A.shape\n",
      "    # Initialize H\n",
      "    H = np.copy(A)\n",
      "    # Initialize Q\n",
      "    Q = np.eye(m)\n",
      "    # Create empty array to take slices of\n",
      "    u = np.empty(n-1)\n",
      "    # Iterate through the columns of H except the last two\n",
      "    for k in xrange(n-2):\n",
      "        # Take a slice of u\n",
      "        u_k = u[k:]\n",
      "        u_k[:] = H[k+1:,k]\n",
      "        u_k[0] = u_k[0] + u_k[0]/np.abs(u_k[0])*la.norm(u_k)\n",
      "        u_k = u_k/la.norm(u_k)\n",
      "        H[k+1:,k:] = H[k+1:,k:] - 2*np.outer(u_k, u_k.dot(H[k+1:,k:]))\n",
      "        H[:,k+1:] = H[:,k+1:] - 2*np.outer(H[:,k+1:].dot(u_k), u_k)\n",
      "        Q[k+1:] = Q[k+1:] - 2*np.outer(u_k, u_k.dot(Q[k+1:]))\n",
      "    print 'The Hessenberg of a symmetric matrix is also symmetric'\n",
      "    return Q, H"
     ],
     "language": "python",
     "metadata": {},
     "outputs": [],
     "prompt_number": 9
    },
    {
     "cell_type": "code",
     "collapsed": false,
     "input": [
      "A = np.random.rand(10,10)\n",
      "Q, R = householder(A)\n",
      "q, r = la.qr(A)\n",
      "print np.allclose(Q,q)\n",
      "print np.allclose(R,r)"
     ],
     "language": "python",
     "metadata": {},
     "outputs": [
      {
       "output_type": "stream",
       "stream": "stdout",
       "text": [
        "True\n",
        "True\n"
       ]
      }
     ],
     "prompt_number": 11
    },
    {
     "cell_type": "code",
     "collapsed": false,
     "input": [],
     "language": "python",
     "metadata": {},
     "outputs": []
    }
   ],
   "metadata": {}
  }
 ]
}