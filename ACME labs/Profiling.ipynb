{
 "metadata": {
  "name": "",
  "signature": "sha256:54936129fa6e3b47420920eb398f289efc24a361a71b01935f6b4587d34158f9"
 },
 "nbformat": 3,
 "nbformat_minor": 0,
 "worksheets": [
  {
   "cells": [
    {
     "cell_type": "code",
     "collapsed": false,
     "input": [
      "%load_ext cythonmagic"
     ],
     "language": "python",
     "metadata": {},
     "outputs": []
    },
    {
     "cell_type": "code",
     "collapsed": false,
     "input": [
      "%%cython\n",
      "import numpy as np\n",
      "from scipy import linalg as la\n",
      "cimport cython\n",
      "\n",
      "def qr1(A):\n",
      "    cdef int j\n",
      "    ncols = A.shape[1]\n",
      "    Q = A.copy()\n",
      "    R = np.zeros((ncols, ncols))\n",
      "    for i in range(ncols):\n",
      "        R[i, i] = la.norm(Q[:, i])\n",
      "        Q[:, i] = Q[:, i]/la.norm(Q[:,i])\n",
      "        for j in xrange(i+1, ncols):\n",
      "            R[i, j] = Q[:, j].dot(Q[:, i])\n",
      "            Q[:, j] = Q[:, j] - Q[:, j].dot(Q[:, i]) * Q[:, i]\n",
      "    return Q, R\n",
      "\n",
      "def qr2(A):\n",
      "    cdef int j\n",
      "    ncols = A.shape[1]\n",
      "    Q = A.copy()\n",
      "    R = np.zeros((ncols,ncols))\n",
      "    for i in range(ncols):\n",
      "        R[i, i] = la.norm(Q[:,i])\n",
      "        Q[:, i] = Q[:, i] /R[i,i]\n",
      "        for j in xrange(i+1, ncols):\n",
      "            R[i, j] = Q[:, j].dot(Q[:, i])\n",
      "            Q[:,j] = Q[:, j] - R[i, j]*Q[:, i]\n",
      "    return Q, R"
     ],
     "language": "python",
     "metadata": {},
     "outputs": [],
     "prompt_number": 94
    },
    {
     "cell_type": "code",
     "collapsed": false,
     "input": [
      "A = np.random.rand(3000,3000)\n",
      "\n",
      "def power_method(A, tol = 1E-6):\n",
      "    '''\n",
      "    Use the power method to compute the dominant eigenvalue.\n",
      "\n",
      "    Inputs:\n",
      "        A -- numpy array, assume it has a dominant eigenvalue\n",
      "        tol -- float tolerance\n",
      "    Returns:\n",
      "        eigenvalue -- dominant eigenvalue of A\n",
      "        eigenvector -- corresponding eigenvector of A\n",
      "        \n",
      "    '''\n",
      "    x_0 = np.random.rand(A.shape[1])\n",
      "    x = x_0/la.norm(x_0)\n",
      "    x_prev = x*2\n",
      "    while la.norm(x-x_prev) > tol:\n",
      "        Adotx = np.dot(A,x)\n",
      "        # Instead of calling np.dot(A,x) twice in the line below, I defined it\n",
      "        # in the line above so as to only do one matrix multiplication. This \n",
      "        # cut the runtime approximately in half.\n",
      "        x_k = Adotx/la.norm(Adotx)\n",
      "        # I assigned two things in the same line to make the code more Pythonic.\n",
      "        # This did not reduce the runtime very much.\n",
      "        x_prev, x = x, x_k\n",
      "    eig = np.inner(np.dot(A,x),x)/(la.norm(x))**2\n",
      "    return eig, x"
     ],
     "language": "python",
     "metadata": {},
     "outputs": [],
     "prompt_number": 95
    },
    {
     "cell_type": "code",
     "collapsed": false,
     "input": [
      "def pysum(X):\n",
      "    n = len(X)\n",
      "    tot = 0\n",
      "    for i in xrange(n):\n",
      "        tot += X[i]\n",
      "    return tot\n",
      "\n",
      "# cython: boundscheck=False\n",
      "# cython: wraparound=False\n",
      "cdef double cysum(double[:] X):\n",
      "    cdef double tot=0\n",
      "    cdef int i, n=A.shape[0]\n",
      "    for i in xrange(n):\n",
      "        tot += X[i]\n",
      "    return tot"
     ],
     "language": "python",
     "metadata": {},
     "outputs": [
      {
       "ename": "SyntaxError",
       "evalue": "invalid syntax (<ipython-input-99-c8b45d016978>, line 10)",
       "output_type": "pyerr",
       "traceback": [
        "\u001b[1;36m  File \u001b[1;32m\"<ipython-input-99-c8b45d016978>\"\u001b[1;36m, line \u001b[1;32m10\u001b[0m\n\u001b[1;33m    cdef double cysum(double[:] X):\u001b[0m\n\u001b[1;37m              ^\u001b[0m\n\u001b[1;31mSyntaxError\u001b[0m\u001b[1;31m:\u001b[0m invalid syntax\n"
       ]
      }
     ],
     "prompt_number": 99
    },
    {
     "cell_type": "code",
     "collapsed": false,
     "input": [],
     "language": "python",
     "metadata": {},
     "outputs": []
    }
   ],
   "metadata": {}
  }
 ]
}