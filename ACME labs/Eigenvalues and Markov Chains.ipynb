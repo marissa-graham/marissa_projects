{
 "cells": [
  {
   "cell_type": "code",
   "execution_count": 3,
   "metadata": {
    "collapsed": false
   },
   "outputs": [],
   "source": [
    "'''\n",
    "Solutions to lab 9 Eigenvalues and Markov Chains\n",
    "should be called 'lab9.py'\n",
    "'''\n",
    "import numpy as np\n",
    "from scipy import linalg as la\n",
    "import cmath\n",
    "\n",
    "def power_method(A, tol = 1E-6):\n",
    "    '''\n",
    "    Use the power method to compute the dominant eigenvalue.\n",
    "\n",
    "    Inputs:\n",
    "        A -- numpy array, assume it has a dominant eigenvalue\n",
    "        tol -- float tolerance\n",
    "    Returns:\n",
    "        eigenvalue -- dominant eigenvalue of A\n",
    "        eigenvector -- corresponding eigenvector of A\n",
    "        \n",
    "    '''\n",
    "    x_0 = np.random.rand(A.shape[1])\n",
    "    x_0 = x_0/la.norm(x_0)\n",
    "    x = x_0\n",
    "    x_prev = x_0*2\n",
    "    while la.norm(x-x_prev) > tol:\n",
    "        x_k = np.dot(A,x)/la.norm(np.dot(A,x))\n",
    "        x_prev = x\n",
    "        x = x_k\n",
    "    eig = np.inner(np.dot(A,x),x)/(la.norm(x))**2\n",
    "    return x, eig\n",
    "\n",
    "def qr_eigs(A, niter = 100, tol = 1E-6):\n",
    "    '''\n",
    "    Implement the QR algorithm with Hessenberg preconditioning.\n",
    "    Inputs:\n",
    "        A -- numpy array (matrix)\n",
    "        niter -- int number of iterations\n",
    "        tol -- float tolerance\n",
    "    Returns:\n",
    "        eigenvalues -- array of eigen values of A\n",
    "    '''\n",
    "    A = la.hessenberg(A)\n",
    "    S = A\n",
    "    for i in xrange(niter):\n",
    "        Q, R = la.qr(S)\n",
    "        S = np.dot(R,Q)\n",
    "    evals = []\n",
    "    if S[1,0] < tol:\n",
    "        evals.append(S[0,0])\n",
    "    elif S[1,0] >= tol:\n",
    "        a = S[0,0]\n",
    "        b = S[1,0]\n",
    "        c = S[0,1]\n",
    "        d = S[1,1]\n",
    "        e1 = (a+d+cmath.sqrt(a**2-2*a*d+d**2+4*b*c))/2.0\n",
    "        e2 = (a+d-cmath.sqrt(a**2-2*a*d+d**2+4*b*c))/2.0\n",
    "        evals.extend([e1,e2])\n",
    "    for i in xrange(1, A.shape[0]):\n",
    "        if i == A.shape[0]-1:\n",
    "            evals.append(S[i,i])        \n",
    "        elif S[i,i-1] > tol and i > 0:\n",
    "            pass\n",
    "        elif S[i+1,i] < tol:\n",
    "            evals.append(S[i,i])\n",
    "        elif S[i+1,i] >= tol:\n",
    "            a = S[i,i]\n",
    "            b = S[i+1,i]\n",
    "            c = S[i,i+1]\n",
    "            d = S[i+1,i+1]\n",
    "            e1 = (a+d+cmath.sqrt(a**2-2*a*d+d**2+4*b*c))/2.0\n",
    "            e2 = (a+d-cmath.sqrt(a**2-2*a*d+d**2+4*b*c))/2.0\n",
    "            evals.extend([e1,e2])\n",
    "    return evals\n",
    "            \n",
    "    \n",
    "def problem3():\n",
    "    '''\n",
    "    Print your answers\n",
    "    '''\n",
    "    # Answer to q.1\n",
    "    third_shot_prob = '0.671875'\n",
    "    print third_shot_prob\n",
    "    \n",
    "    # Answer to q.2\n",
    "    avg_free_throws = '0.66666667'\n",
    "    print avg_free_throws\n",
    "    \n",
    "\n",
    "def markov(transitions, initial_state, niter):\n",
    "    '''\n",
    "    You must write this method.\n",
    "    Given a transition matrix, calculate the state after a number of \n",
    "    iterations using Markov chains, and the unique stable fixed point.\n",
    "    Inputs:\n",
    "        transitions -- a transition matrix (all positive values)\n",
    "        initial_state -- vector of the initial state\n",
    "        niter -- number of iterations\n",
    "    Returns:\n",
    "        cur_state -- the current state\n",
    "        stable_fixed_point -- the stable fixed point of the matrix\n",
    "    '''\n",
    "    pass\n"
   ]
  },
  {
   "cell_type": "code",
   "execution_count": 1,
   "metadata": {
    "collapsed": false
   },
   "outputs": [],
   "source": []
  },
  {
   "cell_type": "code",
   "execution_count": 4,
   "metadata": {
    "collapsed": false
   },
   "outputs": [
    {
     "ename": "AttributeError",
     "evalue": "'list' object has no attribute 'shape'",
     "output_type": "error",
     "traceback": [
      "\u001b[1;31m---------------------------------------------------------------------------\u001b[0m\n\u001b[1;31mAttributeError\u001b[0m                            Traceback (most recent call last)",
      "\u001b[1;32m<ipython-input-4-df8790fca39b>\u001b[0m in \u001b[0;36m<module>\u001b[1;34m()\u001b[0m\n\u001b[1;32m----> 1\u001b[1;33m \u001b[0mpower_method\u001b[0m\u001b[1;33m(\u001b[0m\u001b[0mA\u001b[0m\u001b[1;33m)\u001b[0m\u001b[1;33m\u001b[0m\u001b[0m\n\u001b[0m",
      "\u001b[1;32m<ipython-input-3-35b70ae95890>\u001b[0m in \u001b[0;36mpower_method\u001b[1;34m(A, tol)\u001b[0m\n\u001b[0;32m     19\u001b[0m \u001b[1;33m\u001b[0m\u001b[0m\n\u001b[0;32m     20\u001b[0m     '''\n\u001b[1;32m---> 21\u001b[1;33m     \u001b[0mx_0\u001b[0m \u001b[1;33m=\u001b[0m \u001b[0mnp\u001b[0m\u001b[1;33m.\u001b[0m\u001b[0mrandom\u001b[0m\u001b[1;33m.\u001b[0m\u001b[0mrand\u001b[0m\u001b[1;33m(\u001b[0m\u001b[0mA\u001b[0m\u001b[1;33m.\u001b[0m\u001b[0mshape\u001b[0m\u001b[1;33m[\u001b[0m\u001b[1;36m1\u001b[0m\u001b[1;33m]\u001b[0m\u001b[1;33m)\u001b[0m\u001b[1;33m\u001b[0m\u001b[0m\n\u001b[0m\u001b[0;32m     22\u001b[0m     \u001b[0mx_0\u001b[0m \u001b[1;33m=\u001b[0m \u001b[0mx_0\u001b[0m\u001b[1;33m/\u001b[0m\u001b[0mla\u001b[0m\u001b[1;33m.\u001b[0m\u001b[0mnorm\u001b[0m\u001b[1;33m(\u001b[0m\u001b[0mx_0\u001b[0m\u001b[1;33m)\u001b[0m\u001b[1;33m\u001b[0m\u001b[0m\n\u001b[0;32m     23\u001b[0m     \u001b[0mx\u001b[0m \u001b[1;33m=\u001b[0m \u001b[0mx_0\u001b[0m\u001b[1;33m\u001b[0m\u001b[0m\n",
      "\u001b[1;31mAttributeError\u001b[0m: 'list' object has no attribute 'shape'"
     ]
    }
   ],
   "source": []
  },
  {
   "cell_type": "code",
   "execution_count": null,
   "metadata": {
    "collapsed": false
   },
   "outputs": [],
   "source": []
  }
 ],
 "metadata": {
  "kernelspec": {
   "display_name": "Python 2",
   "language": "python",
   "name": "python2"
  },
  "language_info": {
   "codemirror_mode": {
    "name": "ipython",
    "version": 2
   },
   "file_extension": ".py",
   "mimetype": "text/x-python",
   "name": "python",
   "nbconvert_exporter": "python",
   "pygments_lexer": "ipython2",
   "version": "2.7.13"
  }
 },
 "nbformat": 4,
 "nbformat_minor": 0
}
