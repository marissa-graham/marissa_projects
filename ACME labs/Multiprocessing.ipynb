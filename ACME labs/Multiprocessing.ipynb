{
 "metadata": {
  "name": "",
  "signature": "sha256:892e5ebb6ae8defb79ba9401dd54fae25932cba3fc5532283209f58b7a1862d8"
 },
 "nbformat": 3,
 "nbformat_minor": 0,
 "worksheets": [
  {
   "cells": [
    {
     "cell_type": "code",
     "collapsed": false,
     "input": [
      "from mpi4py import MPI\n",
      "\n",
      "# Problem 1\n",
      "\"\"\"Most modern personal computers now have multicore processors.\n",
      "In order to take advantage of the extra available computational power,\n",
      "a single program must be specially designed. Programs that are designed for\n",
      "these multicore processors are also \u201cparallel\u201d programs, typically written using\n",
      "POSIX threads or OpenMP. MPI, on the other hand, is designed with a\n",
      "different kind of architecture in mind. How does the architecture of a system\n",
      "for which MPI is designed differ what POSIX threads or OpenMP is designed\n",
      "for? What is the difference between MPI and OpenMP or Pthreads?\n",
      "\"\"\"\n",
      "\n",
      "COMM = MPI.COMM_WORLD\n",
      "RANK = COMM.Get_rank()\n",
      "\n",
      "print \"Hello world! I'm process number {}.\".format(RANK)"
     ],
     "language": "python",
     "metadata": {},
     "outputs": [
      {
       "ename": "ImportError",
       "evalue": "DLL load failed: The specified module could not be found.",
       "output_type": "pyerr",
       "traceback": [
        "\u001b[1;31m---------------------------------------------------------------------------\u001b[0m\n\u001b[1;31mImportError\u001b[0m                               Traceback (most recent call last)",
        "\u001b[1;32m<ipython-input-2-09f874ab693d>\u001b[0m in \u001b[0;36m<module>\u001b[1;34m()\u001b[0m\n\u001b[1;32m----> 1\u001b[1;33m \u001b[1;32mfrom\u001b[0m \u001b[0mmpi4py\u001b[0m \u001b[1;32mimport\u001b[0m \u001b[0mMPI\u001b[0m\u001b[1;33m\u001b[0m\u001b[0m\n\u001b[0m\u001b[0;32m      2\u001b[0m \u001b[1;33m\u001b[0m\u001b[0m\n\u001b[0;32m      3\u001b[0m \u001b[1;31m# Problem 1\u001b[0m\u001b[1;33m\u001b[0m\u001b[1;33m\u001b[0m\u001b[0m\n\u001b[0;32m      4\u001b[0m \"\"\"Most modern personal computers now have multicore processors.\n\u001b[0;32m      5\u001b[0m \u001b[0mIn\u001b[0m \u001b[0morder\u001b[0m \u001b[0mto\u001b[0m \u001b[0mtake\u001b[0m \u001b[0madvantage\u001b[0m \u001b[0mof\u001b[0m \u001b[0mthe\u001b[0m \u001b[0mextra\u001b[0m \u001b[0mavailable\u001b[0m \u001b[0mcomputational\u001b[0m \u001b[0mpower\u001b[0m\u001b[1;33m,\u001b[0m\u001b[1;33m\u001b[0m\u001b[0m\n",
        "\u001b[1;31mImportError\u001b[0m: DLL load failed: The specified module could not be found."
       ]
      }
     ],
     "prompt_number": 2
    },
    {
     "cell_type": "code",
     "collapsed": false,
     "input": [],
     "language": "python",
     "metadata": {},
     "outputs": []
    }
   ],
   "metadata": {}
  }
 ]
}