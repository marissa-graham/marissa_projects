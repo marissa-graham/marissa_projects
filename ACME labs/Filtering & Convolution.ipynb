{
 "metadata": {
  "name": "",
  "signature": "sha256:d7e0ee6cf6bf5416cc657710f550dcd5d4324f4161dc5c583f9ebd1fe834cee9"
 },
 "nbformat": 3,
 "nbformat_minor": 0,
 "worksheets": [
  {
   "cells": [
    {
     "cell_type": "code",
     "collapsed": false,
     "input": [
      "import numpy as np\n",
      "from scipy.io import wavfile\n",
      "import scipy as sp\n",
      "from matplotlib import pyplot as plt\n",
      "%matplotlib inline\n",
      "\n",
      "def problem1():\n",
      "    rate, data = wavfile.read('Noisysignal1.wav')\n",
      "    fsig = sp.fft(data, axis=0)\n",
      "    plt.plot(fsig[:30000])\n",
      "    plt.show()\n",
      "    for j in xrange(10000, 25000):\n",
      "        fsig[j] = 0\n",
      "        fsig[-j] = 0\n",
      "    newsig = sp.ifft(fsig)\n",
      "    newsig = sp.real(newsig)\n",
      "    newsig = sp.int16(newsig / sp.absolute(newsig).max() * 32767)\n",
      "    wavfile.write('Cleanedsignal1.wav', rate, newsig)\n",
      "    print 'So first of all, let me assert my firm belief that the only thing we have to fear is fear itself'\n",
      "    print 'Franklin D. Roosevelt, First Inaugaration'\n",
      "    print 'Some of the recording was a difficult to parse, but it was recognizable and Googling reaffirmed what the words actually were'\n",
      "\n",
      "def problem3():\n",
      "    p_rate, piano = wavfile.read('chopinw.wav')\n",
      "    b_rate, balloon = wavfile.read('balloon.wav')\n",
      "\n",
      "    piano = piano[:,0]\n",
      "    balloon = balloon[:,0]\n",
      "\n",
      "    padp = np.zeros(balloon.shape[0])\n",
      "    padb = np.zeros(piano.shape[0])\n",
      "    piano = np.append(piano, padp)\n",
      "    balloon = np.append(balloon, padb)\n",
      "\n",
      "    fpiano = sp.fft(piano)\n",
      "    fballoon = sp.fft(balloon)\n",
      "\n",
      "    fboth = fpiano*fballoon\n",
      "    both = sp.ifft(fboth)\n",
      "    both = sp.real(both)\n",
      "    both = sp.int16(both / sp.absolute(both).max() * 32767)\n",
      "\n",
      "    wavfile.write('echochopin.wav', p_rate, both)\n",
      "    \n",
      "def problem4():\n",
      "    samplerate = 22050\n",
      "    noise = sp.int16(sp.random.randint(-32767,32767, samplerate * 10))\n",
      "    wavfile.write('justnoise.wav', samplerate, noise)\n",
      "    fnoise = sp.fft(noise)\n",
      "    plt.plot(sp.absolute(fnoise))\n",
      "    plt.show()\n",
      "    \n",
      "problem3()"
     ],
     "language": "python",
     "metadata": {},
     "outputs": [],
     "prompt_number": 2
    },
    {
     "cell_type": "code",
     "collapsed": false,
     "input": [],
     "language": "python",
     "metadata": {},
     "outputs": [],
     "prompt_number": 8
    }
   ],
   "metadata": {}
  }
 ]
}