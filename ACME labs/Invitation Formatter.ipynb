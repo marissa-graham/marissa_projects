{
 "cells": [
  {
   "cell_type": "code",
   "execution_count": 22,
   "metadata": {
    "collapsed": false
   },
   "outputs": [
    {
     "name": "stdout",
     "output_type": "stream",
     "text": [
      "Done!\n"
     ]
    }
   ],
   "source": [
    "import csv\n",
    "\n",
    "names = []\n",
    "addresses = []\n",
    "citystatezips = []\n",
    "people = []\n",
    "with open('responses.csv') as mylist:\n",
    "    for line in mylist:\n",
    "        people.append(line.strip())\n",
    "        \n",
    "for i in xrange(0, len(people)-3, 3):\n",
    "    if len(people[i]) < 4:\n",
    "        people.pop(i)\n",
    "    names.append(people[i])\n",
    "    addresses.append(people[i+1])\n",
    "    citystatezips.append(people[i+2])\n",
    "    \n",
    "for i in xrange(len(names)):\n",
    "    citystatezips[i] = citystatezips[i].replace('Utah', 'UT')\n",
    "    names[i] = names[i].replace('\"','')\n",
    "    names[i] = names[i].replace('family', 'Family')\n",
    "    addresses[i] = addresses[i].replace('Dr', 'Drive')\n",
    "    addresses[i] = addresses[i].replace('Driveive', 'Drive')\n",
    "    addresses[i] = addresses[i].replace('Cir', 'Circle')\n",
    "    addresses[i] = addresses[i].replace('Circlecle', 'Circle')\n",
    "    addresses[i] = addresses[i].replace('Ct', 'Court')\n",
    "    addresses[i] = addresses[i].replace('.','')\n",
    "    addresses[i] = addresses[i].replace('Rd','Road')\n",
    "    addresses[i] = addresses[i].replace('Ln','Lane')\n",
    "    addresses[i] = addresses[i].replace(' W ',' West ')\n",
    "    addresses[i] = addresses[i].replace(' E ',' East ')\n",
    "    addresses[i] = addresses[i].replace(' N ',' North ')\n",
    "    addresses[i] = addresses[i].replace(' S ',' South ')\n",
    "    if addresses[i][-1] == 'W':\n",
    "        addresses[i] = addresses[i][:-1] + 'West'\n",
    "    if addresses[i][-1] == 'S':\n",
    "        addresses[i] = addresses[i][:-1] + 'South'\n",
    "    if addresses[i][-1] == 'E':\n",
    "        addresses[i] = addresses[i][:-1] + 'East'\n",
    "    if addresses[i][-1] == 'N':\n",
    "        addresses[i] = addresses[i][:-1] + 'North'\n",
    "    addresses[i] = addresses[i].replace('Sgate', 'Southgate')\n",
    "    addresses[i] = addresses[i].replace('St','Street')\n",
    "    addresses[i] = addresses[i].replace('Streetreet', 'Street')\n",
    "    addresses[i] = addresses[i].replace('Streetate', 'State')\n",
    "    addresses[i] = addresses[i].replace('Streetonewood', 'Stonewood')\n",
    "    addresses[i] = addresses[i].replace('Ct','Court')\n",
    "    addresses[i] = addresses[i].replace(' w ', ' West ')\n",
    "    addresses[i] = addresses[i].replace(' s', ' South ')\n",
    "    addresses[i] = addresses[i].replace(' n ', ' North ')\n",
    "    addresses[i] = addresses[i].replace(' e ', ' East ')\n",
    "    addresses[i] = addresses[i].replace('P O', 'P.O.')\n",
    "    citystatezips[i] = citystatezips[i].replace('\"','')\n",
    "    citystatezips[i] = citystatezips[i].replace(',','')\n",
    "    citystatezips[i] = citystatezips[i].replace('.','')\n",
    "    citystatezips[i] = citystatezips[i].replace('  ',' ')\n",
    "\n",
    "cities = []\n",
    "states = []\n",
    "zips = []\n",
    "for i in xrange(len(citystatezips)):\n",
    "    states.append(citystatezips[i][-9:-6])\n",
    "    states[i] = states[i].replace(' ','')\n",
    "    zips.append(citystatezips[i][-6:])\n",
    "    zips[i] = zips[i].replace(' ','')\n",
    "    cities.append(citystatezips[i][0:-9])\n",
    "    if cities[i][-1] == ' ':\n",
    "        cities[i] = cities[i][0:-1]\n",
    "\n",
    "with open('Invitation Addresses.csv','w') as output:\n",
    "    outwriter = csv.writer(output, lineterminator = '\\n')\n",
    "    for i in xrange(len(zips)):\n",
    "        outwriter.writerow([names[i], addresses[i], cities[i], states[i], zips[i]])\n",
    "    print 'Done!'\n"
   ]
  },
  {
   "cell_type": "code",
   "execution_count": null,
   "metadata": {
    "collapsed": false
   },
   "outputs": [],
   "source": []
  }
 ],
 "metadata": {
  "kernelspec": {
   "display_name": "Python 2",
   "language": "python",
   "name": "python2"
  },
  "language_info": {
   "codemirror_mode": {
    "name": "ipython",
    "version": 2
   },
   "file_extension": ".py",
   "mimetype": "text/x-python",
   "name": "python",
   "nbconvert_exporter": "python",
   "pygments_lexer": "ipython2",
   "version": "2.7.6"
  }
 },
 "nbformat": 4,
 "nbformat_minor": 0
}
