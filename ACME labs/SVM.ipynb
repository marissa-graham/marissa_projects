{
 "cells": [
  {
   "cell_type": "code",
   "execution_count": 20,
   "metadata": {
    "collapsed": false
   },
   "outputs": [
    {
     "ename": "ImportError",
     "evalue": "No module named base",
     "output_type": "error",
     "traceback": [
      "\u001b[1;31m---------------------------------------------------------------------------\u001b[0m",
      "\u001b[1;31mImportError\u001b[0m                               Traceback (most recent call last)",
      "\u001b[1;32m<ipython-input-20-caeddd5ac140>\u001b[0m in \u001b[0;36m<module>\u001b[1;34m()\u001b[0m\n\u001b[0;32m      4\u001b[0m \u001b[1;32mfrom\u001b[0m \u001b[0mscipy\u001b[0m\u001b[1;33m.\u001b[0m\u001b[0mstats\u001b[0m \u001b[1;32mimport\u001b[0m \u001b[0mmode\u001b[0m\u001b[1;33m\u001b[0m\u001b[0m\n\u001b[0;32m      5\u001b[0m \u001b[1;32mfrom\u001b[0m \u001b[0mscipy\u001b[0m \u001b[1;32mimport\u001b[0m \u001b[0mlinalg\u001b[0m \u001b[1;32mas\u001b[0m \u001b[0mla\u001b[0m\u001b[1;33m\u001b[0m\u001b[0m\n\u001b[1;32m----> 6\u001b[1;33m \u001b[1;32mfrom\u001b[0m \u001b[0mcvxopt\u001b[0m \u001b[1;32mimport\u001b[0m \u001b[0mmatrix\u001b[0m\u001b[1;33m\u001b[0m\u001b[0m\n\u001b[0m\u001b[0;32m      7\u001b[0m \u001b[1;32mimport\u001b[0m \u001b[0mnumpy\u001b[0m \u001b[1;32mas\u001b[0m \u001b[0mnp\u001b[0m\u001b[1;33m\u001b[0m\u001b[0m\n\u001b[0;32m      8\u001b[0m \u001b[1;32mimport\u001b[0m \u001b[0mpandas\u001b[0m \u001b[1;32mas\u001b[0m \u001b[0mpd\u001b[0m\u001b[1;33m\u001b[0m\u001b[0m\n",
      "\u001b[1;32mC:\\Anaconda\\lib\\site-packages\\cvxopt\\__init__.py\u001b[0m in \u001b[0;36m<module>\u001b[1;34m()\u001b[0m\n\u001b[0;32m     30\u001b[0m \u001b[1;31m# You should have received a copy of the GNU General Public License\u001b[0m\u001b[1;33m\u001b[0m\u001b[1;33m\u001b[0m\u001b[0m\n\u001b[0;32m     31\u001b[0m \u001b[1;33m\u001b[0m\u001b[0m\n\u001b[1;32m---> 32\u001b[1;33m \u001b[1;32mimport\u001b[0m \u001b[0mcvxopt\u001b[0m\u001b[1;33m.\u001b[0m\u001b[0mbase\u001b[0m\u001b[1;33m\u001b[0m\u001b[0m\n\u001b[0m\u001b[0;32m     33\u001b[0m \u001b[1;33m\u001b[0m\u001b[0m\n\u001b[0;32m     34\u001b[0m \u001b[1;32mdef\u001b[0m \u001b[0mnormal\u001b[0m\u001b[1;33m(\u001b[0m\u001b[0mnrows\u001b[0m\u001b[1;33m,\u001b[0m \u001b[0mncols\u001b[0m\u001b[1;33m=\u001b[0m\u001b[1;36m1\u001b[0m\u001b[1;33m,\u001b[0m \u001b[0mmean\u001b[0m\u001b[1;33m=\u001b[0m\u001b[1;36m0.0\u001b[0m\u001b[1;33m,\u001b[0m \u001b[0mstd\u001b[0m\u001b[1;33m=\u001b[0m\u001b[1;36m1.0\u001b[0m\u001b[1;33m)\u001b[0m\u001b[1;33m:\u001b[0m\u001b[1;33m\u001b[0m\u001b[0m\n",
      "\u001b[1;31mImportError\u001b[0m: No module named base"
     ]
    }
   ],
   "source": [
    "from __future__ import division\n",
    "from matplotlib import pyplot as plt\n",
    "from sklearn import datasets\n",
    "from scipy.stats import mode\n",
    "from scipy import linalg as la\n",
    "import numpy as np\n",
    "import pandas as pd\n",
    "import numpy as np\n",
    "%matplotlib inline"
   ]
  },
  {
   "cell_type": "code",
   "execution_count": 15,
   "metadata": {
    "collapsed": false
   },
   "outputs": [
    {
     "data": {
      "image/png": "[encoded data removed]",
      "text/plain": [
       "<matplotlib.figure.Figure at 0x9138748>"
      ]
     },
     "metadata": {},
     "output_type": "display_data"
    },
    {
     "name": "stdout",
     "output_type": "stream",
     "text": [
      "Average accuracy:  86.2962962963 %\n"
     ]
    }
   ],
   "source": [
    "class KNN(object):\n",
    "    \"\"\"\n",
    "    A class which accepts initial training data and labels. Includes\n",
    "    the following methods:\n",
    "    \n",
    "    -A method to classify new samples given a k value.\n",
    "    -A method to compute the k-neighborhood of a sample x given k\n",
    "        and a training set.\n",
    "    -A function that labels a new sample x given k and a training set.\n",
    "    \"\"\"\n",
    "    \n",
    "    def __init__(self, data, labels, k):\n",
    "        self.data = data\n",
    "        self.labels = np.array(labels)\n",
    "        self.k = k\n",
    "        \n",
    "    @staticmethod\n",
    "    def metric(x,y):\n",
    "        return la.norm(x-y,ord=2)\n",
    "    \n",
    "    def classify(self, point, add=False):\n",
    "        d = {self.metric(x,point): i for i,x in enumerate(self.data)}\n",
    "        indices = np.array([d[i] for i in sorted(d.keys())[:self.k]])\n",
    "        return mode(self.labels[indices])[0][0]\n",
    "    \n",
    "    def accuracy(self, points, labels):\n",
    "        return 100*np.mean(np.array([self.classify(point) for point in points]) == np.array(labels))\n",
    "    \n",
    "\n",
    "# Iris dataset demonstration\n",
    "iris = datasets.load_iris()\n",
    "n = len(iris['target'])\n",
    "index = np.arange(n)\n",
    "\n",
    "test_index = sorted(np.random.choice(index, int(n*.4),replace=False))\n",
    "train_index = np.array([i for i in index if i not in test_index])\n",
    "\n",
    "train_data = iris['data'][train_index]\n",
    "test_data = iris['data'][test_index]\n",
    "\n",
    "train_labels = iris['target'][train_index]\n",
    "test_labels = iris['target'][test_index]\n",
    "\n",
    "ks = np.arange(81)\n",
    "accuracies = np.zeros(81)\n",
    "accuracies[0] = 100\n",
    "for k in xrange(1,81):\n",
    "    knn = KNN(train_data, train_labels, k)\n",
    "    accuracies[k] = knn.accuracy(test_data, test_labels)\n",
    "    \n",
    "plt.plot(ks, accuracies)\n",
    "plt.xlabel('k')\n",
    "plt.ylabel('Accuracy (%)')\n",
    "plt.show()\n",
    "\n",
    "print 'Average accuracy: ', np.mean(accuracies), '%'"
   ]
  },
  {
   "cell_type": "code",
   "execution_count": 21,
   "metadata": {
    "collapsed": false
   },
   "outputs": [
    {
     "name": "stdout",
     "output_type": "stream",
     "text": [
      "Was unable to get cvxopt to work on my laptop. Works on the lab computers though.\n"
     ]
    }
   ],
   "source": [
    "class SVM(object):\n",
    "    \"\"\"\n",
    "    SVM class which accepts a training data set and target set.\n",
    "    \n",
    "    Methods:\n",
    "    setKernel: accepts one of the three kernel types and defines a kernel\n",
    "        function for the object.\n",
    "    fit: a method which trains the classifier.\n",
    "    predict: a method which predicts the class of a new sample.\n",
    "    \"\"\"\n",
    "    def setKernel(self,kind,a=0,d=2,gamma=.5,r=0):\n",
    "        if kind == \"poly\":\n",
    "            self.kernel = lambda x,y: (np.dot(x,y)+a)**d\n",
    "        elif kind == \"RBF\":\n",
    "            self.kernel = lambda x,y: np.exp(-1*gamma*la.norm(x-y)**2)\n",
    "        elif kind == \"sigmoid\":\n",
    "            self.kernel = lambda x,y: np.tanh(np.dot(x,y)+r)\n",
    "\n",
    "    def fit(self,data,labels):\n",
    "        n = data.shape[0]\n",
    "        K = np.array([[self.kernel(data[i], data[j]) for j in xrange(n)] for i in xrange(n)])\n",
    "        P = matrix(np.outer(labels, labels)*K)\n",
    "        q = matrix(np.ones(n)*-1)\n",
    "        A = matrix(labels, (1, n))\n",
    "        b = matrix(0)\n",
    "        G = matrix(np.diag(np.ones(n)*-1))\n",
    "        h = matrix(np.zeros(n))\n",
    "        \n",
    "        sol = solvers.qp(P,q,G,h,A,b)\n",
    "        self.a = np.ravel(sol['x'])\n",
    "        self.data = np.array(data)\n",
    "        self.labels = np.array(labels)\n",
    "        \n",
    "    def predict(self,sample):\n",
    "        f = np.dot(self.labels*self.a, np.array([self.kernel(sample, x) for x in self.data]))\n",
    "        return 1 if f > 0 else -1\n",
    "        \n",
    "    def accuracy(self,data,labels):\n",
    "        return 100*np.mean(np.array([self.predict(x) for x in data]) == np.array(labels))\n",
    "    \n",
    "print \"Was unable to get cvxopt to work on my laptop. Works on the lab computers though.\""
   ]
  },
  {
   "cell_type": "code",
   "execution_count": 22,
   "metadata": {
    "collapsed": false
   },
   "outputs": [
    {
     "ename": "NameError",
     "evalue": "global name 'matrix' is not defined",
     "output_type": "error",
     "traceback": [
      "\u001b[1;31m---------------------------------------------------------------------------\u001b[0m",
      "\u001b[1;31mNameError\u001b[0m                                 Traceback (most recent call last)",
      "\u001b[1;32m<ipython-input-22-69cbc8857fe3>\u001b[0m in \u001b[0;36m<module>\u001b[1;34m()\u001b[0m\n\u001b[0;32m     22\u001b[0m \u001b[1;32mfor\u001b[0m \u001b[0mx\u001b[0m \u001b[1;32min\u001b[0m \u001b[1;33m[\u001b[0m\u001b[1;34m\"poly\"\u001b[0m\u001b[1;33m,\u001b[0m \u001b[1;34m\"RBF\"\u001b[0m\u001b[1;33m,\u001b[0m \u001b[1;34m\"sigmoid\"\u001b[0m\u001b[1;33m]\u001b[0m\u001b[1;33m:\u001b[0m\u001b[1;33m\u001b[0m\u001b[0m\n\u001b[0;32m     23\u001b[0m     \u001b[0msvm\u001b[0m\u001b[1;33m.\u001b[0m\u001b[0msetKernel\u001b[0m\u001b[1;33m(\u001b[0m\u001b[0mx\u001b[0m\u001b[1;33m)\u001b[0m\u001b[1;33m\u001b[0m\u001b[0m\n\u001b[1;32m---> 24\u001b[1;33m     \u001b[0msvm\u001b[0m\u001b[1;33m.\u001b[0m\u001b[0mfit\u001b[0m\u001b[1;33m(\u001b[0m\u001b[0mtrain_data\u001b[0m\u001b[1;33m,\u001b[0m \u001b[0mtrain_labels\u001b[0m\u001b[1;33m)\u001b[0m\u001b[1;33m\u001b[0m\u001b[0m\n\u001b[0m\u001b[0;32m     25\u001b[0m     \u001b[0mPA\u001b[0m \u001b[1;33m=\u001b[0m \u001b[0msvm\u001b[0m\u001b[1;33m.\u001b[0m\u001b[0maccuracy\u001b[0m\u001b[1;33m(\u001b[0m\u001b[0mtest_data\u001b[0m\u001b[1;33m,\u001b[0m \u001b[0mtest_labels\u001b[0m\u001b[1;33m)\u001b[0m\u001b[1;33m\u001b[0m\u001b[0m\n\u001b[0;32m     26\u001b[0m     \u001b[1;32mprint\u001b[0m \u001b[1;34m\"Kernel Method: {}\\tAccuracy: {}%\"\u001b[0m\u001b[1;33m.\u001b[0m\u001b[0mformat\u001b[0m\u001b[1;33m(\u001b[0m\u001b[0mx\u001b[0m\u001b[1;33m,\u001b[0m \u001b[0mPA\u001b[0m\u001b[1;33m)\u001b[0m\u001b[1;33m\u001b[0m\u001b[0m\n",
      "\u001b[1;32m<ipython-input-21-a1be1e0ba851>\u001b[0m in \u001b[0;36mfit\u001b[1;34m(self, data, labels)\u001b[0m\n\u001b[0;32m     20\u001b[0m         \u001b[0mn\u001b[0m \u001b[1;33m=\u001b[0m \u001b[0mdata\u001b[0m\u001b[1;33m.\u001b[0m\u001b[0mshape\u001b[0m\u001b[1;33m[\u001b[0m\u001b[1;36m0\u001b[0m\u001b[1;33m]\u001b[0m\u001b[1;33m\u001b[0m\u001b[0m\n\u001b[0;32m     21\u001b[0m         \u001b[0mK\u001b[0m \u001b[1;33m=\u001b[0m \u001b[0mnp\u001b[0m\u001b[1;33m.\u001b[0m\u001b[0marray\u001b[0m\u001b[1;33m(\u001b[0m\u001b[1;33m[\u001b[0m\u001b[1;33m[\u001b[0m\u001b[0mself\u001b[0m\u001b[1;33m.\u001b[0m\u001b[0mkernel\u001b[0m\u001b[1;33m(\u001b[0m\u001b[0mdata\u001b[0m\u001b[1;33m[\u001b[0m\u001b[0mi\u001b[0m\u001b[1;33m]\u001b[0m\u001b[1;33m,\u001b[0m \u001b[0mdata\u001b[0m\u001b[1;33m[\u001b[0m\u001b[0mj\u001b[0m\u001b[1;33m]\u001b[0m\u001b[1;33m)\u001b[0m \u001b[1;32mfor\u001b[0m \u001b[0mj\u001b[0m \u001b[1;32min\u001b[0m \u001b[0mxrange\u001b[0m\u001b[1;33m(\u001b[0m\u001b[0mn\u001b[0m\u001b[1;33m)\u001b[0m\u001b[1;33m]\u001b[0m \u001b[1;32mfor\u001b[0m \u001b[0mi\u001b[0m \u001b[1;32min\u001b[0m \u001b[0mxrange\u001b[0m\u001b[1;33m(\u001b[0m\u001b[0mn\u001b[0m\u001b[1;33m)\u001b[0m\u001b[1;33m]\u001b[0m\u001b[1;33m)\u001b[0m\u001b[1;33m\u001b[0m\u001b[0m\n\u001b[1;32m---> 22\u001b[1;33m         \u001b[0mP\u001b[0m \u001b[1;33m=\u001b[0m \u001b[0mmatrix\u001b[0m\u001b[1;33m(\u001b[0m\u001b[0mnp\u001b[0m\u001b[1;33m.\u001b[0m\u001b[0mouter\u001b[0m\u001b[1;33m(\u001b[0m\u001b[0mlabels\u001b[0m\u001b[1;33m,\u001b[0m \u001b[0mlabels\u001b[0m\u001b[1;33m)\u001b[0m\u001b[1;33m*\u001b[0m\u001b[0mK\u001b[0m\u001b[1;33m)\u001b[0m\u001b[1;33m\u001b[0m\u001b[0m\n\u001b[0m\u001b[0;32m     23\u001b[0m         \u001b[0mq\u001b[0m \u001b[1;33m=\u001b[0m \u001b[0mmatrix\u001b[0m\u001b[1;33m(\u001b[0m\u001b[0mnp\u001b[0m\u001b[1;33m.\u001b[0m\u001b[0mones\u001b[0m\u001b[1;33m(\u001b[0m\u001b[0mn\u001b[0m\u001b[1;33m)\u001b[0m\u001b[1;33m*\u001b[0m\u001b[1;33m-\u001b[0m\u001b[1;36m1\u001b[0m\u001b[1;33m)\u001b[0m\u001b[1;33m\u001b[0m\u001b[0m\n\u001b[0;32m     24\u001b[0m         \u001b[0mA\u001b[0m \u001b[1;33m=\u001b[0m \u001b[0mmatrix\u001b[0m\u001b[1;33m(\u001b[0m\u001b[0mlabels\u001b[0m\u001b[1;33m,\u001b[0m \u001b[1;33m(\u001b[0m\u001b[1;36m1\u001b[0m\u001b[1;33m,\u001b[0m \u001b[0mn\u001b[0m\u001b[1;33m)\u001b[0m\u001b[1;33m)\u001b[0m\u001b[1;33m\u001b[0m\u001b[0m\n",
      "\u001b[1;31mNameError\u001b[0m: global name 'matrix' is not defined"
     ]
    }
   ],
   "source": [
    "cancer = pd.read_csv(\"cancer.csv\",index_col=0)\n",
    "cancer = cancer.loc[cancer[\"bare-nuclei\"] != \"?\"]\n",
    "\n",
    "# For partitioning the data 60/40 training/testing\n",
    "def partition():\n",
    "    \n",
    "    test = np.random.choice(cancer.index, int(.4*len(cancer.index)), replace=False)\n",
    "    train = [i for i in cancer.index if i not in test]\n",
    "\n",
    "    train_data = np.array(cancer.loc[train].drop(\"cancerous\", axis=1), dtype=np.float)\n",
    "    train_labels = np.array(cancer.loc[train][\"cancerous\"], dtype=np.float)\n",
    "\n",
    "    test_data = np.array(cancer.loc[test].drop(\"cancerous\", axis=1), dtype=np.float)\n",
    "    test_labels = np.array(cancer.loc[test][\"cancerous\"], dtype=np.float)\n",
    "    \n",
    "    return train_data, train_labels, test_data, test_labels\n",
    "\n",
    "\n",
    "# Train SVM\n",
    "svm = SVM()\n",
    "train_data, train_labels, test_data, test_labels = partition()\n",
    "for x in [\"poly\", \"RBF\", \"sigmoid\"]:\n",
    "    svm.setKernel(x)\n",
    "    svm.fit(train_data, train_labels)\n",
    "    PA = svm.accuracy(test_data, test_labels)\n",
    "    print \"Kernel Method: {}\\tAccuracy: {}%\".format(x, PA)"
   ]
  },
  {
   "cell_type": "code",
   "execution_count": null,
   "metadata": {
    "collapsed": true
   },
   "outputs": [],
   "source": []
  }
 ],
 "metadata": {
  "kernelspec": {
   "display_name": "Python 2",
   "language": "python",
   "name": "python2"
  },
  "language_info": {
   "codemirror_mode": {
    "name": "ipython",
    "version": 2
   },
   "file_extension": ".py",
   "mimetype": "text/x-python",
   "name": "python",
   "nbconvert_exporter": "python",
   "pygments_lexer": "ipython2",
   "version": "2.7.11"
  }
 },
 "nbformat": 4,
 "nbformat_minor": 0
}
