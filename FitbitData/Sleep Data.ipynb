{
 "cells": [
  {
   "cell_type": "code",
   "execution_count": 20,
   "metadata": {
    "collapsed": false
   },
   "outputs": [
    {
     "name": "stdout",
     "output_type": "stream",
     "text": [
      "Populating the interactive namespace from numpy and matplotlib\n"
     ]
    }
   ],
   "source": [
    "from __future__ import division\n",
    "import numpy as np\n",
    "import pandas as pd\n",
    "from matplotlib import pyplot as plt\n",
    "import seaborn\n",
    "%matplotlib inline\n",
    "%pylab inline\n",
    "\n",
    "pylab.rcParams['figure.figsize'] = (16.0, 8.0) # Control figure size \n",
    "percentify = lambda x: (x * 100).round(1).astype(str) + \"%\""
   ]
  },
  {
   "cell_type": "code",
   "execution_count": 10,
   "metadata": {
    "collapsed": false
   },
   "outputs": [
    {
     "name": "stdout",
     "output_type": "stream",
     "text": [
      "Logistically modeled deprivation scores:\n",
      "For  0 hrs: 100.0 %\n",
      "For  1 hrs: 93.0 %\n",
      "For  2 hrs: 83.0 %\n",
      "For  3 hrs: 70.0 %\n",
      "For  4 hrs: 54.0 %\n",
      "For  5 hrs: 38.0 %\n",
      "For  6 hrs: 23.0 %\n",
      "For  7 hrs: 10.0 %\n",
      "For  8 hrs: 0.0 %\n",
      "\n",
      "Logistic model plot:\n"
     ]
    },
    {
     "data": {
      "image/png": "[encoded data removed]",
      "text/plain": [
       "<matplotlib.figure.Figure at 0xddc7c88>"
      ]
     },
     "metadata": {},
     "output_type": "display_data"
    }
   ],
   "source": [
    "# Model the daily sleep below 8hrs as a comparison to all nighters\n",
    "\n",
    "def g(x):\n",
    "    val = (1+np.exp(0.5*(x-4)))**-1\n",
    "    return val**0.8\n",
    "\n",
    "def deprivation_score(x):\n",
    "    return (g(x) - g(8))/(g(0) - g(8))\n",
    "\n",
    "print \"Logistically modeled deprivation scores:\"\n",
    "for x in xrange(9):\n",
    "    logscore = deprivation_score(x)\n",
    "    print \"For \", x, \"hrs:\", 100*round(logscore,2), '%'\n",
    "\n",
    "print \"\\nLogistic model plot:\"\n",
    "domain = np.linspace(0,8,100)\n",
    "plt.plot(domain,deprivation_score(domain))\n",
    "plt.ylim([0,1])\n",
    "plt.show()"
   ]
  },
  {
   "cell_type": "code",
   "execution_count": 22,
   "metadata": {
    "collapsed": false,
    "scrolled": false
   },
   "outputs": [
    {
     "ename": "CParserError",
     "evalue": "Error tokenizing data. C error: Expected 4 fields in line 36, saw 9\n",
     "output_type": "error",
     "traceback": [
      "\u001b[0;31m---------------------------------------------------------------------------\u001b[0m",
      "\u001b[0;31mCParserError\u001b[0m                              Traceback (most recent call last)",
      "\u001b[0;32m<ipython-input-22-5ab317ea34a9>\u001b[0m in \u001b[0;36m<module>\u001b[0;34m()\u001b[0m\n\u001b[1;32m    120\u001b[0m \u001b[1;33m\u001b[0m\u001b[0m\n\u001b[1;32m    121\u001b[0m \u001b[0mmonth_names\u001b[0m \u001b[1;33m=\u001b[0m \u001b[0mget_months\u001b[0m\u001b[1;33m(\u001b[0m\u001b[1;36m10\u001b[0m\u001b[1;33m,\u001b[0m\u001b[1;36m2017\u001b[0m\u001b[1;33m)\u001b[0m\u001b[1;33m\u001b[0m\u001b[0m\n\u001b[0;32m--> 122\u001b[0;31m \u001b[0mplot_monthly\u001b[0m\u001b[1;33m(\u001b[0m\u001b[0mmonth_names\u001b[0m\u001b[1;33m)\u001b[0m\u001b[1;33m\u001b[0m\u001b[0m\n\u001b[0m",
      "\u001b[0;32m<ipython-input-22-5ab317ea34a9>\u001b[0m in \u001b[0;36mplot_monthly\u001b[0;34m(month_names)\u001b[0m\n\u001b[1;32m     73\u001b[0m \u001b[1;32mdef\u001b[0m \u001b[0mplot_monthly\u001b[0m\u001b[1;33m(\u001b[0m\u001b[0mmonth_names\u001b[0m\u001b[1;33m)\u001b[0m\u001b[1;33m:\u001b[0m\u001b[1;33m\u001b[0m\u001b[0m\n\u001b[1;32m     74\u001b[0m \u001b[1;33m\u001b[0m\u001b[0m\n\u001b[0;32m---> 75\u001b[0;31m     \u001b[0mdata\u001b[0m \u001b[1;33m=\u001b[0m \u001b[1;33m[\u001b[0m\u001b[0mload_month\u001b[0m\u001b[1;33m(\u001b[0m\u001b[0mmonth\u001b[0m\u001b[1;33m)\u001b[0m \u001b[1;32mfor\u001b[0m \u001b[0mmonth\u001b[0m \u001b[1;32min\u001b[0m \u001b[0mmonth_names\u001b[0m\u001b[1;33m]\u001b[0m\u001b[1;33m\u001b[0m\u001b[0m\n\u001b[0m\u001b[1;32m     76\u001b[0m     \u001b[0mmonths\u001b[0m \u001b[1;33m=\u001b[0m \u001b[1;33m[\u001b[0m\u001b[1;33m]\u001b[0m\u001b[1;33m\u001b[0m\u001b[0m\n\u001b[1;32m     77\u001b[0m     \u001b[1;32mfor\u001b[0m \u001b[0mi\u001b[0m \u001b[1;32min\u001b[0m \u001b[0mxrange\u001b[0m\u001b[1;33m(\u001b[0m\u001b[0mlen\u001b[0m\u001b[1;33m(\u001b[0m\u001b[0mmonth_names\u001b[0m\u001b[1;33m)\u001b[0m\u001b[1;33m)\u001b[0m\u001b[1;33m:\u001b[0m\u001b[1;33m\u001b[0m\u001b[0m\n",
      "\u001b[0;32m<ipython-input-22-5ab317ea34a9>\u001b[0m in \u001b[0;36mload_month\u001b[0;34m(filename)\u001b[0m\n\u001b[1;32m      2\u001b[0m \u001b[1;32mdef\u001b[0m \u001b[0mload_month\u001b[0m\u001b[1;33m(\u001b[0m\u001b[0mfilename\u001b[0m\u001b[1;33m)\u001b[0m\u001b[1;33m:\u001b[0m\u001b[1;33m\u001b[0m\u001b[0m\n\u001b[1;32m      3\u001b[0m \u001b[1;33m\u001b[0m\u001b[0m\n\u001b[0;32m----> 4\u001b[0;31m     \u001b[0mdata\u001b[0m \u001b[1;33m=\u001b[0m \u001b[0mpd\u001b[0m\u001b[1;33m.\u001b[0m\u001b[0mread_csv\u001b[0m\u001b[1;33m(\u001b[0m\u001b[0mfilename\u001b[0m\u001b[1;33m,\u001b[0m\u001b[0mskiprows\u001b[0m\u001b[1;33m=\u001b[0m\u001b[1;36m1\u001b[0m\u001b[1;33m)\u001b[0m\u001b[1;33m\u001b[0m\u001b[0m\n\u001b[0m\u001b[1;32m      5\u001b[0m     \u001b[0mdata\u001b[0m \u001b[1;33m=\u001b[0m \u001b[0mdata\u001b[0m\u001b[1;33m.\u001b[0m\u001b[0mloc\u001b[0m\u001b[1;33m[\u001b[0m\u001b[1;33m:\u001b[0m\u001b[1;33m,\u001b[0m\u001b[1;33m[\u001b[0m\u001b[1;34m'Start Time'\u001b[0m\u001b[1;33m,\u001b[0m\u001b[1;34m'End Time'\u001b[0m\u001b[1;33m,\u001b[0m\u001b[1;34m'Minutes Asleep'\u001b[0m\u001b[1;33m,\u001b[0m\u001b[1;34m'Time in Bed'\u001b[0m\u001b[1;33m]\u001b[0m\u001b[1;33m]\u001b[0m\u001b[1;33m\u001b[0m\u001b[0m\n\u001b[1;32m      6\u001b[0m \u001b[1;33m\u001b[0m\u001b[0m\n",
      "\u001b[0;32mC:\\Anaconda\\lib\\site-packages\\pandas\\io\\parsers.pyc\u001b[0m in \u001b[0;36mparser_f\u001b[0;34m(filepath_or_buffer, sep, delimiter, header, names, index_col, usecols, squeeze, prefix, mangle_dupe_cols, dtype, engine, converters, true_values, false_values, skipinitialspace, skiprows, nrows, na_values, keep_default_na, na_filter, verbose, skip_blank_lines, parse_dates, infer_datetime_format, keep_date_col, date_parser, dayfirst, iterator, chunksize, compression, thousands, decimal, lineterminator, quotechar, quoting, escapechar, comment, encoding, dialect, tupleize_cols, error_bad_lines, warn_bad_lines, skipfooter, skip_footer, doublequote, delim_whitespace, as_recarray, compact_ints, use_unsigned, low_memory, buffer_lines, memory_map, float_precision)\u001b[0m\n\u001b[1;32m    644\u001b[0m                     skip_blank_lines=skip_blank_lines)\n\u001b[1;32m    645\u001b[0m \u001b[1;33m\u001b[0m\u001b[0m\n\u001b[0;32m--> 646\u001b[0;31m         \u001b[1;32mreturn\u001b[0m \u001b[0m_read\u001b[0m\u001b[1;33m(\u001b[0m\u001b[0mfilepath_or_buffer\u001b[0m\u001b[1;33m,\u001b[0m \u001b[0mkwds\u001b[0m\u001b[1;33m)\u001b[0m\u001b[1;33m\u001b[0m\u001b[0m\n\u001b[0m\u001b[1;32m    647\u001b[0m \u001b[1;33m\u001b[0m\u001b[0m\n\u001b[1;32m    648\u001b[0m     \u001b[0mparser_f\u001b[0m\u001b[1;33m.\u001b[0m\u001b[0m__name__\u001b[0m \u001b[1;33m=\u001b[0m \u001b[0mname\u001b[0m\u001b[1;33m\u001b[0m\u001b[0m\n",
      "\u001b[0;32mC:\\Anaconda\\lib\\site-packages\\pandas\\io\\parsers.pyc\u001b[0m in \u001b[0;36m_read\u001b[0;34m(filepath_or_buffer, kwds)\u001b[0m\n\u001b[1;32m    399\u001b[0m         \u001b[1;32mreturn\u001b[0m \u001b[0mparser\u001b[0m\u001b[1;33m\u001b[0m\u001b[0m\n\u001b[1;32m    400\u001b[0m \u001b[1;33m\u001b[0m\u001b[0m\n\u001b[0;32m--> 401\u001b[0;31m     \u001b[0mdata\u001b[0m \u001b[1;33m=\u001b[0m \u001b[0mparser\u001b[0m\u001b[1;33m.\u001b[0m\u001b[0mread\u001b[0m\u001b[1;33m(\u001b[0m\u001b[1;33m)\u001b[0m\u001b[1;33m\u001b[0m\u001b[0m\n\u001b[0m\u001b[1;32m    402\u001b[0m     \u001b[0mparser\u001b[0m\u001b[1;33m.\u001b[0m\u001b[0mclose\u001b[0m\u001b[1;33m(\u001b[0m\u001b[1;33m)\u001b[0m\u001b[1;33m\u001b[0m\u001b[0m\n\u001b[1;32m    403\u001b[0m     \u001b[1;32mreturn\u001b[0m \u001b[0mdata\u001b[0m\u001b[1;33m\u001b[0m\u001b[0m\n",
      "\u001b[0;32mC:\\Anaconda\\lib\\site-packages\\pandas\\io\\parsers.pyc\u001b[0m in \u001b[0;36mread\u001b[0;34m(self, nrows)\u001b[0m\n\u001b[1;32m    937\u001b[0m                 \u001b[1;32mraise\u001b[0m \u001b[0mValueError\u001b[0m\u001b[1;33m(\u001b[0m\u001b[1;34m'skipfooter not supported for iteration'\u001b[0m\u001b[1;33m)\u001b[0m\u001b[1;33m\u001b[0m\u001b[0m\n\u001b[1;32m    938\u001b[0m \u001b[1;33m\u001b[0m\u001b[0m\n\u001b[0;32m--> 939\u001b[0;31m         \u001b[0mret\u001b[0m \u001b[1;33m=\u001b[0m \u001b[0mself\u001b[0m\u001b[1;33m.\u001b[0m\u001b[0m_engine\u001b[0m\u001b[1;33m.\u001b[0m\u001b[0mread\u001b[0m\u001b[1;33m(\u001b[0m\u001b[0mnrows\u001b[0m\u001b[1;33m)\u001b[0m\u001b[1;33m\u001b[0m\u001b[0m\n\u001b[0m\u001b[1;32m    940\u001b[0m \u001b[1;33m\u001b[0m\u001b[0m\n\u001b[1;32m    941\u001b[0m         \u001b[1;32mif\u001b[0m \u001b[0mself\u001b[0m\u001b[1;33m.\u001b[0m\u001b[0moptions\u001b[0m\u001b[1;33m.\u001b[0m\u001b[0mget\u001b[0m\u001b[1;33m(\u001b[0m\u001b[1;34m'as_recarray'\u001b[0m\u001b[1;33m)\u001b[0m\u001b[1;33m:\u001b[0m\u001b[1;33m\u001b[0m\u001b[0m\n",
      "\u001b[0;32mC:\\Anaconda\\lib\\site-packages\\pandas\\io\\parsers.pyc\u001b[0m in \u001b[0;36mread\u001b[0;34m(self, nrows)\u001b[0m\n\u001b[1;32m   1506\u001b[0m     \u001b[1;32mdef\u001b[0m \u001b[0mread\u001b[0m\u001b[1;33m(\u001b[0m\u001b[0mself\u001b[0m\u001b[1;33m,\u001b[0m \u001b[0mnrows\u001b[0m\u001b[1;33m=\u001b[0m\u001b[0mNone\u001b[0m\u001b[1;33m)\u001b[0m\u001b[1;33m:\u001b[0m\u001b[1;33m\u001b[0m\u001b[0m\n\u001b[1;32m   1507\u001b[0m         \u001b[1;32mtry\u001b[0m\u001b[1;33m:\u001b[0m\u001b[1;33m\u001b[0m\u001b[0m\n\u001b[0;32m-> 1508\u001b[0;31m             \u001b[0mdata\u001b[0m \u001b[1;33m=\u001b[0m \u001b[0mself\u001b[0m\u001b[1;33m.\u001b[0m\u001b[0m_reader\u001b[0m\u001b[1;33m.\u001b[0m\u001b[0mread\u001b[0m\u001b[1;33m(\u001b[0m\u001b[0mnrows\u001b[0m\u001b[1;33m)\u001b[0m\u001b[1;33m\u001b[0m\u001b[0m\n\u001b[0m\u001b[1;32m   1509\u001b[0m         \u001b[1;32mexcept\u001b[0m \u001b[0mStopIteration\u001b[0m\u001b[1;33m:\u001b[0m\u001b[1;33m\u001b[0m\u001b[0m\n\u001b[1;32m   1510\u001b[0m             \u001b[1;32mif\u001b[0m \u001b[0mself\u001b[0m\u001b[1;33m.\u001b[0m\u001b[0m_first_chunk\u001b[0m\u001b[1;33m:\u001b[0m\u001b[1;33m\u001b[0m\u001b[0m\n",
      "\u001b[0;32mpandas\\parser.pyx\u001b[0m in \u001b[0;36mpandas.parser.TextReader.read (pandas\\parser.c:10415)\u001b[0;34m()\u001b[0m\n",
      "\u001b[0;32mpandas\\parser.pyx\u001b[0m in \u001b[0;36mpandas.parser.TextReader._read_low_memory (pandas\\parser.c:10691)\u001b[0;34m()\u001b[0m\n",
      "\u001b[0;32mpandas\\parser.pyx\u001b[0m in \u001b[0;36mpandas.parser.TextReader._read_rows (pandas\\parser.c:11437)\u001b[0;34m()\u001b[0m\n",
      "\u001b[0;32mpandas\\parser.pyx\u001b[0m in \u001b[0;36mpandas.parser.TextReader._tokenize_rows (pandas\\parser.c:11308)\u001b[0;34m()\u001b[0m\n",
      "\u001b[0;32mpandas\\parser.pyx\u001b[0m in \u001b[0;36mpandas.parser.raise_parser_error (pandas\\parser.c:27037)\u001b[0;34m()\u001b[0m\n",
      "\u001b[0;31mCParserError\u001b[0m: Error tokenizing data. C error: Expected 4 fields in line 36, saw 9\n"
     ]
    }
   ],
   "source": [
    "# Get a nice DataFrame with useful columns from each .csv file\n",
    "def load_month(filename):\n",
    "    \n",
    "    data = pd.read_csv(filename,skiprows=1)\n",
    "    data = data.loc[:,['Start Time','End Time','Minutes Asleep','Time in Bed']]\n",
    "\n",
    "    data['Start Time'] = pd.to_datetime(data['Start Time'])\n",
    "    data['End Time'] = pd.to_datetime(data['End Time'])\n",
    "    \n",
    "    data['Date'] = data['End Time'].dt.date\n",
    "    data['Week'] = data['End Time'].dt.week\n",
    "    data['Weekday'] = data['End Time'].dt.weekday\n",
    "    data['WeekdayName'] = data['End Time'].dt.weekday_name\n",
    "    data['Start Time'] = data['Start Time'].dt.time\n",
    "    data['End Time'] = data['End Time'].dt.time\n",
    "    \n",
    "    return data\n",
    "\n",
    "# Deal with the naps\n",
    "def fix_naps(filename):\n",
    "    pass\n",
    "\n",
    "def get_months(end_month, end_year):\n",
    "    \n",
    "    month, year, months = 9, 2015, []\n",
    "    \n",
    "    while month <= end_month or year < end_year:\n",
    "        \n",
    "        if month < 10:\n",
    "            months.append('0'+str(month)+'_'+str(year)+'.csv')\n",
    "        else:\n",
    "            months.append(str(month)+'_'+str(year)+'.csv')\n",
    "        \n",
    "        month += 1\n",
    "        if month > 12:\n",
    "            month = 1\n",
    "            year += 1\n",
    "            \n",
    "    return months\n",
    "\n",
    "def deprivation_metric(series):\n",
    "    x = np.array(series)\n",
    "    x = x/60.0\n",
    "    x[x>8] = 8\n",
    "    return np.mean(deprivation_score(x))\n",
    "    \n",
    "def avg_datetime(series):\n",
    "    dt_min = series.min()\n",
    "    deltas = [x-dt_min for x in series]\n",
    "    return dt_min + functools.reduce(operator.add, deltas) / len(deltas)\n",
    "\n",
    "\n",
    "# Plot weekly data for the length of time included in month_names\n",
    "def plot_weekly(month_names):\n",
    "    \n",
    "    # Plot mean time asleep\n",
    "    \n",
    "    # Plot % time in bed spent asleep\n",
    "    \n",
    "    # Plot deprivation metric\n",
    "    \n",
    "    # Plot mean bedtime\n",
    "    \n",
    "    # Plot stdev of bedtime\n",
    "    \n",
    "    # Plot mean wakeup time\n",
    "    \n",
    "    # Plot stdev of wakeup time\n",
    "    \n",
    "    pass\n",
    "\n",
    "# Plot monthly data for the length of time included in month_names\n",
    "def plot_monthly(month_names):\n",
    "    \n",
    "    data = [load_month(month) for month in month_names]\n",
    "    months = []\n",
    "    for i in xrange(len(month_names)):\n",
    "        date = data[i]['Date'][0]\n",
    "        months.append(date.strftime('%b')+' '+date.strftime('%Y'))\n",
    "        \n",
    "    # Plot max time asleep\n",
    "    time_asleep = [m['Minutes Asleep'].max()/60.0 for m in data]\n",
    "    pd.Series(time_asleep, index=months).plot(\"bar\", rot=45, fontsize=16)\n",
    "    plt.title('Max Hours of Sleep by Month', fontsize=16)\n",
    "    plt.show()\n",
    "        \n",
    "    # Plot mean time asleep\n",
    "    time_asleep = [m['Minutes Asleep'].mean()/60.0 for m in data]\n",
    "    pd.Series(time_asleep, index=months).plot(\"bar\", rot=45, fontsize=16)\n",
    "    plt.title('Mean Hours of Sleep by Month', fontsize=16)\n",
    "    plt.show()\n",
    "    \n",
    "    # Plot standard deviation of time asleep\n",
    "    time_asleep = [m['Minutes Asleep'].std()/60.0 for m in data]\n",
    "    pd.Series(time_asleep, index=months).plot(\"bar\", rot=45, fontsize=16)\n",
    "    plt.title('Standard Deviation of Hours of Sleep by Month', fontsize=16)\n",
    "    plt.show()\n",
    "    \n",
    "    # Plot % time in bed spent asleep\n",
    "    percents = [m['Minutes Asleep'].mean()/m['Time in Bed'].mean() for m in data]\n",
    "    pd.Series(percents, index=months).plot(\"bar\", rot=45, fontsize=12)\n",
    "    plt.title('Percent of Time in Bed Spent Asleep')\n",
    "    plt.show()\n",
    "                                           \n",
    "    # Plot deprivation metric\n",
    "    deprived = [deprivation_metric(m['Minutes Asleep']) for m in data]\n",
    "    pd.Series(deprived, index=months).plot(\"bar\", rot=45, fontsize=16)\n",
    "    plt.title('Average Daily All-Nighter Percentage', fontsize=16)\n",
    "    plt.show()\n",
    "    \n",
    "    # Plot mean bedtime\n",
    "    \n",
    "    # Plot stdev of bedtime\n",
    "    \n",
    "    # Plot mean wakeup time\n",
    "    \n",
    "    # Plot stdev of wakeup time\n",
    "    \n",
    "    pass\n",
    "\n",
    "month_names = get_months(10,2017)\n",
    "plot_monthly(month_names)"
   ]
  },
  {
   "cell_type": "code",
   "execution_count": 14,
   "metadata": {
    "collapsed": false
   },
   "outputs": [
    {
     "name": "stdout",
     "output_type": "stream",
     "text": [
      "09_2015.csv int64\n",
      "10_2015.csv int64\n",
      "11_2015.csv int64\n",
      "12_2015.csv int64\n",
      "01_2016.csv int64\n",
      "02_2016.csv int64\n",
      "03_2016.csv int64\n",
      "04_2016.csv int64\n",
      "05_2016.csv int64\n",
      "06_2016.csv int64\n",
      "07_2016.csv int64\n",
      "08_2016.csv object\n",
      "09_2016.csv int64\n",
      "10_2016.csv int64\n",
      "11_2016.csv int64\n",
      "12_2016.csv int64\n",
      "01_2017.csv object\n",
      "02_2017.csv int64\n",
      "03_2017.csv int64\n",
      "04_2017.csv int64\n",
      "05_2017.csv int64\n",
      "06_2017.csv int64\n",
      "07_2017.csv int64\n",
      "08_2017.csv int64\n",
      "09_2017.csv int64\n",
      "10_2017.csv int64\n"
     ]
    }
   ],
   "source": [
    "data = [load_month(month) for month in month_names]\n",
    "for i in xrange(len(month_names)):\n",
    "    print month_names[i], data[i]['Time in Bed'].dtype"
   ]
  },
  {
   "cell_type": "code",
   "execution_count": null,
   "metadata": {
    "collapsed": true
   },
   "outputs": [],
   "source": [
    "month_names = get_months(10,2017)[::-1]\n",
    "month_dataframes = [load_month(month) for month in months]\n",
    "full_data = pd.concat(month_dataframes,ignore_index=True)"
   ]
  }
 ],
 "metadata": {
  "kernelspec": {
   "display_name": "Python 2",
   "language": "python",
   "name": "python2"
  },
  "language_info": {
   "codemirror_mode": {
    "name": "ipython",
    "version": 2
   },
   "file_extension": ".py",
   "mimetype": "text/x-python",
   "name": "python",
   "nbconvert_exporter": "python",
   "pygments_lexer": "ipython2",
   "version": "2.7.13"
  }
 },
 "nbformat": 4,
 "nbformat_minor": 0
}
