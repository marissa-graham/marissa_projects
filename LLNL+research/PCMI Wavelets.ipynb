{
 "cells": [
  {
   "cell_type": "code",
   "execution_count": null,
   "metadata": {
    "collapsed": true
   },
   "outputs": [],
   "source": [
    "import numpy as np\n",
    "from scipy import linalg as la\n",
    "from scipy import integrate"
   ]
  },
  {
   "cell_type": "markdown",
   "metadata": {},
   "source": [
    "Problem Set #1"
   ]
  },
  {
   "cell_type": "code",
   "execution_count": 27,
   "metadata": {
    "collapsed": false
   },
   "outputs": [
    {
     "name": "stdout",
     "output_type": "stream",
     "text": [
      "[ 0.     4.125 -0.625  1.125  0.    -0.25   1.    -1.25  -0.5    0.5   -0.5\n",
      "  0.     2.     0.     0.5   -5.   ]\n"
     ]
    },
    {
     "name": "stderr",
     "output_type": "stream",
     "text": [
      "C:\\Anaconda\\lib\\site-packages\\ipykernel\\__main__.py:23: VisibleDeprecationWarning: using a non-integer number instead of an integer will result in an error in the future\n",
      "C:\\Anaconda\\lib\\site-packages\\ipykernel\\__main__.py:24: VisibleDeprecationWarning: using a non-integer number instead of an integer will result in an error in the future\n",
      "C:\\Anaconda\\lib\\site-packages\\ipykernel\\__main__.py:26: VisibleDeprecationWarning: using a non-integer number instead of an integer will result in an error in the future\n",
      "C:\\Anaconda\\lib\\site-packages\\ipykernel\\__main__.py:27: VisibleDeprecationWarning: using a non-integer number instead of an integer will result in an error in the future\n"
     ]
    }
   ],
   "source": [
    "def get_A(n):\n",
    "    \"\"\" \n",
    "    Create the 'A' and 'Ainv' matrix for V_n.\n",
    "    Signals must be length 2**n.\n",
    "    \n",
    "    Wavelet transform of a signal s: np.dot(Ainv, s)\n",
    "    Reconstruct a transformed signal w: np.dot(A, w)\n",
    "    \n",
    "    Project a sampled function onto V_n: \n",
    "    \"\"\"\n",
    "    Ainv = np.zeros((2**n,2**n))\n",
    "    A = np.zeros((2**n,2**n))\n",
    "    \n",
    "    Ainv[0,:] = 1.0/2**n\n",
    "    A[:,0] = 1.0\n",
    "    \n",
    "    for i in xrange(n):\n",
    "        for j in xrange(2**i):\n",
    "            val = 2**(n-i)\n",
    "            Ainv[2**i+j,j*val:(j+0.5)*val] = 1.0/val\n",
    "            Ainv[2**i+j,(j+0.5)*val:(j+1)*val] = -1.0/val\n",
    "            \n",
    "            A[j*val:(j+0.5)*val,2**i+j] = 1.0\n",
    "            A[(j+0.5)*val:(j+1)*val,2**i+j] = -1.0\n",
    "    \n",
    "    return A, Ainv\n",
    "\n",
    "def prob1():\n",
    "    print \"The dimension of V4 is 16. Zero vector is simply the zero function.\"\n",
    "    \n",
    "def probs2_to_4():\n",
    "    A4, A4inv = get_A(4)\n",
    "    print A4, '\\n', A4inv\n",
    "    \n",
    "    \n",
    "    s = np.array([3,4,4,3,4,5,5,5,0,-4,-4,-4,-6,-7,-9,1])\n",
    "    print np.dot(A4inv, s)\n",
    "    \n",
    "    s_inv = np.array([0,2,-4,-3,5,1,3,0,0,2,-4,-1,1,3,0,9])\n",
    "    print np.dot(A4, s_inv)\n",
    "    \n",
    "def probs5_to_9():\n",
    "    \n",
    "    f = lambda t:t*np.sin(6.0*t)\n",
    "    # Haven't figured out how to translate solutions to python"
   ]
  },
  {
   "cell_type": "markdown",
   "metadata": {},
   "source": [
    "Problem Set #2"
   ]
  },
  {
   "cell_type": "code",
   "execution_count": 65,
   "metadata": {
    "collapsed": false
   },
   "outputs": [
    {
     "name": "stdout",
     "output_type": "stream",
     "text": [
      "Timing the matrix version:\n",
      "1000 loops, best of 3: 211 µs per loop\n",
      "\n",
      "Timing matrix version with premade A:\n",
      "The slowest run took 8.64 times longer than the fastest. This could mean that an intermediate result is being cached \n",
      "1000000 loops, best of 3: 777 ns per loop\n",
      "\n",
      "Timing the filter pass version:\n",
      "10000 loops, best of 3: 22 µs per loop\n"
     ]
    },
    {
     "name": "stderr",
     "output_type": "stream",
     "text": [
      "C:\\Anaconda\\lib\\site-packages\\ipykernel\\__main__.py:23: VisibleDeprecationWarning: using a non-integer number instead of an integer will result in an error in the future\n",
      "C:\\Anaconda\\lib\\site-packages\\ipykernel\\__main__.py:24: VisibleDeprecationWarning: using a non-integer number instead of an integer will result in an error in the future\n",
      "C:\\Anaconda\\lib\\site-packages\\ipykernel\\__main__.py:26: VisibleDeprecationWarning: using a non-integer number instead of an integer will result in an error in the future\n",
      "C:\\Anaconda\\lib\\site-packages\\ipykernel\\__main__.py:27: VisibleDeprecationWarning: using a non-integer number instead of an integer will result in an error in the future\n"
     ]
    }
   ],
   "source": [
    "def pyramid(s,n):\n",
    "    \"\"\"\n",
    "    Apply low and high pass filters to the signal s\n",
    "    in the pyramid scheme format.\n",
    "    \n",
    "    s must be length 2**n.\n",
    "    \"\"\"\n",
    "    out = np.zeros(2**n)\n",
    "    \n",
    "    for i in xrange(n-1,-1,-1):\n",
    "        out[2**i:2**(i+1)] = 0.5*(s[::2] - s[1::2])\n",
    "        s = 0.5*(s[::2] + s[1::2])\n",
    "        \n",
    "    return out\n",
    "    \n",
    "        \n",
    "    \n",
    "s = np.array([181.2, 183.7, 157.6, 162.6, 161.3, 167.3, 163.6, 146.6, 173.5, 184.5, 171.7, 188.5,\n",
    "200.3, 190.5, 186.2, 209.7, 205.0, 185.1, 206.5, 226.3, 199.3, 204.3, 211.3, 203.6,\n",
    "210.8, 196.8, 212.8, 188.5, 170.0, 160.0, 157.0, 158.8])\n",
    "\n",
    "\n",
    "def test_matrix():\n",
    "    A5, A5inv = get_A(5)\n",
    "    return np.dot(A5inv, s)\n",
    "   \n",
    "A5, A5inv = get_A(5)\n",
    "\n",
    "print \"Timing the matrix version:\"\n",
    "%timeit matrix_pass()\n",
    "\n",
    "print \"\\nTiming matrix version with premade A:\"\n",
    "%timeit np.dot(A5inv, s)\n",
    "\n",
    "print \"\\nTiming the filter pass version:\"\n",
    "%timeit pyramid(s,5)"
   ]
  },
  {
   "cell_type": "code",
   "execution_count": null,
   "metadata": {
    "collapsed": true
   },
   "outputs": [],
   "source": []
  }
 ],
 "metadata": {
  "kernelspec": {
   "display_name": "Python 2",
   "language": "python",
   "name": "python2"
  },
  "language_info": {
   "codemirror_mode": {
    "name": "ipython",
    "version": 2
   },
   "file_extension": ".py",
   "mimetype": "text/x-python",
   "name": "python",
   "nbconvert_exporter": "python",
   "pygments_lexer": "ipython2",
   "version": "2.7.11"
  }
 },
 "nbformat": 4,
 "nbformat_minor": 0
}
