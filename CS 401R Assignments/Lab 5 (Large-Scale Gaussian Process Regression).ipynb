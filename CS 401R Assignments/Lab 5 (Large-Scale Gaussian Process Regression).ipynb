{
 "cells": [
  {
   "cell_type": "code",
   "execution_count": 53,
   "metadata": {
    "collapsed": false,
    "scrolled": true
   },
   "outputs": [
    {
     "name": "stdout",
     "output_type": "stream",
     "text": [
      "Reading in Data...\n",
      "Calculating Cache Values...\n",
      "1017209  training points\n",
      "0\n",
      "1\n",
      "2\n",
      "3\n",
      "4\n",
      "5\n",
      "6\n",
      "7\n",
      "8\n",
      "9\n"
     ]
    },
    {
     "data": {
      "image/png": "[encoded data removed]",
      "text/plain": [
       "<matplotlib.figure.Figure at 0x2326a390>"
      ]
     },
     "metadata": {},
     "output_type": "display_data"
    },
    {
     "name": "stdout",
     "output_type": "stream",
     "text": [
      "Time for the matrix multiplications\n",
      "(10L, 1017209L)\n",
      "(10L,)\n",
      "Calculating Mu...\n",
      "41088\n"
     ]
    }
   ],
   "source": [
    "from __future__ import division\n",
    "import numpy as np\n",
    "import pandas as pd\n",
    "import sys\n",
    "from datetime import datetime\n",
    "from scipy import linalg as la\n",
    "from sklearn import cluster\n",
    "from matplotlib import pyplot as plt\n",
    "import seaborn\n",
    "%matplotlib inline\n",
    "\n",
    "\"\"\"\n",
    "Use large-scale Gaussian process regression to make predictions for the Rossman\n",
    "Store Sales Kaggle Competition.\n",
    "\n",
    "1. Construct a custom kernel that measures similarity between two different\n",
    "training data points.\n",
    "\n",
    "2. Implement an algorithm that selects a set of m landmarks.\n",
    "\n",
    "3. Show the kernel in action by displaying a mxm kernel matrix K, where\n",
    "K_ij = k(x_i,x_j) for i,j in {1,...,m}.\n",
    "\n",
    "4. Implement the \"subset of regressors\" algorithm.\n",
    "\n",
    "Finally, construct an actual prediction for the Kaggle competition, submit it,\n",
    "and have the notebook print the overall prediction MSE and ranking you would \n",
    "have received.\n",
    "\n",
    "Feel free to subsample the training data to whatever size is manageable.\n",
    "\"\"\"\n",
    "\n",
    "def kernel(xi, xj, test=False):\n",
    "    \"\"\"\n",
    "    Return a value representing the similarity between xi and xj\n",
    "    \n",
    "    Add up the kernel functions for Store, DayOfWeek, Date, Customers,\n",
    "    Open, Promo, StateHoliday, SchoolHoliday and divide by 8.\n",
    "    \"\"\"\n",
    "    \n",
    "    # maybe just compare the month\n",
    "    def compare_dates(date1, date2):\n",
    "        date_format = '%Y-%m-%d'\n",
    "        d = datetime.strptime(date1, date_format) - datetime.strptime(date2, date_format)\n",
    "        return float(d.days)\n",
    "    \n",
    "    Store = 1.0 - np.abs(int(xi.Store) - int(xj.Store))/1115.0\n",
    "    DayOfWeek = 1.0 - np.abs(int(xi.DayOfWeek) - int(xj.DayOfWeek))\n",
    "    Date = 1.0 - np.abs(compare_dates(xi.Date,xj.Date))/365\n",
    "    Open = int(xi.Open == xj.Open)\n",
    "    Promo = int(xi.Promo == xj.Promo)\n",
    "    StateHoliday = int(xi.StateHoliday == xj.StateHoliday)\n",
    "    SchoolHoliday = int(xi.SchoolHoliday == xj.SchoolHoliday)\n",
    "    \n",
    "    # Weight being open, day of the week, # of customers, and date higher\n",
    "    temp = Store + 2.0*DayOfWeek + 2.0*Date + 4.0*Open + Promo + StateHoliday + SchoolHoliday\n",
    "    \n",
    "    return temp/12.0\n",
    "      \n",
    "    #a, b = int(xi.Customers), int(xj.Customers)\n",
    "    #return (temp + 4.0*(1.0 - np.abs(a/max(a,b,1) - b/max(a,b,1))))/16.0\n",
    "    \n",
    "def select_landmarks(m):\n",
    "    \"\"\"\n",
    "    Choose m data points based on the test data to create the\n",
    "    covariance matrix. Should return a Pandas DataFrame\n",
    "    \"\"\"\n",
    "    # Still doing random ones for now\n",
    "    landmarks = np.random.randint(train_data.shape[0],size=m)\n",
    "    return train_data.iloc[landmarks]\n",
    "\n",
    "print \"Reading in Data...\"\n",
    "\n",
    "train_data = pd.read_csv('train.csv')\n",
    "test_data = pd.read_csv('test.csv')\n",
    "aux_data = pd.read_csv('store.csv')\n",
    "sample_sub = pd.read_csv('sample_submission.csv')\n",
    "\n",
    "print \"Calculating Cache Values...\"\n",
    "\n",
    "m = 10 \n",
    "n = train_data.shape[0]\n",
    "#n = 1000\n",
    "print n, \" training points\"\n",
    "sig2 = 1.0\n",
    "landmarks = select_landmarks(m)\n",
    "Kmm = np.zeros((m,m))\n",
    "Kmn = np.zeros((m,n))\n",
    "for i in xrange(m):\n",
    "    print i\n",
    "    for j in xrange(m):\n",
    "        Kmm[i,j] = kernel(landmarks.iloc[i],landmarks.iloc[j])\n",
    "    for j in xrange(n):\n",
    "        s\n",
    "        Kmn[i,j] = kernel(landmarks.iloc[i],train_data.iloc[j])\n",
    "\n",
    "plt.imshow(Kmm,vmin=0.0,vmax=1.0,cmap='Greys')\n",
    "plt.colorbar()\n",
    "plt.show()\n",
    "print \"Time for the matrix multiplications\"\n",
    "A = np.dot(la.inv(np.dot(Kmn,Kmn.T) + sig2*Kmm),Kmn)\n",
    "print A.shape\n",
    "\n",
    "# visualize kernel matrix1p\n",
    "# something about the kernel might be saying that nothing is similar\n",
    "# to anything else, so if it's strongly diagonally dominant that's bad\n",
    "Ay = np.dot(A,train_data['Sales'][:n])\n",
    "\n",
    "print Ay.shape\n",
    "\n",
    "print \"Calculating Mu...\" \n",
    "test_N = test_data.shape[0]\n",
    "#test_N = 1000\n",
    "print test_N\n",
    "mu = np.zeros(test_N)\n",
    "\n",
    "for i in xrange(0,test_N):\n",
    "    print i, '\\r',\n",
    "    Ktm = np.zeros(m)\n",
    "    for j in xrange(m):\n",
    "        Ktm[j] = kernel(landmarks.iloc[j],test_data.iloc[i],test=True)\n",
    "    mu[i] = np.dot(Ktm,Ay)\n",
    "\n",
    "#print mu\n",
    "sfile = open('mean_sub.csv', 'wb')\n",
    "sfile.write('\"Id\",\"Sales\"\\n')\n",
    "for id in range(0, test_N):\n",
    "    sfile.write('%d,%.2f\\n' % (id+1, mu[id]))  # add one for one-based indexing\n",
    "sfile.close()"
   ]
  },
  {
   "cell_type": "code",
   "execution_count": 55,
   "metadata": {
    "collapsed": false
   },
   "outputs": [
    {
     "name": "stdout",
     "output_type": "stream",
     "text": [
      "Private score of 0.41325, Public score 0.37814, ranking not available\n"
     ]
    }
   ],
   "source": [
    "print \"Private score of 0.41325, Public score 0.37814, ranking not available\""
   ]
  },
  {
   "cell_type": "code",
   "execution_count": null,
   "metadata": {
    "collapsed": true
   },
   "outputs": [],
   "source": []
  }
 ],
 "metadata": {
  "kernelspec": {
   "display_name": "Python 2",
   "language": "python",
   "name": "python2"
  },
  "language_info": {
   "codemirror_mode": {
    "name": "ipython",
    "version": 2
   },
   "file_extension": ".py",
   "mimetype": "text/x-python",
   "name": "python",
   "nbconvert_exporter": "python",
   "pygments_lexer": "ipython2",
   "version": "2.7.13"
  }
 },
 "nbformat": 4,
 "nbformat_minor": 0
}
