{
 "cells": [
  {
   "cell_type": "code",
   "execution_count": 1,
   "metadata": {
    "collapsed": false
   },
   "outputs": [
    {
     "name": "stdout",
     "output_type": "stream",
     "text": [
      "Populating the interactive namespace from numpy and matplotlib\n"
     ]
    }
   ],
   "source": [
    "from __future__ import division \n",
    "import numpy as np \n",
    "import seaborn \n",
    "#import sys\n",
    "#import csv\n",
    "import pandas as pd \n",
    "#from scipy import io\n",
    "#from scipy import stats\n",
    "#from scipy import linalg as la\n",
    "from scipy.sparse import coo_matrix\n",
    "from scipy.sparse import linalg as sparla\n",
    "from matplotlib import pyplot as plt \n",
    "\n",
    "#from sklearn import cluster # From GPR\n",
    "#from sklearn.naive_bayes import GaussianNB # From old naive bayes\n",
    "#from sklearn import cross_validation # From old naive bayes\n",
    "#from sklearn.naive_bayes import MultinomialNB # From old naive bayes\n",
    "\n",
    "%matplotlib inline \n",
    "\n",
    "%pylab inline \n",
    "pylab.rcParams['figure.figsize'] = (16.0, 8.0) # Control figure size "
   ]
  },
  {
   "cell_type": "markdown",
   "metadata": {},
   "source": [
    "Now that we have all our relevant import statements, we load the data. For ease of use, all data will be stored in pandas dataframes."
   ]
  },
  {
   "cell_type": "code",
   "execution_count": 2,
   "metadata": {
    "collapsed": false
   },
   "outputs": [],
   "source": [
    "# User, Movie pairs to make predictions for\n",
    "\n",
    "to_predict = pd.read_table('predictions.dat')\n",
    "\n",
    "################################################################################\n",
    "\n",
    "movies = pd.read_table('movie_training_data\\movies.dat')\n",
    "\n",
    "genres = pd.read_table('movie_training_data\\movie_genres.dat')\n",
    "\n",
    "directors = pd.read_table('movie_training_data\\movie_directors.dat')\n",
    "\n",
    "actors = pd.read_table('movie_training_data\\movie_actors.dat')\n",
    "\n",
    "countries = pd.read_table('movie_training_data\\movie_countries.dat')\n",
    "\n",
    "locations = pd.read_table('movie_training_data\\movie_locations.dat')\n",
    "\n",
    "# Set of tags available in the dataset\n",
    "tags = pd.read_table('movie_training_data\\\\tags.dat')\n",
    "\n",
    "user_taggedmovies = pd.read_table('movie_training_data\\user_taggedmovies.dat')\n",
    "\n",
    "# Tags assigned to the moveies, with counts\n",
    "movie_tags = pd.read_table('movie_training_data\\movie_tags.dat')\n",
    "\n",
    "# Core training data\n",
    "urmt_string = 'movie_training_data\\user_ratedmovies_train.dat'\n",
    "user_ratedmovies_train = pd.read_table(urmt_string)"
   ]
  },
  {
   "cell_type": "markdown",
   "metadata": {},
   "source": [
    "We take a preliminary look at the variables available in each dataset. Notice that the 'id' column in the movies and tags datasets is the same as the movieID column in the other datasets, which can easily be checked by looking at the number of unique 'movieID' values in the other datasets and comparing to the 'id' column in 'movies' and the total number of movies."
   ]
  },
  {
   "cell_type": "code",
   "execution_count": 3,
   "metadata": {
    "collapsed": false
   },
   "outputs": [
    {
     "name": "stdout",
     "output_type": "stream",
     "text": [
      "\n",
      "test data pairs :  85000  entries \n",
      "\n",
      "\ttestID\n",
      "\tuserID\n",
      "\tmovieID\n",
      "\n",
      "movies :  10197  entries \n",
      "\n",
      "\tid\n",
      "\ttitle\n",
      "\timdbID\n",
      "\tspanishTitle\n",
      "\timdbPictureURL\n",
      "\tyear\n",
      "\trtID\n",
      "\trtAllCriticsRating\n",
      "\trtAllCriticsNumReviews\n",
      "\trtAllCriticsNumFresh\n",
      "\trtAllCriticsNumRotten\n",
      "\trtAllCriticsScore\n",
      "\trtTopCriticsRating\n",
      "\trtTopCriticsNumReviews\n",
      "\trtTopCriticsNumFresh\n",
      "\trtTopCriticsNumRotten\n",
      "\trtTopCriticsScore\n",
      "\trtAudienceRating\n",
      "\trtAudienceNumRatings\n",
      "\trtAudienceScore\n",
      "\trtPictureURL\n",
      "\n",
      "genres :  20809  entries \n",
      "\n",
      "\tmovieID\n",
      "\tgenre\n",
      "\n",
      "directors :  10155  entries \n",
      "\n",
      "\tmovieID\n",
      "\tdirectorID\n",
      "\tdirectorName\n",
      "\n",
      "actors :  231742  entries \n",
      "\n",
      "\tmovieID\n",
      "\tactorID\n",
      "\tactorName\n",
      "\tranking\n",
      "\n",
      "countries :  10197  entries \n",
      "\n",
      "\tmovieID\n",
      "\tcountry\n",
      "\n",
      "locations :  49167  entries \n",
      "\n",
      "\tmovieID\n",
      "\tlocation1\n",
      "\tlocation2\n",
      "\tlocation3\n",
      "\tlocation4\n",
      "\n",
      "tags :  13222  entries \n",
      "\n",
      "\tid\n",
      "\tvalue\n",
      "\n",
      "user tagged movies :  47957  entries \n",
      "\n",
      "\tuserID\n",
      "\tmovieID\n",
      "\ttagID\n",
      "\tdate_day\n",
      "\tdate_month\n",
      "\tdate_year\n",
      "\tdate_hour\n",
      "\tdate_minute\n",
      "\tdate_second\n",
      "\n",
      "user rated movies :  770598  entries \n",
      "\n",
      "\tUnnamed: 0\n",
      "\tuserID\n",
      "\tmovieID\n",
      "\trating\n",
      "\tdate_day\n",
      "\tdate_month\n",
      "\tdate_year\n",
      "\tdate_hour\n",
      "\tdate_minute\n",
      "\tdate_second\n"
     ]
    }
   ],
   "source": [
    "def view_df(df, name):\n",
    "    \n",
    "    df_cols = list(df.columns)\n",
    "    print '\\n', name, ': ', df.shape[0], ' entries \\n'\n",
    "    \n",
    "    for i in xrange(len(df_cols)):\n",
    "        print '\\t', df_cols[i]\n",
    "\n",
    "view_df(to_predict, 'test data pairs')\n",
    "view_df(movies, 'movies')\n",
    "view_df(genres, 'genres')\n",
    "view_df(directors, 'directors')\n",
    "view_df(actors, 'actors')\n",
    "view_df(countries, 'countries')\n",
    "view_df(locations, 'locations')\n",
    "view_df(tags, 'tags')\n",
    "view_df(user_taggedmovies, 'user tagged movies')\n",
    "view_df(user_ratedmovies_train, 'user rated movies')"
   ]
  },
  {
   "cell_type": "markdown",
   "metadata": {},
   "source": [
    "Now we get some statistics and make some plots to look at the distribution of various aspects of the data.\n",
    "\n",
    "Statistics already available in readme.txtData statistics:\n",
    "\n",
    "* 2113 users\n",
    "* 10197 movies\n",
    "\n",
    "* 20 movie genres\n",
    "* 20809 movie genre assignments\n",
    "    * avg. 2.040 genres per movie\n",
    "\n",
    "* 4060 directors\n",
    "* 95321 actors\n",
    "    * avg. 22.778 actors per movie\n",
    "* 72 countries\n",
    "\n",
    "* 10197 country assignments\n",
    "     * avg. 1.000 countries per movie\n",
    "* 47899 location assignments\n",
    "     * avg. 5.350 locations per movie\n",
    "\n",
    "* 13222 tags\n",
    "* 47957 tag assignments (tasg), i.e. tuples [user, tag, movie]\n",
    "     * avg. 22.696 tags per user\n",
    "     * avg. 8.117 tags per movie\n",
    "\n",
    "* 855598 ratings (doesn't match- we have 770598) \n",
    "     * avg. 404.921 ratings per user (we have 364.69)\n",
    "     * avg. 84.637 ratings per movie (76.73)"
   ]
  },
  {
   "cell_type": "code",
   "execution_count": 5,
   "metadata": {
    "collapsed": false
   },
   "outputs": [
    {
     "data": {
      "image/png": "[encoded data removed]",
      "text/plain": [
       "<matplotlib.figure.Figure at 0x136a1f98>"
      ]
     },
     "metadata": {},
     "output_type": "display_data"
    },
    {
     "data": {
      "image/png": "[encoded data removed]",
      "text/plain": [
       "<matplotlib.figure.Figure at 0x12d82dd8>"
      ]
     },
     "metadata": {},
     "output_type": "display_data"
    },
    {
     "data": {
      "image/png": "[encoded data removed]",
      "text/plain": [
       "<matplotlib.figure.Figure at 0xe982390>"
      ]
     },
     "metadata": {},
     "output_type": "display_data"
    },
    {
     "name": "stdout",
     "output_type": "stream",
     "text": [
      "5430\n"
     ]
    },
    {
     "data": {
      "image/png": "[encoded data removed]",
      "text/plain": [
       "<matplotlib.figure.Figure at 0x14b966d8>"
      ]
     },
     "metadata": {},
     "output_type": "display_data"
    },
    {
     "data": {
      "image/png": "[encoded data removed]",
      "text/plain": [
       "<matplotlib.figure.Figure at 0x12c55b38>"
      ]
     },
     "metadata": {},
     "output_type": "display_data"
    }
   ],
   "source": [
    "ax = user_ratedmovies_train['rating'].hist()\n",
    "ax.set_title('Overall Distribution of Ratings',size=30)\n",
    "plt.show()\n",
    "\n",
    "ratings = user_ratedmovies_train.groupby(['userID']).count()['rating']\n",
    "ax = ratings.hist(bins=100)\n",
    "ax.set_title('Distribution of Users over Number of Ratings', size=30)\n",
    "plt.show()\n",
    "\n",
    "ratings = user_ratedmovies_train.groupby(['movieID']).count()['rating']\n",
    "ax = ratings.hist(bins=50)\n",
    "ax.set_title('Distribution of Movies over Number of Ratings', size=30)\n",
    "plt.show()\n",
    "\n",
    "tagnumbers = user_taggedmovies.groupby(['userID']).count()['tagID']\n",
    "print np.max(tagnumbers)\n",
    "ax = tagnumbers.hist(bins=100, log=True)\n",
    "ax.set_title('Distribution of Users over Number of Tags (log scale)', size=30)\n",
    "plt.show()\n",
    "\n",
    "tagnumbers = user_taggedmovies.groupby(['movieID']).count()['tagID']\n",
    "ax = tagnumbers.hist(bins=100)\n",
    "ax.set_title('Distribution of Movies over Number of Tags', size=30)\n",
    "plt.show()"
   ]
  },
  {
   "cell_type": "markdown",
   "metadata": {},
   "source": [
    "We see that most users have a small number of ratings and a small number of tags, while a few have a very higher. This is most pronounced in the distribution of users over number of tags, to the point where it necessitates a log scale. \n",
    "\n",
    "Likewise, most movies have a small number of ratings, while a small number have a high number of ratings.\n",
    "\n",
    "The distribution of the ratings themselves is not uniform; ratings of 4 are the most common, 3-3.5 are significantly more common than >4, which are in turn more common than ratings of 2.5, while ratings of less than 2 are significantly more rare.\n",
    "\n",
    "We now look at the highest rated movies before proceeding with the recommender."
   ]
  },
  {
   "cell_type": "code",
   "execution_count": 6,
   "metadata": {
    "collapsed": false
   },
   "outputs": [
    {
     "name": "stdout",
     "output_type": "stream",
     "text": [
      "1 \t4.38 \tThe Life and Death of Colonel Blimp \n",
      "\t\t-  Emeric Pressburger\n",
      "2 \t4.38 \tSeppuku \n",
      "\t\t-  Masaki Kobayashi\n",
      "3 \t4.37 \tThe Shawshank Redemption \n",
      "\t\t-  Frank Darabont\n",
      "4 \t4.37 \tDom za vesanje \n",
      "\t\t-  Emir Kusturica\n",
      "5 \t4.35 \tRang-e khoda \n",
      "\t\t-  Majid Majidi\n",
      "6 \t4.35 \tMus�me si pom�hat \n",
      "\t\t-  Jan Hrebejk\n",
      "7 \t4.33 \tDead of Night \n",
      "\t\t-  Deryn Warren\n",
      "8 \t4.32 \tThe Godfather \n",
      "\t\t-  Francis Ford Coppola\n",
      "9 \t4.32 \tLe notti di Cabiria \n",
      "\t\t-  Federico Fellini\n",
      "10 \t4.32 \tBallada o soldate \n",
      "\t\t-  Grigori Chukhraj & Valentin Yezhov\n",
      "11 \t4.29 \tAll About Eve \n",
      "\t\t-  Joseph L. Mankiewicz\n",
      "12 \t4.29 \tBecket \n",
      "\t\t-  Peter Glenville\n",
      "13 \t4.29 \tA Patch of Blue \n",
      "\t\t-  Guy Green\n",
      "14 \t4.28 \tThe Usual Suspects \n",
      "\t\t-  Bryan Singer\n",
      "15 \t4.28 \tCocaine Cowboys \n",
      "\t\t-  Billy Corben\n",
      "16 \t4.28 \tA Man for All Seasons \n",
      "\t\t-  Fred Zinnemann\n",
      "17 \t4.28 \tGigantic (A Tale of Two Johns) \n",
      "\t\t-  AJ Schnack\n",
      "18 \t4.28 \tDouble Indemnity \n",
      "\t\t-  Billy Wilder\n",
      "19 \t4.27 \tOrdet \n",
      "\t\t-  Kaj Munk\n",
      "20 \t4.27 \tMimi wo sumaseba \n",
      "\t\t-  Yoshifumi Kondo\n",
      "21 \t4.26 \tFight Club \n",
      "\t\t-  David Fincher\n",
      "22 \t4.25 \tObchod na korze \n",
      "\t\t-  Elmar Klos\n",
      "23 \t4.25 \tDie Sehnsucht der Veronika Voss \n",
      "\t\t-  Rainer Werner Fassbinder\n",
      "24 \t4.25 \tDas Leben der Anderen \n",
      "\t\t-  Florian Henckel-Donnersmarck\n",
      "25 \t4.24 \t12 Angry Men \n",
      "\t\t-  Sidney Lumet\n",
      "26 \t4.24 \tKind Hearts and Coronets \n",
      "\t\t-  Robert Hamer\n",
      "27 \t4.24 \tApur Sansar \n",
      "\t\t-  Satyajit Ray\n",
      "28 \t4.24 \tPulp Fiction \n",
      "\t\t-  Quentin Tarantino\n",
      "29 \t4.24 \tDr. Strangelove or: How I Learned to Stop Worrying and Love the Bomb \n",
      "\t\t-  Stanley Kubrick\n",
      "30 \t4.24 \tChavez: Inside the Coup \n",
      "\t\t-  Kim Bartley\n",
      "31 \t4.23 \tPather Panchali \n",
      "\t\t-  Satyajit Ray\n",
      "32 \t4.23 \tMy Man Godfrey \n",
      "\t\t-  Gregory La Cava\n",
      "33 \t4.23 \tCasablanca \n",
      "\t\t-  Michael Curtiz\n",
      "34 \t4.23 \tIkiru \n",
      "\t\t-  Akira Kurosawa\n",
      "35 \t4.23 \tThe Dark Knight \n",
      "\t\t-  Christopher Nolan\n",
      "36 \t4.22 \tThe Godfather: Part II \n",
      "\t\t-  Francis Ford Coppola\n",
      "37 \t4.22 \tTinker, Tailor, Soldier, Spy \n",
      "\t\t-  John Irvin\n",
      "38 \t4.22 \tSlumdog Millionaire \n",
      "\t\t-  Danny Boyle\n",
      "39 \t4.21 \tThe Good Earth \n",
      "\t\t-  Sidney Franklin\n",
      "40 \t4.21 \tLa grande illusion \n",
      "\t\t-  Jean Renoir\n",
      "41 \t4.21 \tFor All Mankind \n",
      "\t\t-  Al Reinert\n",
      "42 \t4.20 \tThe Red Shoes \n",
      "\t\t-  Michael Powell\n",
      "43 \t4.20 \tLa meglio giovent� \n",
      "\t\t-  Marco Tullio Giordana\n",
      "44 \t4.20 \tLa battaglia di Algeri \n",
      "\t\t-  Gillo Pontecorvo\n",
      "45 \t4.20 \tShichinin no samurai \n",
      "\t\t-  Akira Kurosawa\n",
      "46 \t4.19 \tFesten \n",
      "\t\t-  Thomas Vinterberg\n",
      "47 \t4.19 \tLa notte \n",
      "\t\t-  Michelangelo Antonioni\n",
      "48 \t4.19 \tY�jinb� \n",
      "\t\t-  Akira Kurosawa\n",
      "49 \t4.19 \tL�t den r�tte komma in \n",
      "\t\t-  Tomas Alfredson\n",
      "50 \t4.19 \tThe Thin Man \n",
      "\t\t-  W.S. Van Dyke\n"
     ]
    }
   ],
   "source": [
    "ratings = user_ratedmovies_train.groupby(['movieID'])\n",
    "\n",
    "# Only select movies with more than ten ratings, to avoid the problem where\n",
    "# a small number of positive ratings ruins everything.\n",
    "wellrated = ratings.mean()['rating'][(ratings.count()['rating'] > 10)]\n",
    "highrated = wellrated.nlargest(50)\n",
    "vals = highrated.index.values\n",
    "\n",
    "for i in xrange(len(vals)):\n",
    "    score = \"{0:.2f}\".format(highrated[vals[i]])\n",
    "    title =  movies[movies['id'] == vals[i]]['title'].values[0]\n",
    "    director = directors[directors['movieID'] == vals[i]]['directorName'].values[0]\n",
    "    print i+1, '\\t', score, '\\t', title, '\\n\\t\\t- ', director"
   ]
  },
  {
   "cell_type": "markdown",
   "metadata": {
    "collapsed": true
   },
   "source": [
    "# Recommender System\n",
    "\n",
    "We start by splitting up our available data into training and test data and defining some helper functions."
   ]
  },
  {
   "cell_type": "markdown",
   "metadata": {},
   "source": [
    "# Matrix Factorization\n",
    "\n",
    "We represent the ratings already given by the users as a sparsely observed matrix, which we want to approximate by the product of two low-rank fully\n",
    "observed matrices. Then, to get the predicted rating for a user/movie pair,\n",
    "we simply take the dot product of the appropriate row and column. \n",
    "\n",
    "Since the test pairs are given as (user, movie) pairs, we let the users be the rows, while the movies are the columns. So the (i,j)th entry of the full matrix is the rating given by the i-th userID for the j-th movieID. \n",
    "\n",
    "The matrix dimensions are significantly larger than (number of users) x (number of movies), since the userIDs and movieIDs both get larger than that.\n",
    "\n",
    "In this case, the rank of the decomposition matrices represents the number of \n",
    "latent features we are using for the approximation.\n",
    "\n",
    "We use a gradient descent method and also add a regularization term to minimize the norm of the decomposition matrices and avoid overfitting.\n",
    "\n",
    "\n",
    "\n",
    "We also notice that the minimum rating a user can give in this case is 0.5,\n",
    "so we may use a sparse matrix whose non-observed entries are stored as zeros.\n",
    "\n",
    "We test the model for rank 1 and rank 3 approximations, and for both 10 and 50 steps of the gradient descent method (50 steps only in the rank 1 case)\n",
    "\n",
    "\n",
    "Source: http://www.quuxlabs.com/blog/2010/09/matrix-factorization-a-simple-tutorial-and-implementation-in-python/"
   ]
  },
  {
   "cell_type": "code",
   "execution_count": 77,
   "metadata": {
    "collapsed": false
   },
   "outputs": [],
   "source": [
    "# Lower RMSE values are better. \n",
    "def RMSE(predicted_ratings, true_ratings):\n",
    "    return np.sqrt(np.mean( (predicted_ratings - true_ratings)**2 ))\n",
    "\n",
    "def test_split(data, n):\n",
    "    \"\"\" \n",
    "    Return randomly chosen test_data, train_data from a Pandas DataFrame,\n",
    "    where test_data contains n values.\n",
    "    \"\"\"\n",
    "    all_inds = np.random.permutation(range(0,len(data)))\n",
    "    \n",
    "    return data.iloc[all_inds[:n]], data.iloc[all_inds[n:]]\n",
    "\n",
    "def factorize(R, P, Q, K, maxiters, alpha, beta):\n",
    "    \"\"\"\n",
    "    Get a low-rank approximation of the partially observed matrix R using\n",
    "    the initial guesses P and Q, both of rank k. Run the algorithm for a \n",
    "    maximum of maxiters steps.\n",
    "    \n",
    "    alpha represents the step size to use for gradient descent and \n",
    "    \"\"\"\n",
    "    Q = Q.T\n",
    "    \n",
    "    for step in xrange(maxiters):\n",
    "        print step, '\\r'\n",
    "        # Iterate over the explicitly stored entries in R\n",
    "        for n in xrange(R.nnz):\n",
    "            i, j, data = R.row[n], R.col[n], R.data[n]\n",
    "            \n",
    "            # Get the difference between the actual and predicted value\n",
    "            # for the user, movie pairing\n",
    "            eij = data - np.dot(P[i,:],Q[:,j])\n",
    "            \n",
    "            for k in xrange(K):\n",
    "                P[i,k] += alpha*(2*eij*Q[k,j] - beta*P[i,k])\n",
    "                Q[k,j] += alpha*(2*eij*P[i,k] - beta*Q[k,j])\n",
    "        \n",
    "        \"\"\"\n",
    "        eR = np.dot(P,Q)\n",
    "        e = 0\n",
    "        for n in xrange(R.nnz):\n",
    "            i, j, data = R.row[n], R.col[n], R.data[n]\n",
    "            \n",
    "            e += (data - np.dot(P[i,:],Q[:,j]))**2\n",
    "            for k in xrange(K):\n",
    "                e += beta/2 * (P[i,k]**2 + Q[k,j]**2)\n",
    "        if e < 0.001:\n",
    "            break\n",
    "        \"\"\"\n",
    "    return P, Q.T\n",
    "\n",
    "def run_factorization(R, k, alpha, beta):\n",
    "    \"\"\"\n",
    "    Run the matrix factorization on R of rank k with given parameters.\n",
    "    \"\"\"\n",
    "    \n",
    "   \n",
    "    \"\"\"\n",
    "    I'm leaving this code in to show you what I wasted like an hour and a \n",
    "    half on.\n",
    "    \n",
    "    I thought this would be a good idea, before I realized how absolutely \n",
    "    huge this stupid matrix is. It took several memory errors to realize.\n",
    "    \n",
    "    # First, we get what should be a reasonable initial guess for P and Q\n",
    "    # by filling in the zero entries of R with the average rating for the\n",
    "    # each movie and then taking the rank k SVD approximation.\n",
    "    #avg_ratings = np.tile(np.nanmean(np.where(A>0, A, np.nan),0), (A.shape[0],1))\n",
    "    #R0 = np.putmask(A, A==0, avg_ratings)\n",
    "    A = R.toarray()\n",
    "    for j in xrange(A.shape[1]):\n",
    "        col_sum = np.sum(A[:,j])\n",
    "        col_num = np.count_nonzero(A[:,j])\n",
    "        mean = col_sum/max(col_num,1)\n",
    "        for i in xrange(A.shape[0]):\n",
    "            if A[i,j] == 0:\n",
    "                A[i,j] = mean\n",
    "    print A.shape\n",
    "    print np.count_nonzero(A)\n",
    "    #U, s, Vh = la.svd(R0, full_matrices=False)\n",
    "    \n",
    "    #print np.dot(U,np.diag(s)).shape, Vh.shape\n",
    "    \"\"\"\n",
    "    M, N = R.shape\n",
    "    print M, N\n",
    "    \n",
    "    # For our initial guess, we fill P and Q randomly\n",
    "    P = np.random.rand(M,k)\n",
    "    Q = np.random.rand(N,k)\n",
    "    \n",
    "    P, Q = factorize(R, P, Q, k, 50, alpha, beta)\n",
    "    \n",
    "    return P, Q\n",
    "    \n",
    "# The minimum rating possible for a user to give\n",
    "#print min(user_ratedmovies_train.groupby(['userID']).min()['rating'])\n",
    "    \n",
    "# Split the data into test and training data\n",
    "test_ur, ur = test_split(user_ratedmovies_train, 85000)\n",
    "\n",
    "# There's a really large discrepancy between the number of unique userIDs and\n",
    "# the value of the userIDs. I spent probably at least an hour trying to figure out\n",
    "# how to take advantage of this to make the R matrix smaller, but wasn't able to \n",
    "# get it to work.\n",
    "#user_inds = np.unique(ur['userID'])\n",
    "#movie_inds = np.unique(ur['movieID'])\n",
    "\n",
    "#print user_inds\n",
    "R = coo_matrix((ur['rating'], (ur['userID'], ur['movieID'])))\n",
    "#print R.nnz\n",
    "#print R.shape\n",
    "\n",
    "#2113 users\n",
    "#10197 movies\n",
    "#print len(np.unique(np.array(ur['userID'])))\n",
    "#print len(np.unique(np.array(ur['movieID'])))\n",
    "\n",
    "# 71534 is highest userID\n",
    "# 65133 is highest movieID\n",
    "#print max(ur['userID'])\n",
    "#print max(ur['movieID'])\n",
    "\n",
    "\n",
    "#print R.shape\n",
    "#print R.nnz\n",
    "#for k in xrange(100):\n",
    "#    print R.row[k], R.col[k], R.data[k]"
   ]
  },
  {
   "cell_type": "code",
   "execution_count": 79,
   "metadata": {
    "collapsed": false
   },
   "outputs": [
    {
     "name": "stdout",
     "output_type": "stream",
     "text": [
      "71535 65134\n",
      "0 \n",
      "1 \n",
      "2 \n",
      "3 \n",
      "4 \n",
      "5 \n",
      "6 \n",
      "7 \n",
      "8 \n",
      "9 \n",
      "10 \n",
      "11 \n",
      "12 \n",
      "13 \n",
      "14 \n",
      "15 \n",
      "16 \n",
      "17 \n",
      "18 \n",
      "19 \n",
      "20 \n",
      "21 \n",
      "22 \n",
      "23 \n",
      "24 \n",
      "25 \n",
      "26 \n",
      "27 \n",
      "28 \n",
      "29 \n",
      "30 \n",
      "31 \n",
      "32 \n",
      "33 \n",
      "34 \n",
      "35 \n",
      "36 \n",
      "37 \n",
      "38 \n",
      "39 \n",
      "40 \n",
      "41 \n",
      "42 \n",
      "43 \n",
      "44 \n",
      "45 \n",
      "46 \n",
      "47 \n",
      "48 \n",
      "49 \n"
     ]
    }
   ],
   "source": [
    "P, Q = run_factorization(R, 3, 0.0002, 0.02)"
   ]
  },
  {
   "cell_type": "code",
   "execution_count": 81,
   "metadata": {
    "collapsed": false
   },
   "outputs": [
    {
     "name": "stdout",
     "output_type": "stream",
     "text": [
      "[ 3.51859029  4.2434424   2.53145484  3.99177101  4.1313412   3.89920413\n",
      "  2.90090718  3.08222065  3.3711909   3.11034704]\n",
      "[ 3.   4.5  2.   4.5  3.   4.5  3.   3.5  3.   4. ]\n",
      "0.830101598906\n",
      "0.816903364411\n"
     ]
    }
   ],
   "source": [
    "# Test for 50 steps of gradient descent with rank 3\n",
    "\n",
    "predictions = np.zeros(85000)\n",
    "test_users = np.array(test_ur['userID'])\n",
    "test_movies = np.array(test_ur['movieID'])\n",
    "\n",
    "for i in xrange(85000):\n",
    "    predictions[i] = np.dot(P[test_users[i],:], Q[test_movies[i],:])\n",
    "        \n",
    "print predictions[:10]\n",
    "print np.array(test_ur['rating'])[:10]\n",
    "print RMSE(predictions, np.array(test_ur['rating']))\n",
    "\n",
    "predictions = np.zeros(85000)\n",
    "test_users = np.array(ur['userID'])\n",
    "test_movies = np.array(ur['movieID'])\n",
    "\n",
    "for i in xrange(85000):\n",
    "    predictions[i] = np.dot(P[test_users[i],:], Q[test_movies[i],:])\n",
    "        \n",
    "print RMSE(predictions, np.array(ur['rating'])[:85000])"
   ]
  },
  {
   "cell_type": "code",
   "execution_count": 76,
   "metadata": {
    "collapsed": false
   },
   "outputs": [
    {
     "name": "stdout",
     "output_type": "stream",
     "text": [
      "[ 4.47499303  3.64720749  3.68271182  3.89148014  3.36126715  4.06508144\n",
      "  3.6246218   2.92185026  2.2660899   3.68193234]\n",
      "[ 4.5  3.5  3.5  4.   2.   3.5  4.   2.   3.5  4. ]\n",
      "0.973789077009\n",
      "0.971566944793\n"
     ]
    }
   ],
   "source": [
    "# Test for 10 steps of gradient descent with rank 3\n",
    "\n",
    "predictions = np.zeros(85000)\n",
    "test_users = np.array(test_ur['userID'])\n",
    "test_movies = np.array(test_ur['movieID'])\n",
    "\n",
    "for i in xrange(85000):\n",
    "    predictions[i] = np.dot(P[test_users[i],:], Q[test_movies[i],:])\n",
    "        \n",
    "print predictions[:10]\n",
    "print np.array(test_ur['rating'])[:10]\n",
    "print RMSE(predictions, np.array(test_ur['rating']))\n",
    "\n",
    "predictions = np.zeros(85000)\n",
    "test_users = np.array(ur['userID'])\n",
    "test_movies = np.array(ur['movieID'])\n",
    "\n",
    "for i in xrange(85000):\n",
    "    predictions[i] = np.dot(P[test_users[i],:], Q[test_movies[i],:])\n",
    "        \n",
    "print RMSE(predictions, np.array(ur['rating'])[:85000])"
   ]
  },
  {
   "cell_type": "code",
   "execution_count": 71,
   "metadata": {
    "collapsed": false
   },
   "outputs": [
    {
     "name": "stdout",
     "output_type": "stream",
     "text": [
      "[ 3.08297196  4.4057901   3.00362188  3.32425548  4.27550272  3.0932112\n",
      "  3.39027094  2.97980586  1.7792327   2.94543019]\n",
      "[ 3.5  4.5  4.   4.   4.5  2.5  5.   3.   2.   3.5]\n",
      "0.851666219351\n",
      "0.830919084052\n"
     ]
    }
   ],
   "source": [
    "# Test for 50 steps of gradient descent with rank 1\n",
    "\n",
    "predictions = np.zeros(85000)\n",
    "test_users = np.array(test_ur['userID'])\n",
    "test_movies = np.array(test_ur['movieID'])\n",
    "\n",
    "for i in xrange(85000):\n",
    "    predictions[i] = np.dot(P[test_users[i],:], Q[test_movies[i],:])\n",
    "        \n",
    "print predictions[:10]\n",
    "print np.array(test_ur['rating'])[:10]\n",
    "print RMSE(predictions, np.array(test_ur['rating']))\n",
    "\n",
    "predictions = np.zeros(85000)\n",
    "test_users = np.array(ur['userID'])\n",
    "test_movies = np.array(ur['movieID'])\n",
    "\n",
    "for i in xrange(85000):\n",
    "    predictions[i] = np.dot(P[test_users[i],:], Q[test_movies[i],:])\n",
    "        \n",
    "print RMSE(predictions, np.array(ur['rating'])[:85000])"
   ]
  },
  {
   "cell_type": "code",
   "execution_count": 68,
   "metadata": {
    "collapsed": false
   },
   "outputs": [
    {
     "name": "stdout",
     "output_type": "stream",
     "text": [
      "[ 3.79425981  3.38676675  2.62707037  3.16887956  3.32167482  3.03474408\n",
      "  1.80070424  3.11825701  3.67749538  3.71131899]\n",
      "[ 3.   2.5  4.   3.   4.   3.5  4.   4.   4.   4. ]\n",
      "1.12297627619\n"
     ]
    }
   ],
   "source": [
    "# Test for only 10 steps of gradient descent with rank 1\n",
    "\n",
    "predictions = np.zeros(85000)\n",
    "test_users = np.array(test_ur['userID'])\n",
    "test_movies = np.array(test_ur['movieID'])\n",
    "\n",
    "for i in xrange(85000):\n",
    "    predictions[i] = np.dot(P[test_users[i],:], Q[test_movies[i],:])\n",
    "        \n",
    "print predictions[:10]\n",
    "print np.array(test_ur['rating'])[:10]\n",
    "print RMSE(predictions, np.array(test_ur['rating']))\n"
   ]
  },
  {
   "cell_type": "markdown",
   "metadata": {},
   "source": [
    "For my private test/training split, my final RMSE for the various parameters was as follows:\n",
    "* 1.122 for 10 steps of gradient descent with a rank 1 approximation\n",
    "* 0.851 for 50 steps of gradient descent with a rank 1 approximation\n",
    "* 0.973 for 10 steps of gradient descent with a rank 3 approximation\n",
    "* 0.830 for 50 steps of gradient descent with a rank 3 approximation\n",
    "\n",
    "From these results, it looks like the higher rank approximation converges more quickly, but when run for a higher number of steps, it doesn't do much better than the rank 1 approximation.\n",
    "\n",
    "I noticed when writing my code that it was incredibly easy to run into memory errors. The matrix factorization tutorial I based my code on used 3000 steps of gradient descent, multiplied matrices willy-nilly, and also used a convergence condition to see if it needed to break early. This was not at all feasible for this dataset. For matrices this large, finding the error term used to determine convergence is too computationally expensive and requires too much memory to be worth the effort, so I chose to ignore that part of the algorithm and simply run the descent for a fixed number of steps. This made things MUCH faster.\n",
    "\n",
    "To check for overfitting, I checked the RMSE value for the first 85000 ratings in the training set and compared it to the RMSE for the test data. For the test with 10 steps of gradient descent and a rank 1 approximation, I got an RMSE of 0.851 for my test data and 0.830 for my training data. Likewise, when I ran 10 steps of gradient descent with a rank 3 approximation, I got 0.973 and 0.971. Since the accuracy of the predictions for the training data was not very different from the accuracy for the test data, I know I'm not overfitting.\n",
    "\n",
    "Since my algorithm can produce better results simply by varying parameters (and making it take longer to run), and my results are comparable/better to those my classmates were discussing on slack, I am using the first one for my submission. It's also taking a fairly reasonable amount of time to run. Not fast, the 50 step rank 3 approximation took about 20 minutes, but that's really not terrible compared to some of the other labs we've done.\n",
    "\n",
    "I would have tried Naive Bayes, but I chose to try matrix factorization first and definitely didn't have enough time to do Naive Bayes as well.\n",
    "\n",
    "I am generating the prediction using the rank 3 approximation with 50 steps of gradient descent, since this combination of parameters gave the best RMSE result."
   ]
  },
  {
   "cell_type": "code",
   "execution_count": 85,
   "metadata": {
    "collapsed": false
   },
   "outputs": [
    {
     "name": "stdout",
     "output_type": "stream",
     "text": [
      "[ 3.81616371  3.54792389  3.11359596  4.57094979  3.91874075  1.58124342\n",
      "  3.94818223  3.34423614  1.95681782  3.85139168]\n"
     ]
    }
   ],
   "source": [
    "# Generate predictions for to_predict and save as .csv\n",
    "\n",
    "predictions = np.zeros(85000)\n",
    "test_users = np.array(to_predict['userID'])\n",
    "test_movies = np.array(to_predict['movieID'])\n",
    "\n",
    "for i in xrange(85000):\n",
    "    predictions[i] = np.dot(P[test_users[i],:], Q[test_movies[i],:])\n",
    "        \n",
    "print predictions[:10]\n",
    "output_array = np.zeros((85000,2))\n",
    "output_array[:,1] = predictions\n",
    "output_array[:,0] = np.array(to_predict['testID'])\n",
    "\n",
    "np.savetxt('predictions.csv', output_array)"
   ]
  },
  {
   "cell_type": "code",
   "execution_count": null,
   "metadata": {
    "collapsed": true
   },
   "outputs": [],
   "source": []
  }
 ],
 "metadata": {
  "kernelspec": {
   "display_name": "Python 2",
   "language": "python",
   "name": "python2"
  },
  "language_info": {
   "codemirror_mode": {
    "name": "ipython",
    "version": 2
   },
   "file_extension": ".py",
   "mimetype": "text/x-python",
   "name": "python",
   "nbconvert_exporter": "python",
   "pygments_lexer": "ipython2",
   "version": "2.7.13"
  }
 },
 "nbformat": 4,
 "nbformat_minor": 0
}
